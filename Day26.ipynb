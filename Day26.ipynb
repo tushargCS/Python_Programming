{
 "cells": [
  {
   "cell_type": "markdown",
   "id": "a9777965",
   "metadata": {},
   "source": [
    "<h1 style=\"font-size:50px; color:red\">Build GUI using python</h1>"
   ]
  },
  {
   "cell_type": "code",
   "execution_count": 9,
   "id": "de7bb892",
   "metadata": {},
   "outputs": [],
   "source": [
    "from tkinter import *\n",
    "from PIL import ImageTk, Image\n",
    "from tkinter import messagebox\n",
    "\n",
    "def handle_login():\n",
    "    email = email_input.get()\n",
    "    password = password_input.get()\n",
    "    if email=='y' and password=='1':\n",
    "        messagebox.showinfo('Login successful')\n",
    "    else:\n",
    "        messagebox.showerror('Error','Login Failed')\n",
    "\n",
    "root = Tk()\n",
    "root.title('Login Form')\n",
    "root.geometry('350x500')\n",
    "root.configure(background=\"#0096DC\")\n",
    "\n",
    "img = Image.open(\"flipkart-icon.png\")\n",
    "resized_img = img.resize((70,70))\n",
    "img = ImageTk.PhotoImage(resized_img)\n",
    "\n",
    "img_label = Label(root, image=img)\n",
    "img_label.pack(pady=(10,10))\n",
    "\n",
    "\n",
    "text_label = Label(root,text='Flipkart',fg='white',bg='#0096DC')\n",
    "text_label.pack()\n",
    "text_label.config(font=('verdana',24))\n",
    "\n",
    "email_label = Label(root,text='Enter Email',fg='white',bg='#0096DC')\n",
    "email_label.pack(pady=(20,5))\n",
    "email_label.config(font=('verdana',12))\n",
    "\n",
    "email_input = Entry(root,width=50)\n",
    "email_input.pack(ipady=6,pady=(1,15))\n",
    "\n",
    "password_label = Label(root,text='Enter password',fg='white',bg='#0096DC')\n",
    "password_label.pack(pady=(20,5))\n",
    "password_label.config(font=('verdana',12))\n",
    "\n",
    "password_input = Entry(root,width=50)\n",
    "password_input.pack(ipady=6,pady=(1,15))\n",
    "\n",
    "login_btn = Button(root,text='Login',bg='white',fg='black',width=20,height=2,command=handle_login)\n",
    "login_btn.pack(pady=(10,20))\n",
    "login_btn.config(font=('verdana',10))\n",
    "\n",
    "root.mainloop()"
   ]
  },
  {
   "cell_type": "code",
   "execution_count": null,
   "id": "9c414f85",
   "metadata": {},
   "outputs": [],
   "source": []
  }
 ],
 "metadata": {
  "kernelspec": {
   "display_name": "Python 3 (ipykernel)",
   "language": "python",
   "name": "python3"
  },
  "language_info": {
   "codemirror_mode": {
    "name": "ipython",
    "version": 3
   },
   "file_extension": ".py",
   "mimetype": "text/x-python",
   "name": "python",
   "nbconvert_exporter": "python",
   "pygments_lexer": "ipython3",
   "version": "3.9.13"
  }
 },
 "nbformat": 4,
 "nbformat_minor": 5
}
