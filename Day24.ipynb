{
 "cells": [
  {
   "cell_type": "markdown",
   "id": "7948fd84",
   "metadata": {},
   "source": [
    "<h1 style=\"font-size:50px; color: red\">Iteration</h1>"
   ]
  },
  {
   "cell_type": "markdown",
   "id": "6bc00d03",
   "metadata": {},
   "source": [
    "### Iteration is a general term for taking each item of something, one after another. Any time you use a loop, explicit or implicit, to go over a group of items, that is iteration"
   ]
  },
  {
   "cell_type": "code",
   "execution_count": 3,
   "id": "4ba229c9",
   "metadata": {},
   "outputs": [
    {
     "name": "stdout",
     "output_type": "stream",
     "text": [
      "1\n",
      "2\n",
      "3\n"
     ]
    }
   ],
   "source": [
    "for i in [1,2,3]:\n",
    "    print(i)"
   ]
  },
  {
   "cell_type": "markdown",
   "id": "fd2032a7",
   "metadata": {},
   "source": [
    "<h1 style=\"font-size:50px; color: red\">Iterator</h1>"
   ]
  },
  {
   "cell_type": "markdown",
   "id": "d898fb66",
   "metadata": {},
   "source": [
    "### An Iterator is an object that allows the programmer to traverse through a sequence of data without having to store the entire data in the memory"
   ]
  },
  {
   "cell_type": "code",
   "execution_count": 9,
   "id": "119c6287",
   "metadata": {},
   "outputs": [],
   "source": [
    "# example\n",
    "\n",
    "l = [x for x in range(1,100000)]\n",
    "for i in l:\n",
    "    i*2"
   ]
  },
  {
   "cell_type": "code",
   "execution_count": 11,
   "id": "57fae4e7",
   "metadata": {},
   "outputs": [
    {
     "data": {
      "text/plain": [
       "782.2109375"
      ]
     },
     "execution_count": 11,
     "metadata": {},
     "output_type": "execute_result"
    }
   ],
   "source": [
    "import sys\n",
    "sys.getsizeof(l)/1024"
   ]
  },
  {
   "cell_type": "code",
   "execution_count": 12,
   "id": "8b71ff23",
   "metadata": {},
   "outputs": [
    {
     "data": {
      "text/plain": [
       "0.046875"
      ]
     },
     "execution_count": 12,
     "metadata": {},
     "output_type": "execute_result"
    }
   ],
   "source": [
    "x = range(1,100000)\n",
    "sys.getsizeof(x)/1024"
   ]
  },
  {
   "cell_type": "markdown",
   "id": "be64a197",
   "metadata": {},
   "source": [
    "<h1 style=\"font-size:50px; color: red\">Iterable</h1>"
   ]
  },
  {
   "cell_type": "code",
   "execution_count": 1,
   "id": "c300bde5",
   "metadata": {},
   "outputs": [],
   "source": [
    "# it is an object, which one can iterate over\n",
    "# it generates an Iterator when passed to iter() method"
   ]
  },
  {
   "cell_type": "code",
   "execution_count": 15,
   "id": "f792d063",
   "metadata": {},
   "outputs": [
    {
     "data": {
      "text/plain": [
       "list"
      ]
     },
     "execution_count": 15,
     "metadata": {},
     "output_type": "execute_result"
    }
   ],
   "source": [
    "#example\n",
    "\n",
    "l = [1,2,3]\n",
    "type(l)"
   ]
  },
  {
   "cell_type": "code",
   "execution_count": 16,
   "id": "3f9b7a6e",
   "metadata": {},
   "outputs": [
    {
     "data": {
      "text/plain": [
       "list_iterator"
      ]
     },
     "execution_count": 16,
     "metadata": {},
     "output_type": "execute_result"
    }
   ],
   "source": [
    "type(iter(l))"
   ]
  },
  {
   "cell_type": "markdown",
   "id": "34953f58",
   "metadata": {},
   "source": [
    "<h1 style=\"font-size:25px; color: #E48400\">point of remember</h1>"
   ]
  },
  {
   "cell_type": "code",
   "execution_count": 2,
   "id": "5380a1a6",
   "metadata": {},
   "outputs": [],
   "source": [
    "# Every Iterator is also Iterable\n",
    "# Not all Iterables are Iterators"
   ]
  },
  {
   "cell_type": "code",
   "execution_count": 3,
   "id": "83aa762b",
   "metadata": {},
   "outputs": [],
   "source": [
    "# Iterable has iter function\n",
    "# Iterator has iter also with next function "
   ]
  },
  {
   "cell_type": "code",
   "execution_count": 18,
   "id": "59f32a8d",
   "metadata": {},
   "outputs": [
    {
     "data": {
      "text/plain": [
       "['__add__',\n",
       " '__class__',\n",
       " '__class_getitem__',\n",
       " '__contains__',\n",
       " '__delattr__',\n",
       " '__delitem__',\n",
       " '__dir__',\n",
       " '__doc__',\n",
       " '__eq__',\n",
       " '__format__',\n",
       " '__ge__',\n",
       " '__getattribute__',\n",
       " '__getitem__',\n",
       " '__gt__',\n",
       " '__hash__',\n",
       " '__iadd__',\n",
       " '__imul__',\n",
       " '__init__',\n",
       " '__init_subclass__',\n",
       " '__iter__',\n",
       " '__le__',\n",
       " '__len__',\n",
       " '__lt__',\n",
       " '__mul__',\n",
       " '__ne__',\n",
       " '__new__',\n",
       " '__reduce__',\n",
       " '__reduce_ex__',\n",
       " '__repr__',\n",
       " '__reversed__',\n",
       " '__rmul__',\n",
       " '__setattr__',\n",
       " '__setitem__',\n",
       " '__sizeof__',\n",
       " '__str__',\n",
       " '__subclasshook__',\n",
       " 'append',\n",
       " 'clear',\n",
       " 'copy',\n",
       " 'count',\n",
       " 'extend',\n",
       " 'index',\n",
       " 'insert',\n",
       " 'pop',\n",
       " 'remove',\n",
       " 'reverse',\n",
       " 'sort']"
      ]
     },
     "execution_count": 18,
     "metadata": {},
     "output_type": "execute_result"
    }
   ],
   "source": [
    "# you can check it using dir() function\n",
    "dir([1,2,3]) # this is iterable"
   ]
  },
  {
   "cell_type": "code",
   "execution_count": 19,
   "id": "1b0da1e8",
   "metadata": {},
   "outputs": [
    {
     "data": {
      "text/plain": [
       "['__class__',\n",
       " '__delattr__',\n",
       " '__dir__',\n",
       " '__doc__',\n",
       " '__eq__',\n",
       " '__format__',\n",
       " '__ge__',\n",
       " '__getattribute__',\n",
       " '__gt__',\n",
       " '__hash__',\n",
       " '__init__',\n",
       " '__init_subclass__',\n",
       " '__iter__',\n",
       " '__le__',\n",
       " '__length_hint__',\n",
       " '__lt__',\n",
       " '__ne__',\n",
       " '__new__',\n",
       " '__next__',\n",
       " '__reduce__',\n",
       " '__reduce_ex__',\n",
       " '__repr__',\n",
       " '__setattr__',\n",
       " '__setstate__',\n",
       " '__sizeof__',\n",
       " '__str__',\n",
       " '__subclasshook__']"
      ]
     },
     "execution_count": 19,
     "metadata": {},
     "output_type": "execute_result"
    }
   ],
   "source": [
    "dir(iter([1,2,3])) # this is Iterator"
   ]
  },
  {
   "cell_type": "markdown",
   "id": "d3bfbcb2",
   "metadata": {},
   "source": [
    "<h1 style=\"font-size:25px; color: #E48400\">loop working</h1>"
   ]
  },
  {
   "cell_type": "code",
   "execution_count": 20,
   "id": "9c984a03",
   "metadata": {},
   "outputs": [
    {
     "data": {
      "text/plain": [
       "3"
      ]
     },
     "execution_count": 20,
     "metadata": {},
     "output_type": "execute_result"
    }
   ],
   "source": [
    "num = [1,2,3]\n",
    "\n",
    "# fetch the iterator\n",
    "iter_num = iter(num)\n",
    "\n",
    "# step2 --> next\n",
    "next(iter_num)\n",
    "next(iter_num)\n",
    "next(iter_num)"
   ]
  },
  {
   "cell_type": "markdown",
   "id": "cde204f3",
   "metadata": {},
   "source": [
    "<h1 style=\"font-size:25px; color: #E48400\">Making our own Loop</h1>"
   ]
  },
  {
   "cell_type": "code",
   "execution_count": 31,
   "id": "4cf14d12",
   "metadata": {},
   "outputs": [],
   "source": [
    "def mera_khudka_for_loop(iterable):\n",
    "    iterator = iter(iterable)\n",
    "    \n",
    "    while True:\n",
    "        try:\n",
    "            print(next(iterator),end=' ')\n",
    "        except StopIteration:\n",
    "            print()\n",
    "            break"
   ]
  },
  {
   "cell_type": "code",
   "execution_count": 32,
   "id": "82b58dd5",
   "metadata": {},
   "outputs": [
    {
     "name": "stdout",
     "output_type": "stream",
     "text": [
      "1 2 3 4 \n",
      "1 2 3 4 5 6 7 8 9 10 \n",
      "1 2 3 \n",
      "1 2 3 \n",
      "0 1 \n"
     ]
    }
   ],
   "source": [
    "a = [1,2,3,4]\n",
    "b = range(1,11)\n",
    "c = (1,2,3)\n",
    "d = {1,2,3}\n",
    "e = {0:1,1:1}\n",
    "\n",
    "mera_khudka_for_loop(a)\n",
    "mera_khudka_for_loop(b)\n",
    "mera_khudka_for_loop(c)\n",
    "mera_khudka_for_loop(d)\n",
    "mera_khudka_for_loop(e)"
   ]
  },
  {
   "cell_type": "markdown",
   "id": "e5316d4e",
   "metadata": {},
   "source": [
    "<h1 style=\"font-size:25px; color: #E48400\">A confusing point</h1>"
   ]
  },
  {
   "cell_type": "code",
   "execution_count": 33,
   "id": "7fb29d4b",
   "metadata": {},
   "outputs": [
    {
     "name": "stdout",
     "output_type": "stream",
     "text": [
      "139667246498144 Address of iterator 1\n",
      "139667246498144 Address of iterator 2\n"
     ]
    }
   ],
   "source": [
    "num = [1,2,3]\n",
    "iter_obj = iter(num)\n",
    "\n",
    "print(id(iter_obj),'Address of iterator 1')\n",
    "iter_obj2 = iter(iter_obj)\n",
    "print(id(iter_obj2),'Address of iterator 2')"
   ]
  },
  {
   "cell_type": "markdown",
   "id": "aa83760f",
   "metadata": {},
   "source": [
    "<h1 style=\"font-size:25px; color: #E48400\">own Range function</h1>"
   ]
  },
  {
   "cell_type": "code",
   "execution_count": 41,
   "id": "b7da72ce",
   "metadata": {},
   "outputs": [],
   "source": [
    "class mera_range:\n",
    "    def __init__(self,start,end):\n",
    "        self.start = start\n",
    "        self.end = end\n",
    "        \n",
    "    def __iter__(self):\n",
    "        return mera_range_iterator(self)"
   ]
  },
  {
   "cell_type": "code",
   "execution_count": 42,
   "id": "0e7d5048",
   "metadata": {},
   "outputs": [],
   "source": [
    "class mera_range_iterator:\n",
    "    def __init__(self,iterable_obj):\n",
    "        self.iterable = iterable_obj\n",
    "    \n",
    "    def __iter__(self):\n",
    "        return self\n",
    "    \n",
    "    def __next__(self):\n",
    "        if self.iterable.start >= self.iterable.end:\n",
    "            raise StopIteration\n",
    "            \n",
    "        current = self.iterable.start\n",
    "        self.iterable.start += 1\n",
    "        return current"
   ]
  },
  {
   "cell_type": "code",
   "execution_count": 43,
   "id": "6d746e28",
   "metadata": {},
   "outputs": [
    {
     "name": "stdout",
     "output_type": "stream",
     "text": [
      "1 2 3 4 5 6 7 8 9 10 "
     ]
    }
   ],
   "source": [
    "for i in mera_range(1,11):\n",
    "    print(i,end=' ')"
   ]
  },
  {
   "cell_type": "code",
   "execution_count": null,
   "id": "669cf995",
   "metadata": {},
   "outputs": [],
   "source": []
  }
 ],
 "metadata": {
  "kernelspec": {
   "display_name": "Python 3 (ipykernel)",
   "language": "python",
   "name": "python3"
  },
  "language_info": {
   "codemirror_mode": {
    "name": "ipython",
    "version": 3
   },
   "file_extension": ".py",
   "mimetype": "text/x-python",
   "name": "python",
   "nbconvert_exporter": "python",
   "pygments_lexer": "ipython3",
   "version": "3.9.13"
  }
 },
 "nbformat": 4,
 "nbformat_minor": 5
}
