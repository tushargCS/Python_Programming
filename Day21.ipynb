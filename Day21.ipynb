{
 "cells": [
  {
   "cell_type": "markdown",
   "id": "3686b69a",
   "metadata": {},
   "source": [
    "<h1 style=\"font-size:50px; color: red\">Lambda Function</h1>"
   ]
  },
  {
   "cell_type": "code",
   "execution_count": 1,
   "id": "8956c8fe",
   "metadata": {},
   "outputs": [],
   "source": [
    "# This is also known as anonymous functions. \n",
    "# 1. No return value.\n",
    "# 2. One line.\n",
    "# 3. Not used for code reusability.\n",
    "# 4. No name"
   ]
  },
  {
   "cell_type": "code",
   "execution_count": null,
   "id": "bf6d31ed",
   "metadata": {},
   "outputs": [],
   "source": [
    "# Why we need to use lambda functions.\n",
    "# we use lambda functions using higher order functions.\n",
    "# higher order functions which take functions as input or return function."
   ]
  },
  {
   "cell_type": "code",
   "execution_count": 2,
   "id": "cd25bc09",
   "metadata": {},
   "outputs": [],
   "source": [
    "# syntax:\n",
    "#     lambda input: expression"
   ]
  },
  {
   "cell_type": "code",
   "execution_count": 2,
   "id": "95599db2",
   "metadata": {},
   "outputs": [],
   "source": [
    "a = lambda x:x**2"
   ]
  },
  {
   "cell_type": "code",
   "execution_count": 3,
   "id": "0349de23",
   "metadata": {},
   "outputs": [
    {
     "data": {
      "text/plain": [
       "4"
      ]
     },
     "execution_count": 3,
     "metadata": {},
     "output_type": "execute_result"
    }
   ],
   "source": [
    "a(2)"
   ]
  },
  {
   "cell_type": "code",
   "execution_count": 4,
   "id": "2ccc9e3b",
   "metadata": {},
   "outputs": [],
   "source": [
    "a = lambda x,y:x+y"
   ]
  },
  {
   "cell_type": "code",
   "execution_count": 5,
   "id": "a29bb316",
   "metadata": {},
   "outputs": [
    {
     "data": {
      "text/plain": [
       "5"
      ]
     },
     "execution_count": 5,
     "metadata": {},
     "output_type": "execute_result"
    }
   ],
   "source": [
    "a(2,3)"
   ]
  },
  {
   "cell_type": "code",
   "execution_count": 6,
   "id": "569b27ab",
   "metadata": {},
   "outputs": [],
   "source": [
    "b = lambda x:x[0]=='a'"
   ]
  },
  {
   "cell_type": "code",
   "execution_count": 7,
   "id": "b467c535",
   "metadata": {},
   "outputs": [
    {
     "data": {
      "text/plain": [
       "True"
      ]
     },
     "execution_count": 7,
     "metadata": {},
     "output_type": "execute_result"
    }
   ],
   "source": [
    "b(\"apple\")"
   ]
  },
  {
   "cell_type": "code",
   "execution_count": 9,
   "id": "beee8dda",
   "metadata": {},
   "outputs": [
    {
     "data": {
      "text/plain": [
       "False"
      ]
     },
     "execution_count": 9,
     "metadata": {},
     "output_type": "execute_result"
    }
   ],
   "source": [
    "b(\"banana\")"
   ]
  },
  {
   "cell_type": "code",
   "execution_count": 13,
   "id": "5ea4e925",
   "metadata": {},
   "outputs": [],
   "source": [
    "a = lambda x: \"Even\" if x%2==0 else \"odd\""
   ]
  },
  {
   "cell_type": "code",
   "execution_count": 14,
   "id": "75114aa1",
   "metadata": {},
   "outputs": [
    {
     "data": {
      "text/plain": [
       "'Even'"
      ]
     },
     "execution_count": 14,
     "metadata": {},
     "output_type": "execute_result"
    }
   ],
   "source": [
    "a(10)"
   ]
  },
  {
   "cell_type": "code",
   "execution_count": 15,
   "id": "78462d29",
   "metadata": {},
   "outputs": [
    {
     "data": {
      "text/plain": [
       "'odd'"
      ]
     },
     "execution_count": 15,
     "metadata": {},
     "output_type": "execute_result"
    }
   ],
   "source": [
    "a(13)"
   ]
  },
  {
   "cell_type": "markdown",
   "id": "8385319e",
   "metadata": {},
   "source": [
    "<h1 style=\"font-size:30px; color: blue\">Higher order function</h1>"
   ]
  },
  {
   "cell_type": "code",
   "execution_count": 16,
   "id": "d0615808",
   "metadata": {},
   "outputs": [],
   "source": [
    "x = lambda x:x%2==0"
   ]
  },
  {
   "cell_type": "code",
   "execution_count": 17,
   "id": "582fb0e5",
   "metadata": {},
   "outputs": [],
   "source": [
    "y = lambda x:x%2!=0"
   ]
  },
  {
   "cell_type": "code",
   "execution_count": 18,
   "id": "00fab8e8",
   "metadata": {},
   "outputs": [],
   "source": [
    "z = lambda x:x%3==0"
   ]
  },
  {
   "cell_type": "code",
   "execution_count": 19,
   "id": "199349cc",
   "metadata": {},
   "outputs": [],
   "source": [
    "def r_s(func,L):\n",
    "    result=0\n",
    "    for i in L:\n",
    "        if func(i):\n",
    "            result += i\n",
    "    return result"
   ]
  },
  {
   "cell_type": "code",
   "execution_count": 20,
   "id": "7acc54ac",
   "metadata": {},
   "outputs": [
    {
     "data": {
      "text/plain": [
       "6"
      ]
     },
     "execution_count": 20,
     "metadata": {},
     "output_type": "execute_result"
    }
   ],
   "source": [
    "r_s(x,[1,2,3,4])"
   ]
  },
  {
   "cell_type": "code",
   "execution_count": 21,
   "id": "e3c42ccd",
   "metadata": {},
   "outputs": [
    {
     "data": {
      "text/plain": [
       "4"
      ]
     },
     "execution_count": 21,
     "metadata": {},
     "output_type": "execute_result"
    }
   ],
   "source": [
    "r_s(y,[1,2,3,4])"
   ]
  },
  {
   "cell_type": "code",
   "execution_count": 22,
   "id": "15bd9efd",
   "metadata": {},
   "outputs": [
    {
     "data": {
      "text/plain": [
       "3"
      ]
     },
     "execution_count": 22,
     "metadata": {},
     "output_type": "execute_result"
    }
   ],
   "source": [
    "r_s(z,[1,2,3,4])"
   ]
  },
  {
   "cell_type": "markdown",
   "id": "4102693d",
   "metadata": {},
   "source": [
    "<h1 style=\"font-size:50px; color: red\">map()</h1>"
   ]
  },
  {
   "cell_type": "markdown",
   "id": "e03f4eac",
   "metadata": {},
   "source": [
    "### it expect iterable and function"
   ]
  },
  {
   "cell_type": "code",
   "execution_count": 28,
   "id": "16924bb3",
   "metadata": {},
   "outputs": [
    {
     "data": {
      "text/plain": [
       "<map at 0x7f28c72afd30>"
      ]
     },
     "execution_count": 28,
     "metadata": {},
     "output_type": "execute_result"
    }
   ],
   "source": [
    "l=[1,2,3,4]\n",
    "map(lambda x:x*2,l)"
   ]
  },
  {
   "cell_type": "code",
   "execution_count": 29,
   "id": "03a537d6",
   "metadata": {},
   "outputs": [
    {
     "data": {
      "text/plain": [
       "[2, 4, 6, 8]"
      ]
     },
     "execution_count": 29,
     "metadata": {},
     "output_type": "execute_result"
    }
   ],
   "source": [
    "list(map(lambda x:x*2,l))"
   ]
  },
  {
   "cell_type": "code",
   "execution_count": 30,
   "id": "bcc2652c",
   "metadata": {},
   "outputs": [
    {
     "data": {
      "text/plain": [
       "[False, True, False, True]"
      ]
     },
     "execution_count": 30,
     "metadata": {},
     "output_type": "execute_result"
    }
   ],
   "source": [
    "l=[1,2,3,4]\n",
    "list(map(lambda x:x%2==0,l))"
   ]
  },
  {
   "cell_type": "code",
   "execution_count": 31,
   "id": "54f1ca6c",
   "metadata": {},
   "outputs": [],
   "source": [
    "students = [\n",
    "    {\n",
    "        'name':'tushar',\n",
    "        'father_name':'Mr. ajeet',\n",
    "        'Address':'Meerut'\n",
    "    },\n",
    "    {\n",
    "        'name':'rahul',\n",
    "        'father_name':'rohit',\n",
    "        'Address':'Agra'\n",
    "    },\n",
    "    {\n",
    "        'name':'sunny',\n",
    "        'father_name':'Kabir',\n",
    "        'Address':'mumbai'\n",
    "    }\n",
    "]"
   ]
  },
  {
   "cell_type": "code",
   "execution_count": 33,
   "id": "648c2f98",
   "metadata": {},
   "outputs": [
    {
     "data": {
      "text/plain": [
       "['tushar', 'rahul', 'sunny']"
      ]
     },
     "execution_count": 33,
     "metadata": {},
     "output_type": "execute_result"
    }
   ],
   "source": [
    "list(map(lambda x:x['name'],students))"
   ]
  },
  {
   "cell_type": "markdown",
   "id": "b43493eb",
   "metadata": {},
   "source": [
    "<h1 style=\"font-size:50px; color: red\">filter()</h1>"
   ]
  },
  {
   "cell_type": "code",
   "execution_count": 36,
   "id": "827c8f00",
   "metadata": {},
   "outputs": [
    {
     "data": {
      "text/plain": [
       "[5, 6, 7]"
      ]
     },
     "execution_count": 36,
     "metadata": {},
     "output_type": "execute_result"
    }
   ],
   "source": [
    "l = [1,2,3,4,5,6,7]\n",
    "list(filter(lambda x:x>4,l))"
   ]
  },
  {
   "cell_type": "code",
   "execution_count": 38,
   "id": "1a0d8c66",
   "metadata": {},
   "outputs": [
    {
     "data": {
      "text/plain": [
       "['apple', 'orange']"
      ]
     },
     "execution_count": 38,
     "metadata": {},
     "output_type": "execute_result"
    }
   ],
   "source": [
    "f = ['apple','orange','mango','guava']\n",
    "list(filter(lambda x:'e' in x,f))"
   ]
  },
  {
   "cell_type": "markdown",
   "id": "503800fe",
   "metadata": {},
   "source": [
    "<h1 style=\"font-size:50px; color: red\">reduce()</h1>"
   ]
  },
  {
   "cell_type": "code",
   "execution_count": 43,
   "id": "51e0d3a9",
   "metadata": {},
   "outputs": [
    {
     "data": {
      "text/plain": [
       "10"
      ]
     },
     "execution_count": 43,
     "metadata": {},
     "output_type": "execute_result"
    }
   ],
   "source": [
    "import functools\n",
    "l = [1,2,3,4]\n",
    "functools.reduce(lambda x,y:x+y,l)"
   ]
  },
  {
   "cell_type": "code",
   "execution_count": 44,
   "id": "69067f75",
   "metadata": {},
   "outputs": [
    {
     "data": {
      "text/plain": [
       "4"
      ]
     },
     "execution_count": 44,
     "metadata": {},
     "output_type": "execute_result"
    }
   ],
   "source": [
    "functools.reduce(lambda x,y:x if x>y else y,l)"
   ]
  },
  {
   "cell_type": "markdown",
   "id": "0b8202ed",
   "metadata": {},
   "source": [
    "<h1 style=\"font-size:50px; color: red\">List Comprehension</h1>"
   ]
  },
  {
   "cell_type": "code",
   "execution_count": 45,
   "id": "86f13cbf",
   "metadata": {},
   "outputs": [],
   "source": [
    "l2 = [1,2,3,4]\n",
    "l1 = [i*2 for i in l2]"
   ]
  },
  {
   "cell_type": "code",
   "execution_count": 46,
   "id": "6f9abda5",
   "metadata": {},
   "outputs": [
    {
     "data": {
      "text/plain": [
       "[2, 4, 6, 8]"
      ]
     },
     "execution_count": 46,
     "metadata": {},
     "output_type": "execute_result"
    }
   ],
   "source": [
    "l1"
   ]
  },
  {
   "cell_type": "code",
   "execution_count": 47,
   "id": "d9bd2f29",
   "metadata": {},
   "outputs": [],
   "source": [
    "l1 = [i**2 for i in range(10)]"
   ]
  },
  {
   "cell_type": "code",
   "execution_count": 48,
   "id": "29853e4d",
   "metadata": {},
   "outputs": [
    {
     "data": {
      "text/plain": [
       "[0, 1, 4, 9, 16, 25, 36, 49, 64, 81]"
      ]
     },
     "execution_count": 48,
     "metadata": {},
     "output_type": "execute_result"
    }
   ],
   "source": [
    "l1"
   ]
  },
  {
   "cell_type": "code",
   "execution_count": 55,
   "id": "f05c582e",
   "metadata": {},
   "outputs": [],
   "source": [
    "l1 = [i**2 if i%2!=0 else i for i in range(10)]"
   ]
  },
  {
   "cell_type": "code",
   "execution_count": 56,
   "id": "0ab0629f",
   "metadata": {},
   "outputs": [
    {
     "data": {
      "text/plain": [
       "[0, 1, 2, 9, 4, 25, 6, 49, 8, 81]"
      ]
     },
     "execution_count": 56,
     "metadata": {},
     "output_type": "execute_result"
    }
   ],
   "source": [
    "l1"
   ]
  },
  {
   "cell_type": "code",
   "execution_count": 57,
   "id": "956af9e2",
   "metadata": {},
   "outputs": [],
   "source": [
    "l = ['apple','orange','guawa','banana']\n",
    "l2 = [f for f in l if f[0]=='a']"
   ]
  },
  {
   "cell_type": "code",
   "execution_count": 58,
   "id": "100b0907",
   "metadata": {},
   "outputs": [
    {
     "data": {
      "text/plain": [
       "['apple']"
      ]
     },
     "execution_count": 58,
     "metadata": {},
     "output_type": "execute_result"
    }
   ],
   "source": [
    "l2"
   ]
  },
  {
   "cell_type": "markdown",
   "id": "c1298d55",
   "metadata": {},
   "source": [
    "<h1 style=\"font-size:50px; color: red\">dict Comprehension</h1>"
   ]
  },
  {
   "cell_type": "code",
   "execution_count": 59,
   "id": "5f6c0818",
   "metadata": {},
   "outputs": [],
   "source": [
    "d = {'name':'tushar','age':20,'gender':'male'}"
   ]
  },
  {
   "cell_type": "code",
   "execution_count": 60,
   "id": "e11c10ad",
   "metadata": {},
   "outputs": [
    {
     "data": {
      "text/plain": [
       "dict_items([('name', 'tushar'), ('age', 20), ('gender', 'male')])"
      ]
     },
     "execution_count": 60,
     "metadata": {},
     "output_type": "execute_result"
    }
   ],
   "source": [
    "d.items()"
   ]
  },
  {
   "cell_type": "code",
   "execution_count": 62,
   "id": "76dc3b54",
   "metadata": {},
   "outputs": [],
   "source": [
    "d1 = {key:value for key,value in d.items() if len(key)>3}"
   ]
  },
  {
   "cell_type": "code",
   "execution_count": 63,
   "id": "dfd25ca1",
   "metadata": {},
   "outputs": [
    {
     "data": {
      "text/plain": [
       "{'name': 'tushar', 'gender': 'male'}"
      ]
     },
     "execution_count": 63,
     "metadata": {},
     "output_type": "execute_result"
    }
   ],
   "source": [
    "d1"
   ]
  },
  {
   "cell_type": "code",
   "execution_count": 64,
   "id": "f71cb867",
   "metadata": {},
   "outputs": [
    {
     "data": {
      "text/plain": [
       "{1: 1, 2: 4, 3: 9, 4: 16}"
      ]
     },
     "execution_count": 64,
     "metadata": {},
     "output_type": "execute_result"
    }
   ],
   "source": [
    "l=[1,2,3,4]\n",
    "d = {i:i**2 for i in l}\n",
    "d"
   ]
  },
  {
   "cell_type": "code",
   "execution_count": null,
   "id": "76285739",
   "metadata": {},
   "outputs": [],
   "source": []
  }
 ],
 "metadata": {
  "kernelspec": {
   "display_name": "Python 3 (ipykernel)",
   "language": "python",
   "name": "python3"
  },
  "language_info": {
   "codemirror_mode": {
    "name": "ipython",
    "version": 3
   },
   "file_extension": ".py",
   "mimetype": "text/x-python",
   "name": "python",
   "nbconvert_exporter": "python",
   "pygments_lexer": "ipython3",
   "version": "3.9.13"
  }
 },
 "nbformat": 4,
 "nbformat_minor": 5
}
