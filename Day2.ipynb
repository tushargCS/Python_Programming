{
 "cells": [
  {
   "cell_type": "markdown",
   "id": "2471b371",
   "metadata": {},
   "source": [
    "<h1 style=\"font-size:50px; color:red\">Data Type</h1>"
   ]
  },
  {
   "cell_type": "markdown",
   "id": "71d1a2ab",
   "metadata": {},
   "source": [
    "### basic type--> (integer, float, complex, boolean, string)\n",
    "### container type--> (List,Tuples,Sets and Dictionary)\n",
    "### User-defined Types--> Class"
   ]
  },
  {
   "cell_type": "markdown",
   "id": "6072ccf5",
   "metadata": {},
   "source": [
    "<h1 style=\"font-size:30px; color:blue\">Basic Type</h1>"
   ]
  },
  {
   "cell_type": "code",
   "execution_count": 13,
   "id": "3e6083aa",
   "metadata": {},
   "outputs": [
    {
     "name": "stdout",
     "output_type": "stream",
     "text": [
      "4\n",
      "1e+308\n"
     ]
    }
   ],
   "source": [
    "#integer\n",
    "print(4)\n",
    "print(1e308)"
   ]
  },
  {
   "cell_type": "code",
   "execution_count": 14,
   "id": "3e791914",
   "metadata": {},
   "outputs": [
    {
     "name": "stdout",
     "output_type": "stream",
     "text": [
      "4.5\n",
      "1.7e+308\n"
     ]
    }
   ],
   "source": [
    "#float\n",
    "print(4.5)\n",
    "print(1.7e308)"
   ]
  },
  {
   "cell_type": "code",
   "execution_count": 15,
   "id": "cf358064",
   "metadata": {},
   "outputs": [
    {
     "name": "stdout",
     "output_type": "stream",
     "text": [
      "True\n",
      "False\n"
     ]
    }
   ],
   "source": [
    "#boolean\n",
    "print(True)\n",
    "print(False)"
   ]
  },
  {
   "cell_type": "code",
   "execution_count": 16,
   "id": "36104f2a",
   "metadata": {},
   "outputs": [
    {
     "name": "stdout",
     "output_type": "stream",
     "text": [
      "(4+5j)\n"
     ]
    }
   ],
   "source": [
    "#complex\n",
    "print(4+5j)"
   ]
  },
  {
   "cell_type": "code",
   "execution_count": 17,
   "id": "aaaf88be",
   "metadata": {},
   "outputs": [
    {
     "name": "stdout",
     "output_type": "stream",
     "text": [
      "tushar\n",
      "tushar\n",
      "tushar\n"
     ]
    }
   ],
   "source": [
    "#string\n",
    "print('tushar')\n",
    "print(\"tushar\")\n",
    "print(\"\"\"tushar\"\"\")"
   ]
  },
  {
   "cell_type": "markdown",
   "id": "25202681",
   "metadata": {},
   "source": [
    "<h1 style=\"font-size:30px; color:blue\">Container Type</h1>"
   ]
  },
  {
   "cell_type": "code",
   "execution_count": 18,
   "id": "4493c9c7",
   "metadata": {},
   "outputs": [
    {
     "name": "stdout",
     "output_type": "stream",
     "text": [
      "[1, 2, 3, 4, 5]\n"
     ]
    }
   ],
   "source": [
    "#List\n",
    "print([1,2,3,4,5])"
   ]
  },
  {
   "cell_type": "code",
   "execution_count": 20,
   "id": "343c519a",
   "metadata": {},
   "outputs": [
    {
     "name": "stdout",
     "output_type": "stream",
     "text": [
      "(1, 2, 3, 4, 5)\n"
     ]
    }
   ],
   "source": [
    "#tuple\n",
    "print((1,2,3,4,5))"
   ]
  },
  {
   "cell_type": "code",
   "execution_count": 21,
   "id": "12d25322",
   "metadata": {},
   "outputs": [
    {
     "name": "stdout",
     "output_type": "stream",
     "text": [
      "{1, 2, 3, 4, 5}\n"
     ]
    }
   ],
   "source": [
    "#set\n",
    "print({1,2,3,4,5})"
   ]
  },
  {
   "cell_type": "code",
   "execution_count": 22,
   "id": "87fa8876",
   "metadata": {},
   "outputs": [
    {
     "name": "stdout",
     "output_type": "stream",
     "text": [
      "{'name': 'tushar', 'Rollno': '36'}\n"
     ]
    }
   ],
   "source": [
    "#dict\n",
    "print({\"name\":\"tushar\",\"Rollno\":\"36\"})"
   ]
  },
  {
   "cell_type": "code",
   "execution_count": null,
   "id": "2fc10c19",
   "metadata": {},
   "outputs": [],
   "source": []
  }
 ],
 "metadata": {
  "kernelspec": {
   "display_name": "Python 3 (ipykernel)",
   "language": "python",
   "name": "python3"
  },
  "language_info": {
   "codemirror_mode": {
    "name": "ipython",
    "version": 3
   },
   "file_extension": ".py",
   "mimetype": "text/x-python",
   "name": "python",
   "nbconvert_exporter": "python",
   "pygments_lexer": "ipython3",
   "version": "3.9.13"
  }
 },
 "nbformat": 4,
 "nbformat_minor": 5
}
