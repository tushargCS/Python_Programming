{
 "cells": [
  {
   "cell_type": "markdown",
   "id": "391984a9",
   "metadata": {},
   "source": [
    "<h1 style=\"font-size:50px; color:red\">set</h1>"
   ]
  },
  {
   "cell_type": "markdown",
   "id": "e67d0dba",
   "metadata": {},
   "source": [
    "<ul style=\"font-size:15px\">\n",
    "<li>Sets do not alow duplicates</li>\n",
    "<li>Sets have no indexing/slicing</li>\n",
    "<li>Sets don't allow mutable data-types</li>\n",
    "<li>Sets itself is a mutable datatype</li>\n",
    "<li>Set use Hashing to store data</li>\n",
    "</ul>"
   ]
  },
  {
   "cell_type": "code",
   "execution_count": 3,
   "id": "695593d2",
   "metadata": {},
   "outputs": [
    {
     "data": {
      "text/plain": [
       "dict"
      ]
     },
     "execution_count": 3,
     "metadata": {},
     "output_type": "execute_result"
    }
   ],
   "source": [
    "s = {}\n",
    "type(s)"
   ]
  },
  {
   "cell_type": "code",
   "execution_count": 5,
   "id": "1f11d6aa",
   "metadata": {},
   "outputs": [
    {
     "data": {
      "text/plain": [
       "set"
      ]
     },
     "execution_count": 5,
     "metadata": {},
     "output_type": "execute_result"
    }
   ],
   "source": [
    "s = set()\n",
    "type(s)"
   ]
  },
  {
   "cell_type": "code",
   "execution_count": 7,
   "id": "363f2fc4",
   "metadata": {},
   "outputs": [
    {
     "data": {
      "text/plain": [
       "{1, 2, 3}"
      ]
     },
     "execution_count": 7,
     "metadata": {},
     "output_type": "execute_result"
    }
   ],
   "source": [
    "s = {1,2,3}\n",
    "s"
   ]
  },
  {
   "cell_type": "code",
   "execution_count": 9,
   "id": "73bc1637",
   "metadata": {},
   "outputs": [
    {
     "data": {
      "text/plain": [
       "{1, 2, 3, 5.5, 'tushar'}"
      ]
     },
     "execution_count": 9,
     "metadata": {},
     "output_type": "execute_result"
    }
   ],
   "source": [
    "s = {1,2,3,True,5.5,\"tushar\"}\n",
    "s"
   ]
  },
  {
   "cell_type": "code",
   "execution_count": 12,
   "id": "9548b962",
   "metadata": {},
   "outputs": [
    {
     "data": {
      "text/plain": [
       "{1, 2}"
      ]
     },
     "execution_count": 12,
     "metadata": {},
     "output_type": "execute_result"
    }
   ],
   "source": [
    "s = {1,2,1}\n",
    "s #because set do not allow duplicates "
   ]
  },
  {
   "cell_type": "code",
   "execution_count": 14,
   "id": "01a92870",
   "metadata": {},
   "outputs": [
    {
     "ename": "TypeError",
     "evalue": "unhashable type: 'list'",
     "output_type": "error",
     "traceback": [
      "\u001b[0;31m---------------------------------------------------------------------------\u001b[0m",
      "\u001b[0;31mTypeError\u001b[0m                                 Traceback (most recent call last)",
      "\u001b[0;32m/tmp/ipykernel_20993/3242988370.py\u001b[0m in \u001b[0;36m<module>\u001b[0;34m\u001b[0m\n\u001b[0;32m----> 1\u001b[0;31m \u001b[0ms\u001b[0m \u001b[0;34m=\u001b[0m \u001b[0;34m{\u001b[0m\u001b[0;34m[\u001b[0m\u001b[0;36m1\u001b[0m\u001b[0;34m,\u001b[0m\u001b[0;36m2\u001b[0m\u001b[0;34m,\u001b[0m\u001b[0;36m4\u001b[0m\u001b[0;34m]\u001b[0m\u001b[0;34m}\u001b[0m \u001b[0;31m#because set does not contains mutable data type\u001b[0m\u001b[0;34m\u001b[0m\u001b[0;34m\u001b[0m\u001b[0m\n\u001b[0m",
      "\u001b[0;31mTypeError\u001b[0m: unhashable type: 'list'"
     ]
    }
   ],
   "source": [
    "s = {[1,2,4]} #because set does not contains mutable data type "
   ]
  },
  {
   "cell_type": "code",
   "execution_count": 15,
   "id": "ff3591ce",
   "metadata": {},
   "outputs": [
    {
     "data": {
      "text/plain": [
       "{(1, 2, 3), 'hello'}"
      ]
     },
     "execution_count": 15,
     "metadata": {},
     "output_type": "execute_result"
    }
   ],
   "source": [
    "s = {\"hello\",(1,2,3)}\n",
    "s"
   ]
  },
  {
   "cell_type": "markdown",
   "id": "16d2cecb",
   "metadata": {},
   "source": [
    "<h1 style=\"font-size:30px; color:BLUE\">ACCESSING</h1>"
   ]
  },
  {
   "cell_type": "code",
   "execution_count": 16,
   "id": "4c0e8bf1",
   "metadata": {},
   "outputs": [
    {
     "ename": "TypeError",
     "evalue": "'set' object is not subscriptable",
     "output_type": "error",
     "traceback": [
      "\u001b[0;31m---------------------------------------------------------------------------\u001b[0m",
      "\u001b[0;31mTypeError\u001b[0m                                 Traceback (most recent call last)",
      "\u001b[0;32m/tmp/ipykernel_20993/1373532891.py\u001b[0m in \u001b[0;36m<module>\u001b[0;34m\u001b[0m\n\u001b[1;32m      1\u001b[0m \u001b[0ms\u001b[0m \u001b[0;34m=\u001b[0m \u001b[0;34m{\u001b[0m\u001b[0;36m1\u001b[0m\u001b[0;34m,\u001b[0m\u001b[0;36m2\u001b[0m\u001b[0;34m,\u001b[0m\u001b[0;36m3\u001b[0m\u001b[0;34m}\u001b[0m\u001b[0;34m\u001b[0m\u001b[0;34m\u001b[0m\u001b[0m\n\u001b[0;32m----> 2\u001b[0;31m \u001b[0ms\u001b[0m\u001b[0;34m[\u001b[0m\u001b[0;36m0\u001b[0m\u001b[0;34m]\u001b[0m\u001b[0;34m\u001b[0m\u001b[0;34m\u001b[0m\u001b[0m\n\u001b[0m",
      "\u001b[0;31mTypeError\u001b[0m: 'set' object is not subscriptable"
     ]
    }
   ],
   "source": [
    "s = {1,2,3}\n",
    "s[0]"
   ]
  },
  {
   "cell_type": "code",
   "execution_count": 17,
   "id": "a9716583",
   "metadata": {},
   "outputs": [
    {
     "ename": "TypeError",
     "evalue": "'set' object is not subscriptable",
     "output_type": "error",
     "traceback": [
      "\u001b[0;31m---------------------------------------------------------------------------\u001b[0m",
      "\u001b[0;31mTypeError\u001b[0m                                 Traceback (most recent call last)",
      "\u001b[0;32m/tmp/ipykernel_20993/732212043.py\u001b[0m in \u001b[0;36m<module>\u001b[0;34m\u001b[0m\n\u001b[0;32m----> 1\u001b[0;31m \u001b[0ms\u001b[0m\u001b[0;34m[\u001b[0m\u001b[0;34m:\u001b[0m\u001b[0;34m]\u001b[0m\u001b[0;34m\u001b[0m\u001b[0;34m\u001b[0m\u001b[0m\n\u001b[0m",
      "\u001b[0;31mTypeError\u001b[0m: 'set' object is not subscriptable"
     ]
    }
   ],
   "source": [
    "s[:]"
   ]
  },
  {
   "cell_type": "markdown",
   "id": "25f162f5",
   "metadata": {},
   "source": [
    "### Above errors because set does not allow indexing and slicing"
   ]
  },
  {
   "cell_type": "markdown",
   "id": "76bccd82",
   "metadata": {},
   "source": [
    "### editing is also not work in sets"
   ]
  },
  {
   "cell_type": "markdown",
   "id": "b7f75508",
   "metadata": {},
   "source": [
    "<h1 style=\"font-size:30px; color:blue\">ADDING</h1>"
   ]
  },
  {
   "cell_type": "code",
   "execution_count": 19,
   "id": "895d5eea",
   "metadata": {},
   "outputs": [
    {
     "data": {
      "text/plain": [
       "{1, 2, 3, 4}"
      ]
     },
     "execution_count": 19,
     "metadata": {},
     "output_type": "execute_result"
    }
   ],
   "source": [
    "S = {1,2,3}\n",
    "S.add(4)\n",
    "S"
   ]
  },
  {
   "cell_type": "markdown",
   "id": "70d6325c",
   "metadata": {},
   "source": [
    "<h1 style=\"font-size:30px; color:blue\">DELETION</h1>"
   ]
  },
  {
   "cell_type": "markdown",
   "id": "e42b761d",
   "metadata": {},
   "source": [
    "<h1 style=\"font-size:25px; color: #E48400\">del</h1>"
   ]
  },
  {
   "cell_type": "code",
   "execution_count": 24,
   "id": "9d29d2fd",
   "metadata": {},
   "outputs": [
    {
     "data": {
      "text/plain": [
       "{1, 2, 4}"
      ]
     },
     "execution_count": 24,
     "metadata": {},
     "output_type": "execute_result"
    }
   ],
   "source": [
    "s = {1,2,4}\n",
    "s"
   ]
  },
  {
   "cell_type": "code",
   "execution_count": 25,
   "id": "d6b0c22d",
   "metadata": {},
   "outputs": [],
   "source": [
    "del s # del keyword only delete whole set not part of it"
   ]
  },
  {
   "cell_type": "markdown",
   "id": "0287ef43",
   "metadata": {},
   "source": [
    "<h1 style=\"font-size:25px; color: #E48400\">remove()</h1>"
   ]
  },
  {
   "cell_type": "code",
   "execution_count": 29,
   "id": "c0153d21",
   "metadata": {},
   "outputs": [],
   "source": [
    "s = {1,2,3}\n",
    "s.remove(3)"
   ]
  },
  {
   "cell_type": "code",
   "execution_count": 30,
   "id": "9ae12128",
   "metadata": {},
   "outputs": [
    {
     "ename": "KeyError",
     "evalue": "4",
     "output_type": "error",
     "traceback": [
      "\u001b[0;31m---------------------------------------------------------------------------\u001b[0m",
      "\u001b[0;31mKeyError\u001b[0m                                  Traceback (most recent call last)",
      "\u001b[0;32m/tmp/ipykernel_20993/3639830368.py\u001b[0m in \u001b[0;36m<module>\u001b[0;34m\u001b[0m\n\u001b[0;32m----> 1\u001b[0;31m \u001b[0ms\u001b[0m\u001b[0;34m.\u001b[0m\u001b[0mremove\u001b[0m\u001b[0;34m(\u001b[0m\u001b[0;36m4\u001b[0m\u001b[0;34m)\u001b[0m \u001b[0;31m#because element not present in set\u001b[0m\u001b[0;34m\u001b[0m\u001b[0;34m\u001b[0m\u001b[0m\n\u001b[0m",
      "\u001b[0;31mKeyError\u001b[0m: 4"
     ]
    }
   ],
   "source": [
    "s.remove(4) #because element not present in set"
   ]
  },
  {
   "cell_type": "code",
   "execution_count": 32,
   "id": "2d7d02ef",
   "metadata": {},
   "outputs": [
    {
     "data": {
      "text/plain": [
       "1"
      ]
     },
     "execution_count": 32,
     "metadata": {},
     "output_type": "execute_result"
    }
   ],
   "source": [
    "s = {1,2,3}\n",
    "s.pop() # it will delete element from set using hashing"
   ]
  },
  {
   "cell_type": "markdown",
   "id": "5fe25d27",
   "metadata": {},
   "source": [
    "<h1 style=\"font-size:30px; color:BLUE\">OPERATIONS</h1>"
   ]
  },
  {
   "cell_type": "markdown",
   "id": "727d0138",
   "metadata": {},
   "source": [
    "<h1 style=\"font-size:25px; color: #E48400\">+</h1>"
   ]
  },
  {
   "cell_type": "code",
   "execution_count": 34,
   "id": "62f8a53f",
   "metadata": {},
   "outputs": [
    {
     "ename": "TypeError",
     "evalue": "unsupported operand type(s) for +: 'set' and 'set'",
     "output_type": "error",
     "traceback": [
      "\u001b[0;31m---------------------------------------------------------------------------\u001b[0m",
      "\u001b[0;31mTypeError\u001b[0m                                 Traceback (most recent call last)",
      "\u001b[0;32m/tmp/ipykernel_20993/2502633040.py\u001b[0m in \u001b[0;36m<module>\u001b[0;34m\u001b[0m\n\u001b[1;32m      1\u001b[0m \u001b[0mS1\u001b[0m \u001b[0;34m=\u001b[0m \u001b[0;34m{\u001b[0m\u001b[0;36m1\u001b[0m\u001b[0;34m,\u001b[0m\u001b[0;36m2\u001b[0m\u001b[0;34m,\u001b[0m\u001b[0;36m3\u001b[0m\u001b[0;34m}\u001b[0m\u001b[0;34m\u001b[0m\u001b[0;34m\u001b[0m\u001b[0m\n\u001b[1;32m      2\u001b[0m \u001b[0mS2\u001b[0m \u001b[0;34m=\u001b[0m \u001b[0;34m{\u001b[0m\u001b[0;36m4\u001b[0m\u001b[0;34m,\u001b[0m\u001b[0;36m5\u001b[0m\u001b[0;34m,\u001b[0m\u001b[0;36m6\u001b[0m\u001b[0;34m}\u001b[0m\u001b[0;34m\u001b[0m\u001b[0;34m\u001b[0m\u001b[0m\n\u001b[0;32m----> 3\u001b[0;31m \u001b[0mS1\u001b[0m\u001b[0;34m+\u001b[0m\u001b[0mS2\u001b[0m \u001b[0;31m# concatination not work in set\u001b[0m\u001b[0;34m\u001b[0m\u001b[0;34m\u001b[0m\u001b[0m\n\u001b[0m",
      "\u001b[0;31mTypeError\u001b[0m: unsupported operand type(s) for +: 'set' and 'set'"
     ]
    }
   ],
   "source": [
    "S1 = {1,2,3}\n",
    "S2 = {4,5,6}\n",
    "S1+S2 # concatination not work in set"
   ]
  },
  {
   "cell_type": "markdown",
   "id": "1a2a4e76",
   "metadata": {},
   "source": [
    "<h1 style=\"font-size:25px; color: #E48400\">*</h1>"
   ]
  },
  {
   "cell_type": "code",
   "execution_count": 36,
   "id": "cdc9ef43",
   "metadata": {
    "scrolled": true
   },
   "outputs": [
    {
     "ename": "TypeError",
     "evalue": "unsupported operand type(s) for *: 'set' and 'int'",
     "output_type": "error",
     "traceback": [
      "\u001b[0;31m---------------------------------------------------------------------------\u001b[0m",
      "\u001b[0;31mTypeError\u001b[0m                                 Traceback (most recent call last)",
      "\u001b[0;32m/tmp/ipykernel_20993/2538315795.py\u001b[0m in \u001b[0;36m<module>\u001b[0;34m\u001b[0m\n\u001b[0;32m----> 1\u001b[0;31m \u001b[0mS1\u001b[0m\u001b[0;34m*\u001b[0m\u001b[0;36m2\u001b[0m \u001b[0;31m#MULTIPLICATION IS ALSO NOT PRESENT\u001b[0m\u001b[0;34m\u001b[0m\u001b[0;34m\u001b[0m\u001b[0m\n\u001b[0m",
      "\u001b[0;31mTypeError\u001b[0m: unsupported operand type(s) for *: 'set' and 'int'"
     ]
    }
   ],
   "source": [
    "S1*2 #MULTIPLICATION IS ALSO NOT PRESENT"
   ]
  },
  {
   "cell_type": "markdown",
   "id": "560c277d",
   "metadata": {},
   "source": [
    "<h1 style=\"font-size:25px; color: #E48400\">looping</h1>"
   ]
  },
  {
   "cell_type": "code",
   "execution_count": 37,
   "id": "f3340309",
   "metadata": {},
   "outputs": [
    {
     "name": "stdout",
     "output_type": "stream",
     "text": [
      "1 2 3 "
     ]
    }
   ],
   "source": [
    "#looping is allowed\n",
    "for i in {1,2,3}:\n",
    "    print(i,end=\" \")"
   ]
  },
  {
   "cell_type": "markdown",
   "id": "a020eb51",
   "metadata": {},
   "source": [
    "<h1 style=\"font-size:25px; color: #E48400\">membership</h1>"
   ]
  },
  {
   "cell_type": "code",
   "execution_count": 39,
   "id": "d4f3945f",
   "metadata": {
    "scrolled": true
   },
   "outputs": [
    {
     "data": {
      "text/plain": [
       "True"
      ]
     },
     "execution_count": 39,
     "metadata": {},
     "output_type": "execute_result"
    }
   ],
   "source": [
    "#membership will also work\n",
    "1 in {3,2,4,1,5}"
   ]
  },
  {
   "cell_type": "code",
   "execution_count": 40,
   "id": "56723b00",
   "metadata": {},
   "outputs": [
    {
     "data": {
      "text/plain": [
       "False"
      ]
     },
     "execution_count": 40,
     "metadata": {},
     "output_type": "execute_result"
    }
   ],
   "source": [
    "2 in {1,4,5,6}"
   ]
  },
  {
   "cell_type": "code",
   "execution_count": 42,
   "id": "38dc435c",
   "metadata": {},
   "outputs": [
    {
     "data": {
      "text/plain": [
       "True"
      ]
     },
     "execution_count": 42,
     "metadata": {},
     "output_type": "execute_result"
    }
   ],
   "source": [
    "2 not in {1,3,4}"
   ]
  },
  {
   "cell_type": "markdown",
   "id": "617bdf6e",
   "metadata": {},
   "source": [
    "<h1 style=\"font-size:30px; color:BLUE\">FUNCTIONS</h1>"
   ]
  },
  {
   "cell_type": "markdown",
   "id": "eb81f34e",
   "metadata": {},
   "source": [
    "<h1 style=\"font-size:25px; color: #E48400\">len()</h1>"
   ]
  },
  {
   "cell_type": "code",
   "execution_count": 46,
   "id": "0d4289c6",
   "metadata": {},
   "outputs": [
    {
     "data": {
      "text/plain": [
       "3"
      ]
     },
     "execution_count": 46,
     "metadata": {},
     "output_type": "execute_result"
    }
   ],
   "source": [
    "len({1,2,3})"
   ]
  },
  {
   "cell_type": "markdown",
   "id": "9b46eed3",
   "metadata": {},
   "source": [
    "<h1 style=\"font-size:25px; color: #E48400\">min()</h1>"
   ]
  },
  {
   "cell_type": "code",
   "execution_count": 47,
   "id": "b2c8df01",
   "metadata": {},
   "outputs": [
    {
     "data": {
      "text/plain": [
       "1"
      ]
     },
     "execution_count": 47,
     "metadata": {},
     "output_type": "execute_result"
    }
   ],
   "source": [
    "min({1,2,3})"
   ]
  },
  {
   "cell_type": "markdown",
   "id": "490e5f79",
   "metadata": {},
   "source": [
    "<h1 style=\"font-size:25px; color: #E48400\">max()</h1>"
   ]
  },
  {
   "cell_type": "code",
   "execution_count": 48,
   "id": "1f748866",
   "metadata": {},
   "outputs": [
    {
     "data": {
      "text/plain": [
       "3"
      ]
     },
     "execution_count": 48,
     "metadata": {},
     "output_type": "execute_result"
    }
   ],
   "source": [
    "max({1,2,3})"
   ]
  },
  {
   "cell_type": "markdown",
   "id": "5a16c8c8",
   "metadata": {},
   "source": [
    "<h1 style=\"font-size:25px; color: #E48400\">sum()</h1>"
   ]
  },
  {
   "cell_type": "code",
   "execution_count": 50,
   "id": "8cd7cd69",
   "metadata": {},
   "outputs": [
    {
     "data": {
      "text/plain": [
       "10"
      ]
     },
     "execution_count": 50,
     "metadata": {},
     "output_type": "execute_result"
    }
   ],
   "source": [
    "sum({1,2,3,4})"
   ]
  },
  {
   "cell_type": "markdown",
   "id": "cc7d510b",
   "metadata": {},
   "source": [
    "<h1 style=\"font-size:25px; color: #E48400\">sorted()</h1>"
   ]
  },
  {
   "cell_type": "code",
   "execution_count": 52,
   "id": "9e1bf3c3",
   "metadata": {},
   "outputs": [
    {
     "data": {
      "text/plain": [
       "[1, 2, 3, 4, 5]"
      ]
     },
     "execution_count": 52,
     "metadata": {},
     "output_type": "execute_result"
    }
   ],
   "source": [
    "sorted({5,4,3,2,1}) #this will converted into a list"
   ]
  },
  {
   "cell_type": "code",
   "execution_count": 53,
   "id": "cff0b9d2",
   "metadata": {},
   "outputs": [
    {
     "data": {
      "text/plain": [
       "[5, 4, 3, 2, 1]"
      ]
     },
     "execution_count": 53,
     "metadata": {},
     "output_type": "execute_result"
    }
   ],
   "source": [
    "sorted({1,2,3,4,5},reverse=True)"
   ]
  },
  {
   "cell_type": "markdown",
   "id": "6cd2c3d3",
   "metadata": {},
   "source": [
    "<h1 style=\"font-size:25px; color: #E48400\">union()</h1>"
   ]
  },
  {
   "cell_type": "code",
   "execution_count": 54,
   "id": "1f7570c2",
   "metadata": {},
   "outputs": [
    {
     "data": {
      "text/plain": [
       "{1, 2, 3, 4, 5, 6}"
      ]
     },
     "execution_count": 54,
     "metadata": {},
     "output_type": "execute_result"
    }
   ],
   "source": [
    "s1={1,2,3}\n",
    "s2={4,5,6}\n",
    "s1.union(s2)"
   ]
  },
  {
   "cell_type": "code",
   "execution_count": 55,
   "id": "24cb7e92",
   "metadata": {},
   "outputs": [
    {
     "data": {
      "text/plain": [
       "{1, 2, 3}"
      ]
     },
     "execution_count": 55,
     "metadata": {},
     "output_type": "execute_result"
    }
   ],
   "source": [
    "s1"
   ]
  },
  {
   "cell_type": "markdown",
   "id": "5f9c02c8",
   "metadata": {},
   "source": [
    "<h1 style=\"font-size:25px; color: #E48400\">intersection()</h1>"
   ]
  },
  {
   "cell_type": "code",
   "execution_count": 56,
   "id": "4ca4d0e7",
   "metadata": {},
   "outputs": [
    {
     "data": {
      "text/plain": [
       "set()"
      ]
     },
     "execution_count": 56,
     "metadata": {},
     "output_type": "execute_result"
    }
   ],
   "source": [
    "s1.intersection(s2)"
   ]
  },
  {
   "cell_type": "markdown",
   "id": "2d6a77fc",
   "metadata": {},
   "source": [
    "<h1 style=\"font-size:25px; color: #E48400\">diffrence()</h1>"
   ]
  },
  {
   "cell_type": "code",
   "execution_count": 57,
   "id": "f61f49c0",
   "metadata": {},
   "outputs": [
    {
     "data": {
      "text/plain": [
       "{1, 2, 3}"
      ]
     },
     "execution_count": 57,
     "metadata": {},
     "output_type": "execute_result"
    }
   ],
   "source": [
    "s1.difference(s2)"
   ]
  },
  {
   "cell_type": "markdown",
   "id": "b7878938",
   "metadata": {},
   "source": [
    "<h1 style=\"font-size:25px; color: #E48400\">symmetric_difference()</h1>"
   ]
  },
  {
   "cell_type": "code",
   "execution_count": 59,
   "id": "171d3500",
   "metadata": {},
   "outputs": [
    {
     "data": {
      "text/plain": [
       "{1, 2, 3, 4, 5, 6}"
      ]
     },
     "execution_count": 59,
     "metadata": {},
     "output_type": "execute_result"
    }
   ],
   "source": [
    "s1.symmetric_difference(s2)"
   ]
  },
  {
   "cell_type": "markdown",
   "id": "f15da46e",
   "metadata": {},
   "source": [
    "<h1 style=\"font-size:25px; color: #E48400\">isdisjoint()</h1>"
   ]
  },
  {
   "cell_type": "code",
   "execution_count": 61,
   "id": "d7610b1b",
   "metadata": {},
   "outputs": [
    {
     "data": {
      "text/plain": [
       "True"
      ]
     },
     "execution_count": 61,
     "metadata": {},
     "output_type": "execute_result"
    }
   ],
   "source": [
    "s1.isdisjoint(s2)"
   ]
  },
  {
   "cell_type": "markdown",
   "id": "07ef9359",
   "metadata": {},
   "source": [
    "<h1 style=\"font-size:25px; color: #E48400\">issubset()</h1>"
   ]
  },
  {
   "cell_type": "code",
   "execution_count": 63,
   "id": "98e57ec2",
   "metadata": {},
   "outputs": [
    {
     "data": {
      "text/plain": [
       "False"
      ]
     },
     "execution_count": 63,
     "metadata": {},
     "output_type": "execute_result"
    }
   ],
   "source": [
    "s1.issubset(s2)"
   ]
  },
  {
   "cell_type": "markdown",
   "id": "b04b68bf",
   "metadata": {},
   "source": [
    "<h1 style=\"font-size:25px; color: #E48400\">issuperset()</h1>"
   ]
  },
  {
   "cell_type": "code",
   "execution_count": 65,
   "id": "1a6821de",
   "metadata": {},
   "outputs": [
    {
     "data": {
      "text/plain": [
       "False"
      ]
     },
     "execution_count": 65,
     "metadata": {},
     "output_type": "execute_result"
    }
   ],
   "source": [
    "s1.issuperset(s2)"
   ]
  },
  {
   "cell_type": "code",
   "execution_count": null,
   "id": "c8d8c96b",
   "metadata": {},
   "outputs": [],
   "source": []
  }
 ],
 "metadata": {
  "kernelspec": {
   "display_name": "Python 3 (ipykernel)",
   "language": "python",
   "name": "python3"
  },
  "language_info": {
   "codemirror_mode": {
    "name": "ipython",
    "version": 3
   },
   "file_extension": ".py",
   "mimetype": "text/x-python",
   "name": "python",
   "nbconvert_exporter": "python",
   "pygments_lexer": "ipython3",
   "version": "3.9.13"
  }
 },
 "nbformat": 4,
 "nbformat_minor": 5
}
