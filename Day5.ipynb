{
 "cells": [
  {
   "cell_type": "markdown",
   "id": "bba7d797",
   "metadata": {},
   "source": [
    " <h1 style=\"font-size:50px; color:red\">Keywords</h1>"
   ]
  },
  {
   "cell_type": "markdown",
   "id": "c5a659a3",
   "metadata": {},
   "source": [
    "<p style=\"font-size:15px\">In programming, a Keyword is a word that is reserved by a program because the word has a special meaning. Keywords can be commands or parameters. Every programming langauge has set of keywords that cannot be used as variable names</p> "
   ]
  },
  {
   "cell_type": "code",
   "execution_count": 4,
   "id": "72b1b3aa",
   "metadata": {
    "scrolled": false
   },
   "outputs": [
    {
     "name": "stdout",
     "output_type": "stream",
     "text": [
      "['False', 'None', 'True', '__peg_parser__', 'and', 'as', 'assert', 'async', 'await', 'break', 'class', 'continue', 'def', 'del', 'elif', 'else', 'except', 'finally', 'for', 'from', 'global', 'if', 'import', 'in', 'is', 'lambda', 'nonlocal', 'not', 'or', 'pass', 'raise', 'return', 'try', 'while', 'with', 'yield']\n"
     ]
    }
   ],
   "source": [
    "import keyword\n",
    "print(keyword.kwlist)"
   ]
  },
  {
   "cell_type": "markdown",
   "id": "939f9cdf",
   "metadata": {},
   "source": [
    "<h1 style=\"font-size:50px; color:red\">Identifiers</h1>"
   ]
  },
  {
   "cell_type": "markdown",
   "id": "1dea6a41",
   "metadata": {},
   "source": [
    "### A python identifier is a name used to identify a variable, function, class, module, or other object"
   ]
  },
  {
   "cell_type": "markdown",
   "id": "1faf67d5",
   "metadata": {},
   "source": [
    "<h1 style=\"font-size:30px; color:blue\">Rules</h1>"
   ]
  },
  {
   "cell_type": "markdown",
   "id": "e312fde9",
   "metadata": {},
   "source": [
    "<ul style=\"font-size:20px\">\n",
    "    \n",
    "<li>can only start with an alphabet or _</li>\n",
    "<br>\n",
    "<li>Followed by 0 or more letter, _ and digits</li>\n",
    "<br>\n",
    "<li>keywords cannot be used as an identifiers</li>\n",
    "</ul>"
   ]
  },
  {
   "cell_type": "code",
   "execution_count": 9,
   "id": "5feb5859",
   "metadata": {},
   "outputs": [],
   "source": [
    "name=\"tushar\""
   ]
  },
  {
   "cell_type": "code",
   "execution_count": 10,
   "id": "b0634ec0",
   "metadata": {},
   "outputs": [
    {
     "data": {
      "text/plain": [
       "'tushar'"
      ]
     },
     "execution_count": 10,
     "metadata": {},
     "output_type": "execute_result"
    }
   ],
   "source": [
    "name"
   ]
  },
  {
   "cell_type": "code",
   "execution_count": 12,
   "id": "b5d9a46c",
   "metadata": {},
   "outputs": [],
   "source": [
    "_=\"tushar\""
   ]
  },
  {
   "cell_type": "code",
   "execution_count": 13,
   "id": "7ded442c",
   "metadata": {},
   "outputs": [
    {
     "data": {
      "text/plain": [
       "'tushar'"
      ]
     },
     "execution_count": 13,
     "metadata": {},
     "output_type": "execute_result"
    }
   ],
   "source": [
    "_"
   ]
  },
  {
   "cell_type": "code",
   "execution_count": 14,
   "id": "6d0a7466",
   "metadata": {},
   "outputs": [],
   "source": [
    "name_123 = \"tushar\""
   ]
  },
  {
   "cell_type": "code",
   "execution_count": 15,
   "id": "924cdfbf",
   "metadata": {},
   "outputs": [
    {
     "data": {
      "text/plain": [
       "'tushar'"
      ]
     },
     "execution_count": 15,
     "metadata": {},
     "output_type": "execute_result"
    }
   ],
   "source": [
    "name_123"
   ]
  },
  {
   "cell_type": "code",
   "execution_count": 16,
   "id": "5ecde16f",
   "metadata": {},
   "outputs": [],
   "source": [
    "__ = \"Tushar\""
   ]
  },
  {
   "cell_type": "code",
   "execution_count": 17,
   "id": "c091d5cd",
   "metadata": {},
   "outputs": [
    {
     "data": {
      "text/plain": [
       "'Tushar'"
      ]
     },
     "execution_count": 17,
     "metadata": {},
     "output_type": "execute_result"
    }
   ],
   "source": [
    "__"
   ]
  },
  {
   "cell_type": "code",
   "execution_count": 22,
   "id": "c67a952b",
   "metadata": {},
   "outputs": [
    {
     "ename": "SyntaxError",
     "evalue": "invalid syntax (1446843734.py, line 2)",
     "output_type": "error",
     "traceback": [
      "\u001b[0;36m  File \u001b[0;32m\"/tmp/ipykernel_5072/1446843734.py\"\u001b[0;36m, line \u001b[0;32m2\u001b[0m\n\u001b[0;31m    if = \"tushar\"\u001b[0m\n\u001b[0m       ^\u001b[0m\n\u001b[0;31mSyntaxError\u001b[0m\u001b[0;31m:\u001b[0m invalid syntax\n"
     ]
    }
   ],
   "source": [
    "#error\n",
    "if = \"tushar\""
   ]
  },
  {
   "cell_type": "code",
   "execution_count": null,
   "id": "ffb959b0",
   "metadata": {},
   "outputs": [],
   "source": []
  }
 ],
 "metadata": {
  "kernelspec": {
   "display_name": "Python 3 (ipykernel)",
   "language": "python",
   "name": "python3"
  },
  "language_info": {
   "codemirror_mode": {
    "name": "ipython",
    "version": 3
   },
   "file_extension": ".py",
   "mimetype": "text/x-python",
   "name": "python",
   "nbconvert_exporter": "python",
   "pygments_lexer": "ipython3",
   "version": "3.9.13"
  }
 },
 "nbformat": 4,
 "nbformat_minor": 5
}
