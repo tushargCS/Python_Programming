{
 "cells": [
  {
   "cell_type": "markdown",
   "id": "bed33d66",
   "metadata": {},
   "source": [
    "<h1 style=\"font-size:50px; color:red\">print() function</h1>"
   ]
  },
  {
   "cell_type": "code",
   "execution_count": 2,
   "id": "15adaf40",
   "metadata": {},
   "outputs": [
    {
     "name": "stdout",
     "output_type": "stream",
     "text": [
      "Hello\n"
     ]
    }
   ],
   "source": [
    "print(\"Hello\")"
   ]
  },
  {
   "cell_type": "code",
   "execution_count": 3,
   "id": "4bb907a9",
   "metadata": {},
   "outputs": [
    {
     "name": "stdout",
     "output_type": "stream",
     "text": [
      "6\n"
     ]
    }
   ],
   "source": [
    "print(6)"
   ]
  },
  {
   "cell_type": "code",
   "execution_count": 4,
   "id": "5373aea3",
   "metadata": {},
   "outputs": [
    {
     "name": "stdout",
     "output_type": "stream",
     "text": [
      "8.4\n"
     ]
    }
   ],
   "source": [
    "print(8.4)"
   ]
  },
  {
   "cell_type": "code",
   "execution_count": 6,
   "id": "29739195",
   "metadata": {},
   "outputs": [
    {
     "name": "stdout",
     "output_type": "stream",
     "text": [
      "True\n"
     ]
    }
   ],
   "source": [
    "print(True)"
   ]
  },
  {
   "cell_type": "code",
   "execution_count": 8,
   "id": "ca431146",
   "metadata": {},
   "outputs": [
    {
     "name": "stdout",
     "output_type": "stream",
     "text": [
      "Hello\n",
      "\tworld\n"
     ]
    }
   ],
   "source": [
    "print(\"\"\"Hello\n",
    "\tworld\"\"\")"
   ]
  },
  {
   "cell_type": "code",
   "execution_count": 9,
   "id": "37b94fbe",
   "metadata": {},
   "outputs": [
    {
     "name": "stdout",
     "output_type": "stream",
     "text": [
      "Hello \n",
      "\tworld\n"
     ]
    }
   ],
   "source": [
    "print('''Hello \n",
    "\tworld''')"
   ]
  },
  {
   "cell_type": "code",
   "execution_count": 10,
   "id": "c22b09a5",
   "metadata": {},
   "outputs": [
    {
     "name": "stdout",
     "output_type": "stream",
     "text": [
      "India Nepal Srilanka\n"
     ]
    }
   ],
   "source": [
    "print(\"India\",\"Nepal\",\"Srilanka\")"
   ]
  },
  {
   "cell_type": "code",
   "execution_count": 11,
   "id": "d5d49e70",
   "metadata": {},
   "outputs": [
    {
     "name": "stdout",
     "output_type": "stream",
     "text": [
      "Tushar 5 True\n"
     ]
    }
   ],
   "source": [
    "print(\"Tushar\",5,True)"
   ]
  },
  {
   "cell_type": "raw",
   "id": "033181c5",
   "metadata": {},
   "source": [
    "print(Shift+Tab) --> this will give you the documentation"
   ]
  },
  {
   "cell_type": "markdown",
   "id": "f874c8d3",
   "metadata": {},
   "source": [
    "<h1 style=\"font-size:50px; color:red\">sep parameter</h1>"
   ]
  },
  {
   "cell_type": "code",
   "execution_count": 12,
   "id": "ddd9e12a",
   "metadata": {},
   "outputs": [
    {
     "name": "stdout",
     "output_type": "stream",
     "text": [
      "Hello/world\n"
     ]
    }
   ],
   "source": [
    "print(\"Hello\",\"world\",sep=\"/\")"
   ]
  },
  {
   "cell_type": "code",
   "execution_count": 13,
   "id": "9936ce5d",
   "metadata": {},
   "outputs": [
    {
     "name": "stdout",
     "output_type": "stream",
     "text": [
      "Hello-world\n"
     ]
    }
   ],
   "source": [
    "print(\"Hello\",\"world\",sep=\"-\")"
   ]
  },
  {
   "cell_type": "code",
   "execution_count": 15,
   "id": "10c74727",
   "metadata": {},
   "outputs": [
    {
     "name": "stdout",
     "output_type": "stream",
     "text": [
      "Hello\n",
      "world\n"
     ]
    }
   ],
   "source": [
    "print(\"Hello\",\"world\",sep=\"\\n\")"
   ]
  },
  {
   "cell_type": "markdown",
   "id": "046f15fa",
   "metadata": {},
   "source": [
    "<h1 style=\"font-size:50px; color:red\">end parameter</h1>"
   ]
  },
  {
   "cell_type": "code",
   "execution_count": 16,
   "id": "69b04b12",
   "metadata": {},
   "outputs": [
    {
     "name": "stdout",
     "output_type": "stream",
     "text": [
      "Hello world\n"
     ]
    }
   ],
   "source": [
    "print(\"Hello\",end=\" \")\n",
    "print(\"world\")"
   ]
  },
  {
   "cell_type": "code",
   "execution_count": null,
   "id": "2ac936f0",
   "metadata": {},
   "outputs": [],
   "source": []
  }
 ],
 "metadata": {
  "kernelspec": {
   "display_name": "Python 3 (ipykernel)",
   "language": "python",
   "name": "python3"
  },
  "language_info": {
   "codemirror_mode": {
    "name": "ipython",
    "version": 3
   },
   "file_extension": ".py",
   "mimetype": "text/x-python",
   "name": "python",
   "nbconvert_exporter": "python",
   "pygments_lexer": "ipython3",
   "version": "3.9.13"
  }
 },
 "nbformat": 4,
 "nbformat_minor": 5
}
