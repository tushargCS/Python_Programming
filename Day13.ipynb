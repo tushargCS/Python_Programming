{
 "cells": [
  {
   "cell_type": "markdown",
   "id": "0c0302fd",
   "metadata": {},
   "source": [
    "<h1 style=\"font-size:50px; color:red\">String</h1>"
   ]
  },
  {
   "cell_type": "markdown",
   "id": "c83bf647",
   "metadata": {},
   "source": [
    "Strings are sequence of Characters\n",
    "\n",
    "In python specifically, string are a sequence of Unicode Character\n",
    "<ul>\n",
    "<li>Creating Strings</li>\n",
    "<li>Accessing Strings</li>\n",
    "<li>Adding Chars to Strings</li>\n",
    "<li>Editing Strings</li>\n",
    "<li>Deleting Strings</li>\n",
    "<li>Operations on Strings</li>\n",
    "<li>String Functions</li>\n",
    "</ul>"
   ]
  },
  {
   "cell_type": "markdown",
   "id": "56c294ad",
   "metadata": {},
   "source": [
    "<h1 style=\"font-size:30px; color:blue\">CREATING</h1>"
   ]
  },
  {
   "cell_type": "code",
   "execution_count": 1,
   "id": "ff817709",
   "metadata": {},
   "outputs": [
    {
     "name": "stdout",
     "output_type": "stream",
     "text": [
      "hello\n"
     ]
    }
   ],
   "source": [
    "c = 'hello'\n",
    "print(c)"
   ]
  },
  {
   "cell_type": "code",
   "execution_count": 2,
   "id": "83ae89b7",
   "metadata": {},
   "outputs": [
    {
     "name": "stdout",
     "output_type": "stream",
     "text": [
      "hello\n"
     ]
    }
   ],
   "source": [
    "c = \"hello\"\n",
    "print(c)"
   ]
  },
  {
   "cell_type": "code",
   "execution_count": 3,
   "id": "9fb33473",
   "metadata": {},
   "outputs": [
    {
     "data": {
      "text/plain": [
       "'hi'"
      ]
     },
     "execution_count": 3,
     "metadata": {},
     "output_type": "execute_result"
    }
   ],
   "source": [
    "c = \"\"\"hi\"\"\" # multiline string\n",
    "c"
   ]
  },
  {
   "cell_type": "code",
   "execution_count": 4,
   "id": "ab13492b",
   "metadata": {},
   "outputs": [
    {
     "name": "stdout",
     "output_type": "stream",
     "text": [
      " tushar\n"
     ]
    }
   ],
   "source": [
    "c = str(\" tushar\")\n",
    "print(c)"
   ]
  },
  {
   "cell_type": "markdown",
   "id": "09139661",
   "metadata": {},
   "source": [
    "<h1 style=\"font-size:30px; color:blue\">ACCESSING</h1>"
   ]
  },
  {
   "cell_type": "code",
   "execution_count": 6,
   "id": "ebab37a9",
   "metadata": {},
   "outputs": [],
   "source": [
    "#CONCEPT OF INDEXING"
   ]
  },
  {
   "cell_type": "code",
   "execution_count": 7,
   "id": "1da22072",
   "metadata": {},
   "outputs": [
    {
     "name": "stdout",
     "output_type": "stream",
     "text": [
      "h\n"
     ]
    }
   ],
   "source": [
    "c = \"hello\"\n",
    "print(c[0])"
   ]
  },
  {
   "cell_type": "code",
   "execution_count": 8,
   "id": "6fe680d0",
   "metadata": {},
   "outputs": [
    {
     "name": "stdout",
     "output_type": "stream",
     "text": [
      "l\n"
     ]
    }
   ],
   "source": [
    "print(c[3])"
   ]
  },
  {
   "cell_type": "code",
   "execution_count": 9,
   "id": "cbf51750",
   "metadata": {},
   "outputs": [],
   "source": [
    "#type of indexing\n",
    "# positive indexing\n",
    "# negative indexing"
   ]
  },
  {
   "cell_type": "code",
   "execution_count": 10,
   "id": "06e4622c",
   "metadata": {},
   "outputs": [
    {
     "name": "stdout",
     "output_type": "stream",
     "text": [
      "o\n"
     ]
    }
   ],
   "source": [
    "print(c[-1])"
   ]
  },
  {
   "cell_type": "code",
   "execution_count": 11,
   "id": "6259fafd",
   "metadata": {},
   "outputs": [
    {
     "data": {
      "text/plain": [
       "'l'"
      ]
     },
     "execution_count": 11,
     "metadata": {},
     "output_type": "execute_result"
    }
   ],
   "source": [
    "c[-2]"
   ]
  },
  {
   "cell_type": "code",
   "execution_count": 12,
   "id": "6b146cc4",
   "metadata": {},
   "outputs": [
    {
     "data": {
      "text/plain": [
       "'l'"
      ]
     },
     "execution_count": 12,
     "metadata": {},
     "output_type": "execute_result"
    }
   ],
   "source": [
    "c[-3]"
   ]
  },
  {
   "cell_type": "code",
   "execution_count": 13,
   "id": "841b0d22",
   "metadata": {},
   "outputs": [
    {
     "data": {
      "text/plain": [
       "'e'"
      ]
     },
     "execution_count": 13,
     "metadata": {},
     "output_type": "execute_result"
    }
   ],
   "source": [
    "c[-4]"
   ]
  },
  {
   "cell_type": "code",
   "execution_count": 14,
   "id": "8eafa005",
   "metadata": {},
   "outputs": [
    {
     "data": {
      "text/plain": [
       "'h'"
      ]
     },
     "execution_count": 14,
     "metadata": {},
     "output_type": "execute_result"
    }
   ],
   "source": [
    "c[-5]"
   ]
  },
  {
   "cell_type": "code",
   "execution_count": 16,
   "id": "8be6b294",
   "metadata": {},
   "outputs": [],
   "source": [
    "#CONCEPT OF SLICING"
   ]
  },
  {
   "cell_type": "code",
   "execution_count": 17,
   "id": "89020907",
   "metadata": {},
   "outputs": [
    {
     "data": {
      "text/plain": [
       "'Hell'"
      ]
     },
     "execution_count": 17,
     "metadata": {},
     "output_type": "execute_result"
    }
   ],
   "source": [
    "c = \"Hello world\"\n",
    "c[0:4]"
   ]
  },
  {
   "cell_type": "code",
   "execution_count": 18,
   "id": "18ec7a4b",
   "metadata": {},
   "outputs": [
    {
     "data": {
      "text/plain": [
       "'Hel'"
      ]
     },
     "execution_count": 18,
     "metadata": {},
     "output_type": "execute_result"
    }
   ],
   "source": [
    "c[0:3]"
   ]
  },
  {
   "cell_type": "code",
   "execution_count": 19,
   "id": "fe0f38b9",
   "metadata": {},
   "outputs": [
    {
     "data": {
      "text/plain": [
       "'llo world'"
      ]
     },
     "execution_count": 19,
     "metadata": {},
     "output_type": "execute_result"
    }
   ],
   "source": [
    "c[2:]"
   ]
  },
  {
   "cell_type": "code",
   "execution_count": 20,
   "id": "91f93854",
   "metadata": {},
   "outputs": [
    {
     "data": {
      "text/plain": [
       "'Hello world'"
      ]
     },
     "execution_count": 20,
     "metadata": {},
     "output_type": "execute_result"
    }
   ],
   "source": [
    "c[:]"
   ]
  },
  {
   "cell_type": "code",
   "execution_count": 21,
   "id": "2d1e42ec",
   "metadata": {},
   "outputs": [
    {
     "data": {
      "text/plain": [
       "'Hell'"
      ]
     },
     "execution_count": 21,
     "metadata": {},
     "output_type": "execute_result"
    }
   ],
   "source": [
    "c[:4]"
   ]
  },
  {
   "cell_type": "code",
   "execution_count": 23,
   "id": "fb554fc4",
   "metadata": {},
   "outputs": [
    {
     "data": {
      "text/plain": [
       "'lo'"
      ]
     },
     "execution_count": 23,
     "metadata": {},
     "output_type": "execute_result"
    }
   ],
   "source": [
    "c[2:6:2]"
   ]
  },
  {
   "cell_type": "code",
   "execution_count": 24,
   "id": "1110587d",
   "metadata": {},
   "outputs": [
    {
     "data": {
      "text/plain": [
       "'wr'"
      ]
     },
     "execution_count": 24,
     "metadata": {},
     "output_type": "execute_result"
    }
   ],
   "source": [
    "c[-5:-1:2]"
   ]
  },
  {
   "cell_type": "code",
   "execution_count": 25,
   "id": "75b4550f",
   "metadata": {},
   "outputs": [
    {
     "data": {
      "text/plain": [
       "'dlrow olleH'"
      ]
     },
     "execution_count": 25,
     "metadata": {},
     "output_type": "execute_result"
    }
   ],
   "source": [
    "c[::-1]"
   ]
  },
  {
   "cell_type": "markdown",
   "id": "ec910152",
   "metadata": {},
   "source": [
    "<h1 style=\"font-size:30px; color:blue\">EDITING AND DELETING</h1>"
   ]
  },
  {
   "cell_type": "code",
   "execution_count": 32,
   "id": "6b7ab215",
   "metadata": {},
   "outputs": [
    {
     "name": "stdout",
     "output_type": "stream",
     "text": [
      "hello\n"
     ]
    }
   ],
   "source": [
    "c = \"hello\"\n",
    "print(c)"
   ]
  },
  {
   "cell_type": "code",
   "execution_count": 33,
   "id": "0b1535e6",
   "metadata": {},
   "outputs": [
    {
     "ename": "TypeError",
     "evalue": "'str' object does not support item assignment",
     "output_type": "error",
     "traceback": [
      "\u001b[0;31m---------------------------------------------------------------------------\u001b[0m",
      "\u001b[0;31mTypeError\u001b[0m                                 Traceback (most recent call last)",
      "\u001b[0;32m/tmp/ipykernel_8219/2473887928.py\u001b[0m in \u001b[0;36m<module>\u001b[0;34m\u001b[0m\n\u001b[0;32m----> 1\u001b[0;31m \u001b[0mc\u001b[0m\u001b[0;34m[\u001b[0m\u001b[0;36m0\u001b[0m\u001b[0;34m]\u001b[0m \u001b[0;34m=\u001b[0m \u001b[0;34m'X'\u001b[0m \u001b[0;31m# this will give error because strings are Immutable Data type\u001b[0m\u001b[0;34m\u001b[0m\u001b[0;34m\u001b[0m\u001b[0m\n\u001b[0m",
      "\u001b[0;31mTypeError\u001b[0m: 'str' object does not support item assignment"
     ]
    }
   ],
   "source": [
    "c[0] = 'X' # this will give error because strings are Immutable Data type"
   ]
  },
  {
   "cell_type": "code",
   "execution_count": 39,
   "id": "eef499d1",
   "metadata": {},
   "outputs": [],
   "source": [
    "c = \"world\""
   ]
  },
  {
   "cell_type": "code",
   "execution_count": 40,
   "id": "c470a7c6",
   "metadata": {},
   "outputs": [],
   "source": [
    "# deletion\n",
    "del c"
   ]
  },
  {
   "cell_type": "code",
   "execution_count": 41,
   "id": "ba621253",
   "metadata": {},
   "outputs": [
    {
     "ename": "NameError",
     "evalue": "name 'c' is not defined",
     "output_type": "error",
     "traceback": [
      "\u001b[0;31m---------------------------------------------------------------------------\u001b[0m",
      "\u001b[0;31mNameError\u001b[0m                                 Traceback (most recent call last)",
      "\u001b[0;32m/tmp/ipykernel_8219/1121910082.py\u001b[0m in \u001b[0;36m<module>\u001b[0;34m\u001b[0m\n\u001b[0;32m----> 1\u001b[0;31m \u001b[0mc\u001b[0m \u001b[0;31m#because we already delete string 'c' using del keyword\u001b[0m\u001b[0;34m\u001b[0m\u001b[0;34m\u001b[0m\u001b[0m\n\u001b[0m",
      "\u001b[0;31mNameError\u001b[0m: name 'c' is not defined"
     ]
    }
   ],
   "source": [
    "c #because we already delete string 'c' using del keyword"
   ]
  },
  {
   "cell_type": "code",
   "execution_count": 42,
   "id": "93bd0c20",
   "metadata": {},
   "outputs": [],
   "source": [
    "c = 'hello'"
   ]
  },
  {
   "cell_type": "code",
   "execution_count": 44,
   "id": "79400ccd",
   "metadata": {},
   "outputs": [
    {
     "ename": "TypeError",
     "evalue": "'str' object doesn't support item deletion",
     "output_type": "error",
     "traceback": [
      "\u001b[0;31m---------------------------------------------------------------------------\u001b[0m",
      "\u001b[0;31mTypeError\u001b[0m                                 Traceback (most recent call last)",
      "\u001b[0;32m/tmp/ipykernel_8219/2158837504.py\u001b[0m in \u001b[0;36m<module>\u001b[0;34m\u001b[0m\n\u001b[0;32m----> 1\u001b[0;31m \u001b[0;32mdel\u001b[0m \u001b[0mc\u001b[0m\u001b[0;34m[\u001b[0m\u001b[0;36m0\u001b[0m\u001b[0;34m]\u001b[0m \u001b[0;31m# because strings are immutable\u001b[0m\u001b[0;34m\u001b[0m\u001b[0;34m\u001b[0m\u001b[0m\n\u001b[0m",
      "\u001b[0;31mTypeError\u001b[0m: 'str' object doesn't support item deletion"
     ]
    }
   ],
   "source": [
    "del c[0] # because strings are immutable"
   ]
  },
  {
   "cell_type": "markdown",
   "id": "a1d4f37a",
   "metadata": {},
   "source": [
    "<h1 style=\"font-size:30px; color:blue\">Operations</h1>"
   ]
  },
  {
   "cell_type": "markdown",
   "id": "706255bb",
   "metadata": {},
   "source": [
    "<ul>\n",
    "<li> Arithmetic Operations</li>\n",
    "<li>Relational Operations</li>\n",
    "<li>Logical Operations</li>\n",
    "<li>Loops on Strings</li>\n",
    "<li>Membership Operations</li>\n",
    "</ul>"
   ]
  },
  {
   "cell_type": "code",
   "execution_count": 50,
   "id": "81c9594f",
   "metadata": {},
   "outputs": [],
   "source": [
    "#Arithmetic Operations"
   ]
  },
  {
   "cell_type": "code",
   "execution_count": 51,
   "id": "5427e41c",
   "metadata": {},
   "outputs": [
    {
     "data": {
      "text/plain": [
       "'hello world'"
      ]
     },
     "execution_count": 51,
     "metadata": {},
     "output_type": "execute_result"
    }
   ],
   "source": [
    "\"hello\"+\" world\" # concatination"
   ]
  },
  {
   "cell_type": "code",
   "execution_count": 52,
   "id": "19d630e1",
   "metadata": {},
   "outputs": [
    {
     "name": "stdout",
     "output_type": "stream",
     "text": [
      "**************************************************\n"
     ]
    }
   ],
   "source": [
    "print(\"*\"*50)"
   ]
  },
  {
   "cell_type": "code",
   "execution_count": 53,
   "id": "9e85d0f1",
   "metadata": {},
   "outputs": [],
   "source": [
    "#Relational Operations"
   ]
  },
  {
   "cell_type": "code",
   "execution_count": 54,
   "id": "5ae42885",
   "metadata": {},
   "outputs": [
    {
     "data": {
      "text/plain": [
       "False"
      ]
     },
     "execution_count": 54,
     "metadata": {},
     "output_type": "execute_result"
    }
   ],
   "source": [
    "\"Hello\" == \"world\" "
   ]
  },
  {
   "cell_type": "code",
   "execution_count": 56,
   "id": "bf522711",
   "metadata": {},
   "outputs": [
    {
     "data": {
      "text/plain": [
       "True"
      ]
     },
     "execution_count": 56,
     "metadata": {},
     "output_type": "execute_result"
    }
   ],
   "source": [
    "\"Hello\" != \"world\""
   ]
  },
  {
   "cell_type": "code",
   "execution_count": 57,
   "id": "2e48d240",
   "metadata": {},
   "outputs": [
    {
     "data": {
      "text/plain": [
       "False"
      ]
     },
     "execution_count": 57,
     "metadata": {},
     "output_type": "execute_result"
    }
   ],
   "source": [
    "\"Mumbai\" > \"pune\" #lexiographically"
   ]
  },
  {
   "cell_type": "code",
   "execution_count": 58,
   "id": "686f42f9",
   "metadata": {},
   "outputs": [
    {
     "data": {
      "text/plain": [
       "True"
      ]
     },
     "execution_count": 58,
     "metadata": {},
     "output_type": "execute_result"
    }
   ],
   "source": [
    "\"Koi\" < \"koi\""
   ]
  },
  {
   "cell_type": "code",
   "execution_count": 59,
   "id": "58b8094d",
   "metadata": {},
   "outputs": [],
   "source": [
    "#Logical Operations"
   ]
  },
  {
   "cell_type": "code",
   "execution_count": 60,
   "id": "755b263b",
   "metadata": {},
   "outputs": [
    {
     "data": {
      "text/plain": [
       "'world'"
      ]
     },
     "execution_count": 60,
     "metadata": {},
     "output_type": "execute_result"
    }
   ],
   "source": [
    "\"hello\" and \"world\""
   ]
  },
  {
   "cell_type": "markdown",
   "id": "1d268a39",
   "metadata": {},
   "source": [
    "### In python every empty string is false and not empty string is True"
   ]
  },
  {
   "cell_type": "code",
   "execution_count": 61,
   "id": "ae8c7579",
   "metadata": {},
   "outputs": [
    {
     "data": {
      "text/plain": [
       "''"
      ]
     },
     "execution_count": 61,
     "metadata": {},
     "output_type": "execute_result"
    }
   ],
   "source": [
    "\"hi\" and \"\""
   ]
  },
  {
   "cell_type": "code",
   "execution_count": 63,
   "id": "0e217486",
   "metadata": {},
   "outputs": [
    {
     "data": {
      "text/plain": [
       "'world'"
      ]
     },
     "execution_count": 63,
     "metadata": {},
     "output_type": "execute_result"
    }
   ],
   "source": [
    "\"\" or \"world\""
   ]
  },
  {
   "cell_type": "code",
   "execution_count": 64,
   "id": "d10a45a2",
   "metadata": {},
   "outputs": [
    {
     "data": {
      "text/plain": [
       "False"
      ]
     },
     "execution_count": 64,
     "metadata": {},
     "output_type": "execute_result"
    }
   ],
   "source": [
    "not \"hello\""
   ]
  },
  {
   "cell_type": "code",
   "execution_count": 65,
   "id": "943744b9",
   "metadata": {},
   "outputs": [
    {
     "data": {
      "text/plain": [
       "True"
      ]
     },
     "execution_count": 65,
     "metadata": {},
     "output_type": "execute_result"
    }
   ],
   "source": [
    "not \"\""
   ]
  },
  {
   "cell_type": "code",
   "execution_count": 66,
   "id": "815a19eb",
   "metadata": {},
   "outputs": [],
   "source": [
    "#Loops on Strings"
   ]
  },
  {
   "cell_type": "code",
   "execution_count": 67,
   "id": "a6c0ee9f",
   "metadata": {},
   "outputs": [
    {
     "name": "stdout",
     "output_type": "stream",
     "text": [
      "h e l l o   w o r l d "
     ]
    }
   ],
   "source": [
    "c =\"hello world\"\n",
    "for i in c:\n",
    "    print(i,end=' ')"
   ]
  },
  {
   "cell_type": "code",
   "execution_count": 69,
   "id": "298fcd4b",
   "metadata": {},
   "outputs": [
    {
     "name": "stdout",
     "output_type": "stream",
     "text": [
      "d l r o w   o l l e h "
     ]
    }
   ],
   "source": [
    "for i in c[::-1]:\n",
    "    print(i,end=\" \")"
   ]
  },
  {
   "cell_type": "code",
   "execution_count": 70,
   "id": "6a1f473f",
   "metadata": {},
   "outputs": [],
   "source": [
    "#Membership Operations"
   ]
  },
  {
   "cell_type": "code",
   "execution_count": 71,
   "id": "7b05527f",
   "metadata": {},
   "outputs": [
    {
     "data": {
      "text/plain": [
       "True"
      ]
     },
     "execution_count": 71,
     "metadata": {},
     "output_type": "execute_result"
    }
   ],
   "source": [
    "c = \"hello\"\n",
    "'h' in c"
   ]
  },
  {
   "cell_type": "code",
   "execution_count": 72,
   "id": "650ca8c0",
   "metadata": {},
   "outputs": [
    {
     "data": {
      "text/plain": [
       "True"
      ]
     },
     "execution_count": 72,
     "metadata": {},
     "output_type": "execute_result"
    }
   ],
   "source": [
    "'e' in c"
   ]
  },
  {
   "cell_type": "code",
   "execution_count": 73,
   "id": "73fd0d12",
   "metadata": {},
   "outputs": [
    {
     "data": {
      "text/plain": [
       "False"
      ]
     },
     "execution_count": 73,
     "metadata": {},
     "output_type": "execute_result"
    }
   ],
   "source": [
    "'w' in c"
   ]
  },
  {
   "cell_type": "code",
   "execution_count": 74,
   "id": "17d238f8",
   "metadata": {},
   "outputs": [
    {
     "data": {
      "text/plain": [
       "True"
      ]
     },
     "execution_count": 74,
     "metadata": {},
     "output_type": "execute_result"
    }
   ],
   "source": [
    "'w' not in c"
   ]
  },
  {
   "cell_type": "code",
   "execution_count": 75,
   "id": "9d20675a",
   "metadata": {},
   "outputs": [
    {
     "data": {
      "text/plain": [
       "False"
      ]
     },
     "execution_count": 75,
     "metadata": {},
     "output_type": "execute_result"
    }
   ],
   "source": [
    "'h' not in c"
   ]
  },
  {
   "cell_type": "code",
   "execution_count": 76,
   "id": "f79bfedb",
   "metadata": {},
   "outputs": [
    {
     "data": {
      "text/plain": [
       "True"
      ]
     },
     "execution_count": 76,
     "metadata": {},
     "output_type": "execute_result"
    }
   ],
   "source": [
    "'hello' in c"
   ]
  },
  {
   "cell_type": "markdown",
   "id": "b0f8af99",
   "metadata": {},
   "source": [
    "<h1 style=\"font-size:30px; color:blue\">Functions</h1>"
   ]
  },
  {
   "cell_type": "markdown",
   "id": "cf2eb41e",
   "metadata": {},
   "source": [
    "common functions\n",
    "<ul>\n",
    "<li>len</li>\n",
    "    <li>max</li>\n",
    "    <li>min</li>\n",
    "    <li>sorted</li>\n",
    "</ul>"
   ]
  },
  {
   "cell_type": "code",
   "execution_count": 77,
   "id": "b7b4d639",
   "metadata": {},
   "outputs": [
    {
     "data": {
      "text/plain": [
       "7"
      ]
     },
     "execution_count": 77,
     "metadata": {},
     "output_type": "execute_result"
    }
   ],
   "source": [
    "c = \"kolkata\"\n",
    "len(c)"
   ]
  },
  {
   "cell_type": "code",
   "execution_count": 78,
   "id": "de7e6b01",
   "metadata": {},
   "outputs": [
    {
     "data": {
      "text/plain": [
       "'t'"
      ]
     },
     "execution_count": 78,
     "metadata": {},
     "output_type": "execute_result"
    }
   ],
   "source": [
    "max(c)"
   ]
  },
  {
   "cell_type": "code",
   "execution_count": 79,
   "id": "18be7213",
   "metadata": {},
   "outputs": [
    {
     "data": {
      "text/plain": [
       "'a'"
      ]
     },
     "execution_count": 79,
     "metadata": {},
     "output_type": "execute_result"
    }
   ],
   "source": [
    "min(c)"
   ]
  },
  {
   "cell_type": "code",
   "execution_count": 80,
   "id": "c8ebc927",
   "metadata": {},
   "outputs": [
    {
     "data": {
      "text/plain": [
       "['a', 'a', 'k', 'k', 'l', 'o', 't']"
      ]
     },
     "execution_count": 80,
     "metadata": {},
     "output_type": "execute_result"
    }
   ],
   "source": [
    "sorted(c)"
   ]
  },
  {
   "cell_type": "code",
   "execution_count": 95,
   "id": "5f81d0b6",
   "metadata": {},
   "outputs": [
    {
     "data": {
      "text/plain": [
       "['t', 'o', 'l', 'k', 'k', 'a', 'a']"
      ]
     },
     "execution_count": 95,
     "metadata": {},
     "output_type": "execute_result"
    }
   ],
   "source": [
    "sorted(c,reverse=True)"
   ]
  },
  {
   "cell_type": "markdown",
   "id": "5030c2e7",
   "metadata": {},
   "source": [
    "<h1 style=\"font-size:25px; color: #E48400\">capitalize()</h1>"
   ]
  },
  {
   "cell_type": "code",
   "execution_count": 96,
   "id": "f909864f",
   "metadata": {
    "scrolled": true
   },
   "outputs": [
    {
     "data": {
      "text/plain": [
       "'Kolkata'"
      ]
     },
     "execution_count": 96,
     "metadata": {},
     "output_type": "execute_result"
    }
   ],
   "source": [
    "c.capitalize()"
   ]
  },
  {
   "cell_type": "code",
   "execution_count": 150,
   "id": "4ef569bb",
   "metadata": {},
   "outputs": [
    {
     "data": {
      "text/plain": [
       "'Hi tushar'"
      ]
     },
     "execution_count": 150,
     "metadata": {},
     "output_type": "execute_result"
    }
   ],
   "source": [
    "\"hi tushar\".capitalize()"
   ]
  },
  {
   "cell_type": "markdown",
   "id": "6d244a07",
   "metadata": {},
   "source": [
    "<h1 style=\"font-size:25px; color: #E48400\">title()</h1>"
   ]
  },
  {
   "cell_type": "code",
   "execution_count": 97,
   "id": "6cf90a2a",
   "metadata": {},
   "outputs": [
    {
     "data": {
      "text/plain": [
       "'Kolkata'"
      ]
     },
     "execution_count": 97,
     "metadata": {},
     "output_type": "execute_result"
    }
   ],
   "source": [
    "c.title()"
   ]
  },
  {
   "cell_type": "code",
   "execution_count": 148,
   "id": "9b030fda",
   "metadata": {},
   "outputs": [
    {
     "data": {
      "text/plain": [
       "'Hi Tushar'"
      ]
     },
     "execution_count": 148,
     "metadata": {},
     "output_type": "execute_result"
    }
   ],
   "source": [
    "\"hi tushar\".title()"
   ]
  },
  {
   "cell_type": "markdown",
   "id": "16987ab9",
   "metadata": {},
   "source": [
    "<h1 style=\"font-size:25px; color: #E48400\">upper()</h1>"
   ]
  },
  {
   "cell_type": "code",
   "execution_count": 98,
   "id": "737b4c90",
   "metadata": {},
   "outputs": [
    {
     "data": {
      "text/plain": [
       "'KOLKATA'"
      ]
     },
     "execution_count": 98,
     "metadata": {},
     "output_type": "execute_result"
    }
   ],
   "source": [
    "c.upper()"
   ]
  },
  {
   "cell_type": "markdown",
   "id": "8042b760",
   "metadata": {},
   "source": [
    "<h1 style=\"font-size:25px; color: #E48400\">lower()</h1>"
   ]
  },
  {
   "cell_type": "code",
   "execution_count": 99,
   "id": "56a6723c",
   "metadata": {},
   "outputs": [
    {
     "data": {
      "text/plain": [
       "'kolkata'"
      ]
     },
     "execution_count": 99,
     "metadata": {},
     "output_type": "execute_result"
    }
   ],
   "source": [
    "c.lower()"
   ]
  },
  {
   "cell_type": "markdown",
   "id": "7cf7f32e",
   "metadata": {},
   "source": [
    "<h1 style=\"font-size:25px; color: #E48400\">swapcase()</h1>"
   ]
  },
  {
   "cell_type": "code",
   "execution_count": 100,
   "id": "7d08abd8",
   "metadata": {},
   "outputs": [
    {
     "data": {
      "text/plain": [
       "'KOLKATA'"
      ]
     },
     "execution_count": 100,
     "metadata": {},
     "output_type": "execute_result"
    }
   ],
   "source": [
    "c.swapcase() #lower to upper and upper to lower"
   ]
  },
  {
   "cell_type": "markdown",
   "id": "a5861f39",
   "metadata": {},
   "source": [
    "<h1 style=\"font-size:25px; color: #E48400\">count()</h1>"
   ]
  },
  {
   "cell_type": "code",
   "execution_count": 104,
   "id": "20341d8e",
   "metadata": {},
   "outputs": [
    {
     "data": {
      "text/plain": [
       "0"
      ]
     },
     "execution_count": 104,
     "metadata": {},
     "output_type": "execute_result"
    }
   ],
   "source": [
    "\"Hello world\".count(\"i\")"
   ]
  },
  {
   "cell_type": "code",
   "execution_count": 105,
   "id": "7b904a87",
   "metadata": {},
   "outputs": [
    {
     "data": {
      "text/plain": [
       "1"
      ]
     },
     "execution_count": 105,
     "metadata": {},
     "output_type": "execute_result"
    }
   ],
   "source": [
    "\"Hello world\".count(\"e\")"
   ]
  },
  {
   "cell_type": "markdown",
   "id": "4d97a57c",
   "metadata": {},
   "source": [
    "<h1 style=\"font-size:25px; color: #E48400\">find()</h1>"
   ]
  },
  {
   "cell_type": "code",
   "execution_count": 106,
   "id": "4f216d44",
   "metadata": {},
   "outputs": [
    {
     "data": {
      "text/plain": [
       "2"
      ]
     },
     "execution_count": 106,
     "metadata": {},
     "output_type": "execute_result"
    }
   ],
   "source": [
    "\"hello\".find('l') #this function will return first occurence of character"
   ]
  },
  {
   "cell_type": "code",
   "execution_count": 107,
   "id": "a138d59c",
   "metadata": {},
   "outputs": [
    {
     "data": {
      "text/plain": [
       "-1"
      ]
     },
     "execution_count": 107,
     "metadata": {},
     "output_type": "execute_result"
    }
   ],
   "source": [
    "\"hello\".find('x') "
   ]
  },
  {
   "cell_type": "markdown",
   "id": "314deb3e",
   "metadata": {},
   "source": [
    "<h1 style=\"font-size:25px; color: #E48400\">index()</h1>"
   ]
  },
  {
   "cell_type": "code",
   "execution_count": 110,
   "id": "d7dfda72",
   "metadata": {},
   "outputs": [
    {
     "data": {
      "text/plain": [
       "1"
      ]
     },
     "execution_count": 110,
     "metadata": {},
     "output_type": "execute_result"
    }
   ],
   "source": [
    "\"hello\".index('e')"
   ]
  },
  {
   "cell_type": "code",
   "execution_count": 112,
   "id": "f1202787",
   "metadata": {},
   "outputs": [
    {
     "ename": "ValueError",
     "evalue": "substring not found",
     "output_type": "error",
     "traceback": [
      "\u001b[0;31m---------------------------------------------------------------------------\u001b[0m",
      "\u001b[0;31mValueError\u001b[0m                                Traceback (most recent call last)",
      "\u001b[0;32m/tmp/ipykernel_8219/3387842398.py\u001b[0m in \u001b[0;36m<module>\u001b[0;34m\u001b[0m\n\u001b[0;32m----> 1\u001b[0;31m \u001b[0;34m\"hello\"\u001b[0m\u001b[0;34m.\u001b[0m\u001b[0mindex\u001b[0m\u001b[0;34m(\u001b[0m\u001b[0;34m'z'\u001b[0m\u001b[0;34m)\u001b[0m \u001b[0;31m#this function will return error when a perticular element not present in string\u001b[0m\u001b[0;34m\u001b[0m\u001b[0;34m\u001b[0m\u001b[0m\n\u001b[0m",
      "\u001b[0;31mValueError\u001b[0m: substring not found"
     ]
    }
   ],
   "source": [
    "\"hello\".index('z') #this function will return error when a perticular element not present in string"
   ]
  },
  {
   "cell_type": "markdown",
   "id": "5a169959",
   "metadata": {},
   "source": [
    "<h1 style=\"font-size:25px; color: #E48400\">endswith()</h1>"
   ]
  },
  {
   "cell_type": "code",
   "execution_count": 114,
   "id": "98dce480",
   "metadata": {},
   "outputs": [
    {
     "data": {
      "text/plain": [
       "False"
      ]
     },
     "execution_count": 114,
     "metadata": {},
     "output_type": "execute_result"
    }
   ],
   "source": [
    "\"hello\".endswith('h')"
   ]
  },
  {
   "cell_type": "code",
   "execution_count": 117,
   "id": "f2f2f65d",
   "metadata": {},
   "outputs": [
    {
     "data": {
      "text/plain": [
       "True"
      ]
     },
     "execution_count": 117,
     "metadata": {},
     "output_type": "execute_result"
    }
   ],
   "source": [
    "\"hello\".endswith('o')"
   ]
  },
  {
   "cell_type": "markdown",
   "id": "eaad548d",
   "metadata": {},
   "source": [
    "<h1 style=\"font-size:25px; color: #E48400\">startswith()</h1>"
   ]
  },
  {
   "cell_type": "code",
   "execution_count": 119,
   "id": "9aad25cf",
   "metadata": {},
   "outputs": [
    {
     "data": {
      "text/plain": [
       "True"
      ]
     },
     "execution_count": 119,
     "metadata": {},
     "output_type": "execute_result"
    }
   ],
   "source": [
    "\"hello\".startswith('h')"
   ]
  },
  {
   "cell_type": "code",
   "execution_count": 120,
   "id": "717c12bd",
   "metadata": {},
   "outputs": [
    {
     "data": {
      "text/plain": [
       "False"
      ]
     },
     "execution_count": 120,
     "metadata": {},
     "output_type": "execute_result"
    }
   ],
   "source": [
    "\"hello\".startswith('o')"
   ]
  },
  {
   "cell_type": "markdown",
   "id": "c8b0dd0d",
   "metadata": {},
   "source": [
    "<h1 style=\"font-size:25px; color: #E48400\">format()</h1>"
   ]
  },
  {
   "cell_type": "code",
   "execution_count": 121,
   "id": "21c26400",
   "metadata": {},
   "outputs": [
    {
     "data": {
      "text/plain": [
       "'Tushar is good Boy'"
      ]
     },
     "execution_count": 121,
     "metadata": {},
     "output_type": "execute_result"
    }
   ],
   "source": [
    "\"{} is good {}\".format(\"Tushar\",\"Boy\")"
   ]
  },
  {
   "cell_type": "code",
   "execution_count": 122,
   "id": "21a681bd",
   "metadata": {},
   "outputs": [
    {
     "data": {
      "text/plain": [
       "'Boy is good Tushar'"
      ]
     },
     "execution_count": 122,
     "metadata": {},
     "output_type": "execute_result"
    }
   ],
   "source": [
    "\"{1} is good {0}\".format(\"Tushar\",\"Boy\")"
   ]
  },
  {
   "cell_type": "code",
   "execution_count": 123,
   "id": "c4368057",
   "metadata": {},
   "outputs": [
    {
     "data": {
      "text/plain": [
       "'Tushar is good Boy'"
      ]
     },
     "execution_count": 123,
     "metadata": {},
     "output_type": "execute_result"
    }
   ],
   "source": [
    "\"{name} is good {gender}\".format(name = \"Tushar\",gender = \"Boy\")"
   ]
  },
  {
   "cell_type": "markdown",
   "id": "dc5f2657",
   "metadata": {},
   "source": [
    "<h1 style=\"font-size:25px; color: #E48400\">isalnum()</h1>"
   ]
  },
  {
   "cell_type": "code",
   "execution_count": 125,
   "id": "21b07f9a",
   "metadata": {},
   "outputs": [
    {
     "data": {
      "text/plain": [
       "True"
      ]
     },
     "execution_count": 125,
     "metadata": {},
     "output_type": "execute_result"
    }
   ],
   "source": [
    "\"flat20\".isalnum()"
   ]
  },
  {
   "cell_type": "code",
   "execution_count": 126,
   "id": "094df079",
   "metadata": {},
   "outputs": [
    {
     "data": {
      "text/plain": [
       "False"
      ]
     },
     "execution_count": 126,
     "metadata": {},
     "output_type": "execute_result"
    }
   ],
   "source": [
    "\"flat20@\".isalnum()"
   ]
  },
  {
   "cell_type": "markdown",
   "id": "58264fc3",
   "metadata": {},
   "source": [
    "<h1 style=\"font-size:25px; color: #E48400\">isalpha()</h1>"
   ]
  },
  {
   "cell_type": "code",
   "execution_count": 127,
   "id": "e6867948",
   "metadata": {},
   "outputs": [
    {
     "data": {
      "text/plain": [
       "True"
      ]
     },
     "execution_count": 127,
     "metadata": {},
     "output_type": "execute_result"
    }
   ],
   "source": [
    "\"flat\".isalpha()"
   ]
  },
  {
   "cell_type": "code",
   "execution_count": 128,
   "id": "39e47431",
   "metadata": {},
   "outputs": [
    {
     "data": {
      "text/plain": [
       "False"
      ]
     },
     "execution_count": 128,
     "metadata": {},
     "output_type": "execute_result"
    }
   ],
   "source": [
    "\"flat20\".isalpha()"
   ]
  },
  {
   "cell_type": "markdown",
   "id": "bf3c9f58",
   "metadata": {},
   "source": [
    "<h1 style=\"font-size:25px; color: #E48400\">isdigit()</h1>"
   ]
  },
  {
   "cell_type": "code",
   "execution_count": 130,
   "id": "fc3c700f",
   "metadata": {},
   "outputs": [
    {
     "data": {
      "text/plain": [
       "False"
      ]
     },
     "execution_count": 130,
     "metadata": {},
     "output_type": "execute_result"
    }
   ],
   "source": [
    "\"Hello\".isdigit()"
   ]
  },
  {
   "cell_type": "code",
   "execution_count": 131,
   "id": "bd58092c",
   "metadata": {},
   "outputs": [
    {
     "data": {
      "text/plain": [
       "False"
      ]
     },
     "execution_count": 131,
     "metadata": {},
     "output_type": "execute_result"
    }
   ],
   "source": [
    "\"hello1\".isdigit()"
   ]
  },
  {
   "cell_type": "code",
   "execution_count": 133,
   "id": "de8e5544",
   "metadata": {},
   "outputs": [
    {
     "data": {
      "text/plain": [
       "True"
      ]
     },
     "execution_count": 133,
     "metadata": {},
     "output_type": "execute_result"
    }
   ],
   "source": [
    "\"12\".isdigit()"
   ]
  },
  {
   "cell_type": "markdown",
   "id": "29145502",
   "metadata": {},
   "source": [
    "<h1 style=\"font-size:25px; color: #E48400\">isidentifier()</h1>"
   ]
  },
  {
   "cell_type": "code",
   "execution_count": 135,
   "id": "a025a26c",
   "metadata": {},
   "outputs": [
    {
     "data": {
      "text/plain": [
       "False"
      ]
     },
     "execution_count": 135,
     "metadata": {},
     "output_type": "execute_result"
    }
   ],
   "source": [
    "\"hello world\".isidentifier()"
   ]
  },
  {
   "cell_type": "code",
   "execution_count": 136,
   "id": "2efffc32",
   "metadata": {},
   "outputs": [
    {
     "data": {
      "text/plain": [
       "True"
      ]
     },
     "execution_count": 136,
     "metadata": {},
     "output_type": "execute_result"
    }
   ],
   "source": [
    "\"hello\".isidentifier()"
   ]
  },
  {
   "cell_type": "code",
   "execution_count": 137,
   "id": "9a5922d1",
   "metadata": {},
   "outputs": [
    {
     "data": {
      "text/plain": [
       "True"
      ]
     },
     "execution_count": 137,
     "metadata": {},
     "output_type": "execute_result"
    }
   ],
   "source": [
    "\"hello_world\".isidentifier()"
   ]
  },
  {
   "cell_type": "markdown",
   "id": "431a678b",
   "metadata": {},
   "source": [
    "<h1 style=\"font-size:25px; color: #E48400\">isascii()</h1>"
   ]
  },
  {
   "cell_type": "code",
   "execution_count": 138,
   "id": "5ba9ba51",
   "metadata": {},
   "outputs": [
    {
     "data": {
      "text/plain": [
       "True"
      ]
     },
     "execution_count": 138,
     "metadata": {},
     "output_type": "execute_result"
    }
   ],
   "source": [
    "\"23\".isascii()"
   ]
  },
  {
   "cell_type": "markdown",
   "id": "fc1930ac",
   "metadata": {},
   "source": [
    "<h1 style=\"font-size:25px; color: #E48400\">isdecimal()</h1>"
   ]
  },
  {
   "cell_type": "code",
   "execution_count": 140,
   "id": "df537c15",
   "metadata": {},
   "outputs": [
    {
     "data": {
      "text/plain": [
       "False"
      ]
     },
     "execution_count": 140,
     "metadata": {},
     "output_type": "execute_result"
    }
   ],
   "source": [
    "\"1.2\".isdecimal()"
   ]
  },
  {
   "cell_type": "code",
   "execution_count": 141,
   "id": "3c1d18f7",
   "metadata": {},
   "outputs": [
    {
     "data": {
      "text/plain": [
       "True"
      ]
     },
     "execution_count": 141,
     "metadata": {},
     "output_type": "execute_result"
    }
   ],
   "source": [
    "\"1\".isdecimal()"
   ]
  },
  {
   "cell_type": "markdown",
   "id": "935b70ef",
   "metadata": {},
   "source": [
    "<h1 style=\"font-size:25px; color: #E48400\">islower()</h1>"
   ]
  },
  {
   "cell_type": "code",
   "execution_count": 142,
   "id": "66f13022",
   "metadata": {},
   "outputs": [
    {
     "data": {
      "text/plain": [
       "True"
      ]
     },
     "execution_count": 142,
     "metadata": {},
     "output_type": "execute_result"
    }
   ],
   "source": [
    "\"tushar\".islower()"
   ]
  },
  {
   "cell_type": "code",
   "execution_count": 143,
   "id": "0b961b91",
   "metadata": {},
   "outputs": [
    {
     "data": {
      "text/plain": [
       "False"
      ]
     },
     "execution_count": 143,
     "metadata": {},
     "output_type": "execute_result"
    }
   ],
   "source": [
    "\"Tushar\".islower()"
   ]
  },
  {
   "cell_type": "markdown",
   "id": "bb7544fe",
   "metadata": {},
   "source": [
    "<h1 style=\"font-size:25px; color: #E48400\">isupper()</h1>"
   ]
  },
  {
   "cell_type": "code",
   "execution_count": 145,
   "id": "2b74eeff",
   "metadata": {},
   "outputs": [
    {
     "data": {
      "text/plain": [
       "False"
      ]
     },
     "execution_count": 145,
     "metadata": {},
     "output_type": "execute_result"
    }
   ],
   "source": [
    "\"Tushar\".isupper()"
   ]
  },
  {
   "cell_type": "code",
   "execution_count": 146,
   "id": "820a3fe5",
   "metadata": {},
   "outputs": [
    {
     "data": {
      "text/plain": [
       "False"
      ]
     },
     "execution_count": 146,
     "metadata": {},
     "output_type": "execute_result"
    }
   ],
   "source": [
    "\"tushar\".isupper()"
   ]
  },
  {
   "cell_type": "code",
   "execution_count": 147,
   "id": "acfc03d5",
   "metadata": {},
   "outputs": [
    {
     "data": {
      "text/plain": [
       "True"
      ]
     },
     "execution_count": 147,
     "metadata": {},
     "output_type": "execute_result"
    }
   ],
   "source": [
    "\"TUSHAR\".isupper()"
   ]
  },
  {
   "cell_type": "markdown",
   "id": "4ab02bd2",
   "metadata": {},
   "source": [
    "<h1 style=\"font-size:25px; color: #E48400\">split()</h1>"
   ]
  },
  {
   "cell_type": "code",
   "execution_count": 151,
   "id": "faa73ceb",
   "metadata": {},
   "outputs": [
    {
     "data": {
      "text/plain": [
       "['who', 'is', 'the', 'prime', 'minister', 'of', 'india']"
      ]
     },
     "execution_count": 151,
     "metadata": {},
     "output_type": "execute_result"
    }
   ],
   "source": [
    "\"who is the prime minister of india\".split()"
   ]
  },
  {
   "cell_type": "code",
   "execution_count": 152,
   "id": "cdf1ff29",
   "metadata": {},
   "outputs": [
    {
     "data": {
      "text/plain": [
       "['tushar']"
      ]
     },
     "execution_count": 152,
     "metadata": {},
     "output_type": "execute_result"
    }
   ],
   "source": [
    "\"tushar\".split()"
   ]
  },
  {
   "cell_type": "code",
   "execution_count": 154,
   "id": "83412afa",
   "metadata": {},
   "outputs": [
    {
     "data": {
      "text/plain": [
       "['who is the ', ' of india']"
      ]
     },
     "execution_count": 154,
     "metadata": {},
     "output_type": "execute_result"
    }
   ],
   "source": [
    "\"who is the prime minister of india\".split(\"prime minister\")"
   ]
  },
  {
   "cell_type": "markdown",
   "id": "ac0d79d3",
   "metadata": {},
   "source": [
    "<h1 style=\"font-size:25px; color: #E48400\">join()</h1>"
   ]
  },
  {
   "cell_type": "code",
   "execution_count": 155,
   "id": "61f4162e",
   "metadata": {},
   "outputs": [
    {
     "data": {
      "text/plain": [
       "'who-is-the-prime-minister-of-india'"
      ]
     },
     "execution_count": 155,
     "metadata": {},
     "output_type": "execute_result"
    }
   ],
   "source": [
    "\"-\".join(['who', 'is', 'the', 'prime', 'minister', 'of', 'india'])"
   ]
  },
  {
   "cell_type": "code",
   "execution_count": 156,
   "id": "2f961724",
   "metadata": {},
   "outputs": [
    {
     "data": {
      "text/plain": [
       "'who- -is- -the- -prime- -minister- -of- -india'"
      ]
     },
     "execution_count": 156,
     "metadata": {},
     "output_type": "execute_result"
    }
   ],
   "source": [
    "\"- -\".join(['who', 'is', 'the', 'prime', 'minister', 'of', 'india'])"
   ]
  },
  {
   "cell_type": "markdown",
   "id": "fa4c6da6",
   "metadata": {},
   "source": [
    "<h1 style=\"font-size:25px; color: #E48400\">replace()</h1>"
   ]
  },
  {
   "cell_type": "code",
   "execution_count": 157,
   "id": "6136f8a6",
   "metadata": {},
   "outputs": [
    {
     "data": {
      "text/plain": [
       "'Hi my name is tushar'"
      ]
     },
     "execution_count": 157,
     "metadata": {},
     "output_type": "execute_result"
    }
   ],
   "source": [
    "\"Hi my name is Nitish\".replace(\"Nitish\",\"tushar\")"
   ]
  },
  {
   "cell_type": "markdown",
   "id": "3e54bc32",
   "metadata": {},
   "source": [
    "<h1 style=\"font-size:25px; color: #E48400\">strip()</h1>"
   ]
  },
  {
   "cell_type": "code",
   "execution_count": 160,
   "id": "b09f3c26",
   "metadata": {},
   "outputs": [
    {
     "name": "stdout",
     "output_type": "stream",
     "text": [
      "          my name is tushar gupta\n",
      "my name is tushar gupta\n"
     ]
    }
   ],
   "source": [
    "name = \"          my name is tushar gupta\"\n",
    "print(name)\n",
    "name = name.strip()\n",
    "print(name)"
   ]
  },
  {
   "cell_type": "code",
   "execution_count": null,
   "id": "24b18799",
   "metadata": {},
   "outputs": [],
   "source": []
  }
 ],
 "metadata": {
  "kernelspec": {
   "display_name": "Python 3 (ipykernel)",
   "language": "python",
   "name": "python3"
  },
  "language_info": {
   "codemirror_mode": {
    "name": "ipython",
    "version": 3
   },
   "file_extension": ".py",
   "mimetype": "text/x-python",
   "name": "python",
   "nbconvert_exporter": "python",
   "pygments_lexer": "ipython3",
   "version": "3.9.13"
  }
 },
 "nbformat": 4,
 "nbformat_minor": 5
}
