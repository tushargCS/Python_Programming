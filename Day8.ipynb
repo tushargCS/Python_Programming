{
 "cells": [
  {
   "cell_type": "markdown",
   "id": "68ec22d2",
   "metadata": {},
   "source": [
    "<h1 style=\"font-size:50px; color:red\">Literals</h1>"
   ]
  },
  {
   "cell_type": "markdown",
   "id": "c8ce44d3",
   "metadata": {},
   "source": [
    "Literals is a raw data given in a variable. In python, There are various types of literals tey are follows:\n",
    "\n",
    "<ul style=\"font-size:20px\">\n",
    "<li> Numericals Literals</li>\n",
    "    <br/>\n",
    "<li> String Literals</li>\n",
    "<br/>\n",
    "    <li> Boolean Literals</li>\n",
    "    <br/>\n",
    "<li> Special Literals</li>\n",
    "</ul>"
   ]
  },
  {
   "cell_type": "markdown",
   "id": "31795089",
   "metadata": {},
   "source": [
    "<h1 style=\"font-size:30px; color:blue\">Numeric Literals</h1>"
   ]
  },
  {
   "cell_type": "code",
   "execution_count": 7,
   "id": "80b49bfe",
   "metadata": {},
   "outputs": [
    {
     "data": {
      "text/plain": [
       "10"
      ]
     },
     "execution_count": 7,
     "metadata": {},
     "output_type": "execute_result"
    }
   ],
   "source": [
    "#binary literals\n",
    "a = 0b1010\n",
    "a"
   ]
  },
  {
   "cell_type": "code",
   "execution_count": 9,
   "id": "a83886a5",
   "metadata": {},
   "outputs": [
    {
     "data": {
      "text/plain": [
       "100"
      ]
     },
     "execution_count": 9,
     "metadata": {},
     "output_type": "execute_result"
    }
   ],
   "source": [
    "#decimal literals\n",
    "b = 100\n",
    "b"
   ]
  },
  {
   "cell_type": "code",
   "execution_count": 11,
   "id": "a7f92506",
   "metadata": {},
   "outputs": [
    {
     "data": {
      "text/plain": [
       "200"
      ]
     },
     "execution_count": 11,
     "metadata": {},
     "output_type": "execute_result"
    }
   ],
   "source": [
    "#Octal Literals\n",
    "c = 0o310\n",
    "c"
   ]
  },
  {
   "cell_type": "code",
   "execution_count": 12,
   "id": "95d8be59",
   "metadata": {},
   "outputs": [
    {
     "data": {
      "text/plain": [
       "300"
      ]
     },
     "execution_count": 12,
     "metadata": {},
     "output_type": "execute_result"
    }
   ],
   "source": [
    "#Hexadecimal Literals\n",
    "d = 0x12c\n",
    "d"
   ]
  },
  {
   "cell_type": "code",
   "execution_count": 13,
   "id": "fa9707a8",
   "metadata": {},
   "outputs": [
    {
     "data": {
      "text/plain": [
       "10.5"
      ]
     },
     "execution_count": 13,
     "metadata": {},
     "output_type": "execute_result"
    }
   ],
   "source": [
    "#float literals\n",
    "f1 = 10.5\n",
    "f1"
   ]
  },
  {
   "cell_type": "code",
   "execution_count": 15,
   "id": "c8382d57",
   "metadata": {},
   "outputs": [
    {
     "name": "stdout",
     "output_type": "stream",
     "text": [
      "0.0 10.5\n"
     ]
    }
   ],
   "source": [
    "print(f1.imag,f1.real)"
   ]
  },
  {
   "cell_type": "markdown",
   "id": "934de012",
   "metadata": {},
   "source": [
    "<h1 style=\"font-size:30px; color:blue\">String Literals</h1>"
   ]
  },
  {
   "cell_type": "code",
   "execution_count": 19,
   "id": "604c0ef8",
   "metadata": {},
   "outputs": [
    {
     "name": "stdout",
     "output_type": "stream",
     "text": [
      "this is Python\n",
      "this is python\n",
      "C\n",
      "This is Python\n",
      "😀😆🤣\n",
      "raw \\n string\n",
      "raw \n",
      " string\n"
     ]
    }
   ],
   "source": [
    "s1 = 'this is Python'\n",
    "s2 = \"this is python\"\n",
    "char = \"C\"\n",
    "multiline_str = \"\"\"This is Python\"\"\"\n",
    "unicode = u\"\\U0001f600\\U0001F606\\U0001F923\" \n",
    "raw_str = r\"raw \\n string\"\n",
    "raw = \"raw \\n string\"\n",
    "\n",
    "print(s1)\n",
    "print(s2)\n",
    "print(char)\n",
    "print(multiline_str)\n",
    "print(unicode)\n",
    "print(raw_str)\n",
    "print(raw)"
   ]
  },
  {
   "cell_type": "markdown",
   "id": "fa961186",
   "metadata": {},
   "source": [
    "<h1 style=\"font-size:30px; color:blue\">Boolean Literals</h1>"
   ]
  },
  {
   "cell_type": "code",
   "execution_count": 21,
   "id": "64d2c809",
   "metadata": {},
   "outputs": [
    {
     "name": "stdout",
     "output_type": "stream",
     "text": [
      "a:  5\n",
      "b:  10\n"
     ]
    }
   ],
   "source": [
    "a = True+4\n",
    "b = False+10\n",
    "\n",
    "print(\"a: \",a)\n",
    "print(\"b: \",b)"
   ]
  },
  {
   "cell_type": "markdown",
   "id": "84f94ec8",
   "metadata": {},
   "source": [
    "<h1 style=\"font-size:30px; color:blue\">Special Literals</h1>"
   ]
  },
  {
   "cell_type": "code",
   "execution_count": 23,
   "id": "d2b3b717",
   "metadata": {},
   "outputs": [
    {
     "name": "stdout",
     "output_type": "stream",
     "text": [
      "None\n"
     ]
    }
   ],
   "source": [
    "a = None\n",
    "print(a)"
   ]
  },
  {
   "cell_type": "code",
   "execution_count": 28,
   "id": "ced24cb0",
   "metadata": {},
   "outputs": [],
   "source": [
    "def tushar():\n",
    "    None"
   ]
  },
  {
   "cell_type": "code",
   "execution_count": 30,
   "id": "44d19d70",
   "metadata": {},
   "outputs": [
    {
     "ename": "IndentationError",
     "evalue": "expected an indented block (1988377462.py, line 3)",
     "output_type": "error",
     "traceback": [
      "\u001b[0;36m  File \u001b[0;32m\"/tmp/ipykernel_5777/1988377462.py\"\u001b[0;36m, line \u001b[0;32m3\u001b[0m\n\u001b[0;31m    \u001b[0m\n\u001b[0m    ^\u001b[0m\n\u001b[0;31mIndentationError\u001b[0m\u001b[0;31m:\u001b[0m expected an indented block\n"
     ]
    }
   ],
   "source": [
    "#error\n",
    "def tushar():\n",
    "    "
   ]
  },
  {
   "cell_type": "markdown",
   "id": "b857f62c",
   "metadata": {},
   "source": [
    "### if i will try to make empty function without None i will get error"
   ]
  },
  {
   "cell_type": "code",
   "execution_count": null,
   "id": "91b76f5b",
   "metadata": {},
   "outputs": [],
   "source": []
  }
 ],
 "metadata": {
  "kernelspec": {
   "display_name": "Python 3 (ipykernel)",
   "language": "python",
   "name": "python3"
  },
  "language_info": {
   "codemirror_mode": {
    "name": "ipython",
    "version": 3
   },
   "file_extension": ".py",
   "mimetype": "text/x-python",
   "name": "python",
   "nbconvert_exporter": "python",
   "pygments_lexer": "ipython3",
   "version": "3.9.13"
  }
 },
 "nbformat": 4,
 "nbformat_minor": 5
}
