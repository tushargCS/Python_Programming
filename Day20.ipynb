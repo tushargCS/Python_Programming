{
 "cells": [
  {
   "cell_type": "markdown",
   "id": "3e8e8b1b",
   "metadata": {},
   "source": [
    "<h1 style=\"font-size:50px; color: red\">Recursion</h1>"
   ]
  },
  {
   "cell_type": "markdown",
   "id": "3318874f",
   "metadata": {},
   "source": [
    "### function call itself"
   ]
  },
  {
   "cell_type": "markdown",
   "id": "c8063e08",
   "metadata": {},
   "source": [
    "<h1 style=\"font-size:30px; color: blue\">Multiplication</h1>"
   ]
  },
  {
   "cell_type": "code",
   "execution_count": 7,
   "id": "4caaffa2",
   "metadata": {},
   "outputs": [],
   "source": [
    "def mul(a,b):\n",
    "    if b==1:\n",
    "        return a\n",
    "    else:\n",
    "        return a+mul(a,b-1)"
   ]
  },
  {
   "cell_type": "code",
   "execution_count": 8,
   "id": "0ae377d9",
   "metadata": {},
   "outputs": [
    {
     "data": {
      "text/plain": [
       "6"
      ]
     },
     "execution_count": 8,
     "metadata": {},
     "output_type": "execute_result"
    }
   ],
   "source": [
    "mul(2,3)"
   ]
  },
  {
   "cell_type": "markdown",
   "id": "cc4eb2f1",
   "metadata": {},
   "source": [
    "<h1 style=\"font-size:30px; color: blue\">Factorial</h1>"
   ]
  },
  {
   "cell_type": "code",
   "execution_count": 9,
   "id": "cf1a46ea",
   "metadata": {},
   "outputs": [],
   "source": [
    "def fact(a):\n",
    "    if(a==0):\n",
    "        return 1\n",
    "    else:\n",
    "        return a*fact(a-1)"
   ]
  },
  {
   "cell_type": "code",
   "execution_count": 10,
   "id": "4b89b2e6",
   "metadata": {},
   "outputs": [
    {
     "data": {
      "text/plain": [
       "120"
      ]
     },
     "execution_count": 10,
     "metadata": {},
     "output_type": "execute_result"
    }
   ],
   "source": [
    "fact(5)"
   ]
  },
  {
   "cell_type": "code",
   "execution_count": 11,
   "id": "57d908e1",
   "metadata": {},
   "outputs": [
    {
     "data": {
      "text/plain": [
       "1"
      ]
     },
     "execution_count": 11,
     "metadata": {},
     "output_type": "execute_result"
    }
   ],
   "source": [
    "fact(1)"
   ]
  },
  {
   "cell_type": "markdown",
   "id": "3bc9559a",
   "metadata": {},
   "source": [
    "<h1 style=\"font-size:30px; color: blue\">Palindrome</h1>"
   ]
  },
  {
   "cell_type": "code",
   "execution_count": 13,
   "id": "70b368ac",
   "metadata": {},
   "outputs": [],
   "source": [
    "def palin(text):\n",
    "    if len(text)<=1:\n",
    "        print(\"palindrome\")\n",
    "    else:\n",
    "        if text[0] == text[-1]:\n",
    "            palin(text[1:-1])\n",
    "        else:\n",
    "            print(\"Not a Palin\")"
   ]
  },
  {
   "cell_type": "code",
   "execution_count": 14,
   "id": "32acbc93",
   "metadata": {},
   "outputs": [
    {
     "name": "stdout",
     "output_type": "stream",
     "text": [
      "palindrome\n",
      "palindrome\n",
      "Not a Palin\n",
      "palindrome\n"
     ]
    }
   ],
   "source": [
    "palin(\"madam\")\n",
    "palin(\"malayalam\")\n",
    "palin(\"python\")\n",
    "palin(\"abba\")"
   ]
  },
  {
   "cell_type": "markdown",
   "id": "77707717",
   "metadata": {},
   "source": [
    "<h1 style=\"font-size:30px; color: blue\">Fibbonacci</h1>"
   ]
  },
  {
   "cell_type": "code",
   "execution_count": 21,
   "id": "4af4aa81",
   "metadata": {},
   "outputs": [],
   "source": [
    "def fib(m):\n",
    "    if m==1 or m==0:\n",
    "        return 1\n",
    "    else:\n",
    "        return fib(m-1)+fib(m-2)"
   ]
  },
  {
   "cell_type": "code",
   "execution_count": 22,
   "id": "ea24ee7f",
   "metadata": {},
   "outputs": [
    {
     "data": {
      "text/plain": [
       "1"
      ]
     },
     "execution_count": 22,
     "metadata": {},
     "output_type": "execute_result"
    }
   ],
   "source": [
    "fib(1)"
   ]
  },
  {
   "cell_type": "code",
   "execution_count": 23,
   "id": "e02afca4",
   "metadata": {},
   "outputs": [
    {
     "data": {
      "text/plain": [
       "2"
      ]
     },
     "execution_count": 23,
     "metadata": {},
     "output_type": "execute_result"
    }
   ],
   "source": [
    "fib(2)"
   ]
  },
  {
   "cell_type": "code",
   "execution_count": 24,
   "id": "12e926cb",
   "metadata": {},
   "outputs": [
    {
     "data": {
      "text/plain": [
       "3"
      ]
     },
     "execution_count": 24,
     "metadata": {},
     "output_type": "execute_result"
    }
   ],
   "source": [
    "fib(3)"
   ]
  },
  {
   "cell_type": "code",
   "execution_count": 25,
   "id": "91f9dd98",
   "metadata": {},
   "outputs": [
    {
     "data": {
      "text/plain": [
       "5"
      ]
     },
     "execution_count": 25,
     "metadata": {},
     "output_type": "execute_result"
    }
   ],
   "source": [
    "fib(4)"
   ]
  },
  {
   "cell_type": "code",
   "execution_count": 26,
   "id": "e693b0f3",
   "metadata": {},
   "outputs": [
    {
     "data": {
      "text/plain": [
       "8"
      ]
     },
     "execution_count": 26,
     "metadata": {},
     "output_type": "execute_result"
    }
   ],
   "source": [
    "fib(5)"
   ]
  },
  {
   "cell_type": "code",
   "execution_count": null,
   "id": "bcef5128",
   "metadata": {},
   "outputs": [],
   "source": []
  }
 ],
 "metadata": {
  "kernelspec": {
   "display_name": "Python 3 (ipykernel)",
   "language": "python",
   "name": "python3"
  },
  "language_info": {
   "codemirror_mode": {
    "name": "ipython",
    "version": 3
   },
   "file_extension": ".py",
   "mimetype": "text/x-python",
   "name": "python",
   "nbconvert_exporter": "python",
   "pygments_lexer": "ipython3",
   "version": "3.9.13"
  }
 },
 "nbformat": 4,
 "nbformat_minor": 5
}
