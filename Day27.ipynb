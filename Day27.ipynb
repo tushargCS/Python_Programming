{
 "cells": [
  {
   "cell_type": "markdown",
   "id": "2138143f",
   "metadata": {},
   "source": [
    "<h1 style=\"font-size:50px; color:red\">Wallpaper Viewer Application</h1>"
   ]
  },
  {
   "cell_type": "code",
   "execution_count": 1,
   "id": "9e28fd40",
   "metadata": {},
   "outputs": [],
   "source": [
    "from tkinter import *\n",
    "from PIL import ImageTk,Image\n",
    "import os\n",
    "\n",
    "def rotate_image():\n",
    "    global counter\n",
    "    img_label.config(image=img_array[counter%len(img_array)])\n",
    "    counter = counter + 1\n",
    "\n",
    "\n",
    "counter = 1\n",
    "root = Tk()\n",
    "root.title('Wallpaper Viewer')\n",
    "\n",
    "root.geometry('250x400')\n",
    "root.configure(background='black')\n",
    "\n",
    "files = os.listdir('wallpapers')\n",
    "\n",
    "img_array = []\n",
    "for file in files:\n",
    "    img = Image.open(os.path.join('wallpapers',file))\n",
    "    resized_img = img.resize((200,300))\n",
    "    img_array.append(ImageTk.PhotoImage(resized_img))\n",
    "\n",
    "img_label = Label(root,image=img_array[0])\n",
    "img_label.pack(pady=(15,10))\n",
    "\n",
    "next_btn = Button(root,text='Next',bg='white',fg='black',width=28,height=2,command=rotate_image)\n",
    "next_btn.pack()\n",
    "root.mainloop()"
   ]
  },
  {
   "cell_type": "code",
   "execution_count": null,
   "id": "3dc09cd6",
   "metadata": {},
   "outputs": [],
   "source": []
  }
 ],
 "metadata": {
  "kernelspec": {
   "display_name": "Python 3 (ipykernel)",
   "language": "python",
   "name": "python3"
  },
  "language_info": {
   "codemirror_mode": {
    "name": "ipython",
    "version": 3
   },
   "file_extension": ".py",
   "mimetype": "text/x-python",
   "name": "python",
   "nbconvert_exporter": "python",
   "pygments_lexer": "ipython3",
   "version": "3.9.13"
  }
 },
 "nbformat": 4,
 "nbformat_minor": 5
}
