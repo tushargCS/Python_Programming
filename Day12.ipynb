{
 "cells": [
  {
   "cell_type": "markdown",
   "id": "c63440e0",
   "metadata": {},
   "source": [
    "<h1 style=\"font-size:50px; color:red\">Module</h1>"
   ]
  },
  {
   "cell_type": "markdown",
   "id": "1e75b26e",
   "metadata": {},
   "source": [
    "A file containing a set of functions you want to include in your application.\n",
    "Examples of python modules\n",
    "<ul>\n",
    "<li>math</li>\n",
    "<li>random</li>\n",
    "<li>os</li>\n",
    "<li>time</li>\n",
    "</ul>"
   ]
  },
  {
   "cell_type": "code",
   "execution_count": 3,
   "id": "88b0c507",
   "metadata": {},
   "outputs": [],
   "source": [
    "#this will give you list of all modules\n",
    "#help('modules')"
   ]
  },
  {
   "cell_type": "markdown",
   "id": "444ea084",
   "metadata": {},
   "source": [
    "<h1 style=\"font-size:30px; color:blue\">1. math</h1>"
   ]
  },
  {
   "cell_type": "code",
   "execution_count": 4,
   "id": "7f367f9a",
   "metadata": {},
   "outputs": [],
   "source": [
    "import math"
   ]
  },
  {
   "cell_type": "code",
   "execution_count": 5,
   "id": "0b5676f2",
   "metadata": {},
   "outputs": [
    {
     "data": {
      "text/plain": [
       "3.141592653589793"
      ]
     },
     "execution_count": 5,
     "metadata": {},
     "output_type": "execute_result"
    }
   ],
   "source": [
    "math.pi"
   ]
  },
  {
   "cell_type": "code",
   "execution_count": 6,
   "id": "f5882818",
   "metadata": {},
   "outputs": [
    {
     "data": {
      "text/plain": [
       "2.718281828459045"
      ]
     },
     "execution_count": 6,
     "metadata": {},
     "output_type": "execute_result"
    }
   ],
   "source": [
    "math.e"
   ]
  },
  {
   "cell_type": "code",
   "execution_count": 7,
   "id": "fde5bbc4",
   "metadata": {},
   "outputs": [
    {
     "data": {
      "text/plain": [
       "120"
      ]
     },
     "execution_count": 7,
     "metadata": {},
     "output_type": "execute_result"
    }
   ],
   "source": [
    "math.factorial(5)"
   ]
  },
  {
   "cell_type": "code",
   "execution_count": 8,
   "id": "8fd15107",
   "metadata": {},
   "outputs": [
    {
     "data": {
      "text/plain": [
       "9"
      ]
     },
     "execution_count": 8,
     "metadata": {},
     "output_type": "execute_result"
    }
   ],
   "source": [
    "math.ceil(8.9)"
   ]
  },
  {
   "cell_type": "code",
   "execution_count": 9,
   "id": "929cb4be",
   "metadata": {},
   "outputs": [
    {
     "data": {
      "text/plain": [
       "8"
      ]
     },
     "execution_count": 9,
     "metadata": {},
     "output_type": "execute_result"
    }
   ],
   "source": [
    "math.floor(8.9)"
   ]
  },
  {
   "cell_type": "code",
   "execution_count": 10,
   "id": "96f181fa",
   "metadata": {},
   "outputs": [
    {
     "data": {
      "text/plain": [
       "nan"
      ]
     },
     "execution_count": 10,
     "metadata": {},
     "output_type": "execute_result"
    }
   ],
   "source": [
    "math.nan"
   ]
  },
  {
   "cell_type": "code",
   "execution_count": 12,
   "id": "dd58c082",
   "metadata": {},
   "outputs": [
    {
     "data": {
      "text/plain": [
       "10.0"
      ]
     },
     "execution_count": 12,
     "metadata": {},
     "output_type": "execute_result"
    }
   ],
   "source": [
    "math.sqrt(100)"
   ]
  },
  {
   "cell_type": "markdown",
   "id": "69719feb",
   "metadata": {},
   "source": [
    "<h1 style=\"font-size:30px; color:blue\">2. random</h1>"
   ]
  },
  {
   "cell_type": "code",
   "execution_count": 13,
   "id": "46ed977e",
   "metadata": {},
   "outputs": [],
   "source": [
    "import random"
   ]
  },
  {
   "cell_type": "code",
   "execution_count": 14,
   "id": "1bae09b7",
   "metadata": {},
   "outputs": [
    {
     "data": {
      "text/plain": [
       "10"
      ]
     },
     "execution_count": 14,
     "metadata": {},
     "output_type": "execute_result"
    }
   ],
   "source": [
    "random.randint(1,20) #this will give you random no. b/w giving range"
   ]
  },
  {
   "cell_type": "code",
   "execution_count": 20,
   "id": "f8dbaceb",
   "metadata": {},
   "outputs": [
    {
     "data": {
      "text/plain": [
       "[5, 4, 2, 3, 1]"
      ]
     },
     "execution_count": 20,
     "metadata": {},
     "output_type": "execute_result"
    }
   ],
   "source": [
    "a = [1,2,3,4,5]\n",
    "random.shuffle(a) # this will shuffle your list\n",
    "a"
   ]
  },
  {
   "cell_type": "markdown",
   "id": "c16f1b08",
   "metadata": {},
   "source": [
    "<h1 style=\"font-size:30px; color:blue\">3. time</h1>"
   ]
  },
  {
   "cell_type": "code",
   "execution_count": 22,
   "id": "e212946a",
   "metadata": {},
   "outputs": [],
   "source": [
    "import time"
   ]
  },
  {
   "cell_type": "code",
   "execution_count": 25,
   "id": "38cc4c7f",
   "metadata": {},
   "outputs": [
    {
     "data": {
      "text/plain": [
       "1685175157.389142"
      ]
     },
     "execution_count": 25,
     "metadata": {},
     "output_type": "execute_result"
    }
   ],
   "source": [
    "time.time()"
   ]
  },
  {
   "cell_type": "code",
   "execution_count": 27,
   "id": "2ea63db9",
   "metadata": {},
   "outputs": [
    {
     "data": {
      "text/plain": [
       "'Sat May 27 13:43:25 2023'"
      ]
     },
     "execution_count": 27,
     "metadata": {},
     "output_type": "execute_result"
    }
   ],
   "source": [
    "time.ctime() # this will tell you current time"
   ]
  },
  {
   "cell_type": "code",
   "execution_count": 30,
   "id": "f1f3b0ff",
   "metadata": {},
   "outputs": [
    {
     "name": "stdout",
     "output_type": "stream",
     "text": [
      "hello\n",
      "world\n"
     ]
    }
   ],
   "source": [
    "print(\"hello\")\n",
    "time.sleep(3)\n",
    "print(\"world\")"
   ]
  },
  {
   "cell_type": "markdown",
   "id": "1cbf14bf",
   "metadata": {},
   "source": [
    "<h1 style=\"font-size:30px; color:blue\">4. os</h1>"
   ]
  },
  {
   "cell_type": "code",
   "execution_count": 32,
   "id": "135bf1ca",
   "metadata": {},
   "outputs": [],
   "source": [
    "import os"
   ]
  },
  {
   "cell_type": "code",
   "execution_count": 33,
   "id": "3fb0b96d",
   "metadata": {},
   "outputs": [
    {
     "data": {
      "text/plain": [
       "'/home/anurag10/100_days_Of_python'"
      ]
     },
     "execution_count": 33,
     "metadata": {},
     "output_type": "execute_result"
    }
   ],
   "source": [
    "os.getcwd()"
   ]
  },
  {
   "cell_type": "code",
   "execution_count": 34,
   "id": "29255e69",
   "metadata": {},
   "outputs": [
    {
     "data": {
      "text/plain": [
       "['Day11.ipynb',\n",
       " 'Day2.ipynb',\n",
       " 'Day12.ipynb',\n",
       " '.ipynb_checkpoints',\n",
       " 'Day8.ipynb',\n",
       " 'Day6.ipynb',\n",
       " 'Day1.ipynb',\n",
       " 'Day10.ipynb',\n",
       " 'Day4.ipynb',\n",
       " 'Day9.ipynb',\n",
       " 'Day7.ipynb',\n",
       " 'Day3.ipynb',\n",
       " 'Day5.ipynb']"
      ]
     },
     "execution_count": 34,
     "metadata": {},
     "output_type": "execute_result"
    }
   ],
   "source": [
    "os.listdir()"
   ]
  },
  {
   "cell_type": "code",
   "execution_count": null,
   "id": "3409d887",
   "metadata": {},
   "outputs": [],
   "source": []
  }
 ],
 "metadata": {
  "kernelspec": {
   "display_name": "Python 3 (ipykernel)",
   "language": "python",
   "name": "python3"
  },
  "language_info": {
   "codemirror_mode": {
    "name": "ipython",
    "version": 3
   },
   "file_extension": ".py",
   "mimetype": "text/x-python",
   "name": "python",
   "nbconvert_exporter": "python",
   "pygments_lexer": "ipython3",
   "version": "3.9.13"
  }
 },
 "nbformat": 4,
 "nbformat_minor": 5
}
