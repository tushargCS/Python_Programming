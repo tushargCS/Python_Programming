{
 "cells": [
  {
   "cell_type": "markdown",
   "id": "b2be9e79",
   "metadata": {},
   "source": [
    "<h1 style=\"font-size:50px; color:red\">dict</h1>"
   ]
  },
  {
   "cell_type": "code",
   "execution_count": 3,
   "id": "c7927315",
   "metadata": {},
   "outputs": [
    {
     "data": {
      "text/plain": [
       "{'name': 'tushar', 'age': 20}"
      ]
     },
     "execution_count": 3,
     "metadata": {},
     "output_type": "execute_result"
    }
   ],
   "source": [
    "{'name':'tushar','age':20}"
   ]
  },
  {
   "cell_type": "markdown",
   "id": "c8b63bf6",
   "metadata": {},
   "source": [
    "<ul style=\"font-size:15px\">\n",
    "<li> Dictionary has no indexing</li>\n",
    "<li> Dictionary is a mutable types</li>\n",
    "<li> keys are immutable, values can be mutable </li>\n",
    "<li> Keys should be unique</li>\n",
    "</ul>"
   ]
  },
  {
   "cell_type": "markdown",
   "id": "24ecd46a",
   "metadata": {},
   "source": [
    "<h1 style=\"font-size:30px; color:blue\">CREATION</h1>"
   ]
  },
  {
   "cell_type": "code",
   "execution_count": 6,
   "id": "921e0dc9",
   "metadata": {},
   "outputs": [
    {
     "data": {
      "text/plain": [
       "dict"
      ]
     },
     "execution_count": 6,
     "metadata": {},
     "output_type": "execute_result"
    }
   ],
   "source": [
    "d = {}\n",
    "type(d)"
   ]
  },
  {
   "cell_type": "code",
   "execution_count": 7,
   "id": "f4ad4ddb",
   "metadata": {},
   "outputs": [
    {
     "data": {
      "text/plain": [
       "dict"
      ]
     },
     "execution_count": 7,
     "metadata": {},
     "output_type": "execute_result"
    }
   ],
   "source": [
    "d = {'name':'tushar','age':32}\n",
    "type(d)"
   ]
  },
  {
   "cell_type": "code",
   "execution_count": 8,
   "id": "4b92348e",
   "metadata": {
    "scrolled": true
   },
   "outputs": [
    {
     "ename": "TypeError",
     "evalue": "unhashable type: 'list'",
     "output_type": "error",
     "traceback": [
      "\u001b[0;31m---------------------------------------------------------------------------\u001b[0m",
      "\u001b[0;31mTypeError\u001b[0m                                 Traceback (most recent call last)",
      "\u001b[0;32m/tmp/ipykernel_21595/422776937.py\u001b[0m in \u001b[0;36m<module>\u001b[0;34m\u001b[0m\n\u001b[0;32m----> 1\u001b[0;31m \u001b[0md\u001b[0m \u001b[0;34m=\u001b[0m \u001b[0;34m{\u001b[0m\u001b[0;34m[\u001b[0m\u001b[0;36m1\u001b[0m\u001b[0;34m,\u001b[0m\u001b[0;36m2\u001b[0m\u001b[0;34m,\u001b[0m\u001b[0;36m3\u001b[0m\u001b[0;34m]\u001b[0m\u001b[0;34m:\u001b[0m\u001b[0;34m\"tushar\"\u001b[0m\u001b[0;34m}\u001b[0m\u001b[0;34m\u001b[0m\u001b[0;34m\u001b[0m\u001b[0m\n\u001b[0m",
      "\u001b[0;31mTypeError\u001b[0m: unhashable type: 'list'"
     ]
    }
   ],
   "source": [
    "d = {[1,2,3]:\"tushar\"} #because keys always immutable"
   ]
  },
  {
   "cell_type": "code",
   "execution_count": 10,
   "id": "77885fbe",
   "metadata": {},
   "outputs": [],
   "source": [
    "d = {(1,2,3):\"tushar\"} #because tuple is immutable data-type"
   ]
  },
  {
   "cell_type": "code",
   "execution_count": 13,
   "id": "80ed913b",
   "metadata": {},
   "outputs": [
    {
     "data": {
      "text/plain": [
       "{'name': 'rahul'}"
      ]
     },
     "execution_count": 13,
     "metadata": {},
     "output_type": "execute_result"
    }
   ],
   "source": [
    "d = {'name':\"tushar\",'name':\"rahul\"}\n",
    "d #because keys must be unique"
   ]
  },
  {
   "cell_type": "code",
   "execution_count": 14,
   "id": "d5f8640d",
   "metadata": {},
   "outputs": [],
   "source": [
    "#2d dictionary\n",
    "d = {'name':\"tushar\",'college':\"GLA\",'Marks':{'OS':35,'CN':40,'DBMS':42}}"
   ]
  },
  {
   "cell_type": "markdown",
   "id": "c431696a",
   "metadata": {},
   "source": [
    "<h1 style=\"font-size:30px; color:BLUE\">ACCESSING</h1>"
   ]
  },
  {
   "cell_type": "code",
   "execution_count": 39,
   "id": "b59c17b6",
   "metadata": {},
   "outputs": [
    {
     "data": {
      "text/plain": [
       "'TUSHAR'"
      ]
     },
     "execution_count": 39,
     "metadata": {},
     "output_type": "execute_result"
    }
   ],
   "source": [
    "D = {'NAME':'TUSHAR'}\n",
    "D['NAME']"
   ]
  },
  {
   "cell_type": "code",
   "execution_count": 40,
   "id": "eafc6ff8",
   "metadata": {},
   "outputs": [
    {
     "data": {
      "text/plain": [
       "{'OS': 35, 'CN': 40, 'DBMS': 42}"
      ]
     },
     "execution_count": 40,
     "metadata": {},
     "output_type": "execute_result"
    }
   ],
   "source": [
    "d = {'name':\"tushar\",'college':\"GLA\",'Marks':{'OS':35,'CN':40,'DBMS':42}}\n",
    "d['Marks']"
   ]
  },
  {
   "cell_type": "code",
   "execution_count": 41,
   "id": "1fc183f9",
   "metadata": {},
   "outputs": [
    {
     "data": {
      "text/plain": [
       "40"
      ]
     },
     "execution_count": 41,
     "metadata": {},
     "output_type": "execute_result"
    }
   ],
   "source": [
    "d['Marks']['CN']"
   ]
  },
  {
   "cell_type": "code",
   "execution_count": 42,
   "id": "4aa5f232",
   "metadata": {
    "scrolled": true
   },
   "outputs": [
    {
     "data": {
      "text/plain": [
       "{'OS': 35, 'CN': 40, 'DBMS': 42}"
      ]
     },
     "execution_count": 42,
     "metadata": {},
     "output_type": "execute_result"
    }
   ],
   "source": [
    "d.get('Marks')"
   ]
  },
  {
   "cell_type": "code",
   "execution_count": 43,
   "id": "617c6f46",
   "metadata": {},
   "outputs": [
    {
     "data": {
      "text/plain": [
       "40"
      ]
     },
     "execution_count": 43,
     "metadata": {},
     "output_type": "execute_result"
    }
   ],
   "source": [
    "d.get('Marks').get('CN')"
   ]
  },
  {
   "cell_type": "markdown",
   "id": "6167bb38",
   "metadata": {},
   "source": [
    "<h1 style=\"font-size:30px; color:BLUE\">EDITING</h1>"
   ]
  },
  {
   "cell_type": "code",
   "execution_count": 44,
   "id": "c7f681c4",
   "metadata": {},
   "outputs": [
    {
     "data": {
      "text/plain": [
       "{'name': 'tushar', 'age': 32}"
      ]
     },
     "execution_count": 44,
     "metadata": {},
     "output_type": "execute_result"
    }
   ],
   "source": [
    "d = {'name':\"tushar\",'age':32}\n",
    "d"
   ]
  },
  {
   "cell_type": "code",
   "execution_count": 45,
   "id": "dafb3dfd",
   "metadata": {},
   "outputs": [],
   "source": [
    "d['age'] = 20"
   ]
  },
  {
   "cell_type": "code",
   "execution_count": 46,
   "id": "8d0819d3",
   "metadata": {},
   "outputs": [
    {
     "data": {
      "text/plain": [
       "{'name': 'tushar', 'age': 20}"
      ]
     },
     "execution_count": 46,
     "metadata": {},
     "output_type": "execute_result"
    }
   ],
   "source": [
    "d"
   ]
  },
  {
   "cell_type": "markdown",
   "id": "a4caf74c",
   "metadata": {},
   "source": [
    "<h1 style=\"font-size:30px; color:BLUE\">ADDING</h1>"
   ]
  },
  {
   "cell_type": "code",
   "execution_count": 48,
   "id": "7f588709",
   "metadata": {},
   "outputs": [
    {
     "data": {
      "text/plain": [
       "{'NAME': 'TUSHAR'}"
      ]
     },
     "execution_count": 48,
     "metadata": {},
     "output_type": "execute_result"
    }
   ],
   "source": [
    "D={'NAME':'TUSHAR'}\n",
    "D"
   ]
  },
  {
   "cell_type": "code",
   "execution_count": 49,
   "id": "4711e60c",
   "metadata": {},
   "outputs": [
    {
     "data": {
      "text/plain": [
       "{'NAME': 'TUSHAR', 'AGE': 32}"
      ]
     },
     "execution_count": 49,
     "metadata": {},
     "output_type": "execute_result"
    }
   ],
   "source": [
    "D['AGE'] = 32\n",
    "D"
   ]
  },
  {
   "cell_type": "markdown",
   "id": "1dc4fe98",
   "metadata": {},
   "source": [
    "<h1 style=\"font-size:30px; color:BLUE\">DELETION</h1>"
   ]
  },
  {
   "cell_type": "markdown",
   "id": "502aec3e",
   "metadata": {},
   "source": [
    "<h1 style=\"font-size:25px; color: #E48400\">del</h1>"
   ]
  },
  {
   "cell_type": "code",
   "execution_count": 51,
   "id": "68f15fd8",
   "metadata": {},
   "outputs": [
    {
     "data": {
      "text/plain": [
       "{'NAME': 'TUSHAR'}"
      ]
     },
     "execution_count": 51,
     "metadata": {},
     "output_type": "execute_result"
    }
   ],
   "source": [
    "D = {'NAME':\"TUSHAR\"}\n",
    "D"
   ]
  },
  {
   "cell_type": "code",
   "execution_count": 53,
   "id": "4f59d00c",
   "metadata": {},
   "outputs": [],
   "source": [
    "del D['NAME']"
   ]
  },
  {
   "cell_type": "code",
   "execution_count": 55,
   "id": "e5067f6f",
   "metadata": {},
   "outputs": [
    {
     "data": {
      "text/plain": [
       "{}"
      ]
     },
     "execution_count": 55,
     "metadata": {},
     "output_type": "execute_result"
    }
   ],
   "source": [
    "D"
   ]
  },
  {
   "cell_type": "code",
   "execution_count": 56,
   "id": "8556a312",
   "metadata": {},
   "outputs": [],
   "source": [
    "del D"
   ]
  },
  {
   "cell_type": "markdown",
   "id": "a66f4f8e",
   "metadata": {},
   "source": [
    "<h1 style=\"font-size:25px; color: #E48400\">clear()</h1>"
   ]
  },
  {
   "cell_type": "code",
   "execution_count": 62,
   "id": "1ec2d7af",
   "metadata": {},
   "outputs": [
    {
     "data": {
      "text/plain": [
       "{'name': 'tushar', 'age': 32}"
      ]
     },
     "execution_count": 62,
     "metadata": {},
     "output_type": "execute_result"
    }
   ],
   "source": [
    "d = {'name':\"tushar\",'age':32}\n",
    "d"
   ]
  },
  {
   "cell_type": "code",
   "execution_count": 63,
   "id": "a58cc58a",
   "metadata": {},
   "outputs": [],
   "source": [
    "d.clear()"
   ]
  },
  {
   "cell_type": "code",
   "execution_count": 64,
   "id": "31dcca83",
   "metadata": {},
   "outputs": [
    {
     "data": {
      "text/plain": [
       "{}"
      ]
     },
     "execution_count": 64,
     "metadata": {},
     "output_type": "execute_result"
    }
   ],
   "source": [
    "d"
   ]
  },
  {
   "cell_type": "markdown",
   "id": "b0a1ba94",
   "metadata": {},
   "source": [
    "<h1 style=\"font-size:30px; color:BLUE\">OPERATIONS</h1>"
   ]
  },
  {
   "cell_type": "code",
   "execution_count": 66,
   "id": "71785ca7",
   "metadata": {},
   "outputs": [],
   "source": [
    "#concatination and multiplication not work in dictonary\n",
    "d = {'name':'tushar','age':20,'work':'Student'}"
   ]
  },
  {
   "cell_type": "markdown",
   "id": "5a95a407",
   "metadata": {},
   "source": [
    "<h1 style=\"font-size:25px; color: #E48400\">looping</h1>"
   ]
  },
  {
   "cell_type": "code",
   "execution_count": 67,
   "id": "1073076e",
   "metadata": {},
   "outputs": [
    {
     "name": "stdout",
     "output_type": "stream",
     "text": [
      "name\n",
      "age\n",
      "work\n"
     ]
    }
   ],
   "source": [
    "for i in d:\n",
    "    print(i)"
   ]
  },
  {
   "cell_type": "code",
   "execution_count": 70,
   "id": "7f034825",
   "metadata": {
    "scrolled": true
   },
   "outputs": [
    {
     "name": "stdout",
     "output_type": "stream",
     "text": [
      "name :  tushar\n",
      "age :  20\n",
      "work :  Student\n"
     ]
    }
   ],
   "source": [
    "for i in d:\n",
    "    print(i,\": \",d[i])"
   ]
  },
  {
   "cell_type": "markdown",
   "id": "7d386ce6",
   "metadata": {},
   "source": [
    "<h1 style=\"font-size:25px; color: #E48400\">membership</h1>"
   ]
  },
  {
   "cell_type": "code",
   "execution_count": 72,
   "id": "3704207f",
   "metadata": {},
   "outputs": [
    {
     "data": {
      "text/plain": [
       "False"
      ]
     },
     "execution_count": 72,
     "metadata": {},
     "output_type": "execute_result"
    }
   ],
   "source": [
    "'tushar' in d"
   ]
  },
  {
   "cell_type": "code",
   "execution_count": 73,
   "id": "7159d999",
   "metadata": {},
   "outputs": [
    {
     "data": {
      "text/plain": [
       "True"
      ]
     },
     "execution_count": 73,
     "metadata": {},
     "output_type": "execute_result"
    }
   ],
   "source": [
    "'name' in d"
   ]
  },
  {
   "cell_type": "markdown",
   "id": "ebf45ded",
   "metadata": {},
   "source": [
    "<h1 style=\"font-size:30px; color:BLUE\">OPERATIONS</h1>"
   ]
  },
  {
   "cell_type": "markdown",
   "id": "2df9f308",
   "metadata": {},
   "source": [
    "<h1 style=\"font-size:25px; color: #E48400\">len()</h1>"
   ]
  },
  {
   "cell_type": "code",
   "execution_count": 77,
   "id": "cb4483d6",
   "metadata": {},
   "outputs": [],
   "source": [
    "d = {'name':'tushar','age':20}"
   ]
  },
  {
   "cell_type": "code",
   "execution_count": 78,
   "id": "2f3ae545",
   "metadata": {},
   "outputs": [
    {
     "data": {
      "text/plain": [
       "2"
      ]
     },
     "execution_count": 78,
     "metadata": {},
     "output_type": "execute_result"
    }
   ],
   "source": [
    "len(d)"
   ]
  },
  {
   "cell_type": "markdown",
   "id": "972a312b",
   "metadata": {},
   "source": [
    "<h1 style=\"font-size:25px; color: #E48400\">min()</h1>"
   ]
  },
  {
   "cell_type": "code",
   "execution_count": 79,
   "id": "59903965",
   "metadata": {},
   "outputs": [
    {
     "data": {
      "text/plain": [
       "'age'"
      ]
     },
     "execution_count": 79,
     "metadata": {},
     "output_type": "execute_result"
    }
   ],
   "source": [
    "min(d)"
   ]
  },
  {
   "cell_type": "markdown",
   "id": "c6094e64",
   "metadata": {},
   "source": [
    "<h1 style=\"font-size:25px; color: #E48400\">max()</h1>"
   ]
  },
  {
   "cell_type": "code",
   "execution_count": 80,
   "id": "5f5e994a",
   "metadata": {},
   "outputs": [
    {
     "data": {
      "text/plain": [
       "'name'"
      ]
     },
     "execution_count": 80,
     "metadata": {},
     "output_type": "execute_result"
    }
   ],
   "source": [
    "max(d)"
   ]
  },
  {
   "cell_type": "markdown",
   "id": "1041cac8",
   "metadata": {},
   "source": [
    "<h1 style=\"font-size:25px; color: #E48400\">sorted()</h1>"
   ]
  },
  {
   "cell_type": "code",
   "execution_count": 81,
   "id": "562ea4b2",
   "metadata": {},
   "outputs": [
    {
     "data": {
      "text/plain": [
       "['age', 'name']"
      ]
     },
     "execution_count": 81,
     "metadata": {},
     "output_type": "execute_result"
    }
   ],
   "source": [
    "sorted(d)"
   ]
  },
  {
   "cell_type": "code",
   "execution_count": 82,
   "id": "1c88d875",
   "metadata": {},
   "outputs": [
    {
     "data": {
      "text/plain": [
       "['name', 'age']"
      ]
     },
     "execution_count": 82,
     "metadata": {},
     "output_type": "execute_result"
    }
   ],
   "source": [
    "sorted(d,reverse=True)"
   ]
  },
  {
   "cell_type": "markdown",
   "id": "d72e719f",
   "metadata": {},
   "source": [
    "<h1 style=\"font-size:25px; color: #E48400\">keys()</h1>"
   ]
  },
  {
   "cell_type": "code",
   "execution_count": 84,
   "id": "a4eb589f",
   "metadata": {},
   "outputs": [
    {
     "data": {
      "text/plain": [
       "dict_keys(['name', 'age'])"
      ]
     },
     "execution_count": 84,
     "metadata": {},
     "output_type": "execute_result"
    }
   ],
   "source": [
    "d.keys()"
   ]
  },
  {
   "cell_type": "markdown",
   "id": "4eede9b1",
   "metadata": {},
   "source": [
    "<h1 style=\"font-size:25px; color: #E48400\">values()</h1>"
   ]
  },
  {
   "cell_type": "code",
   "execution_count": 85,
   "id": "0e58c925",
   "metadata": {},
   "outputs": [
    {
     "data": {
      "text/plain": [
       "dict_values(['tushar', 20])"
      ]
     },
     "execution_count": 85,
     "metadata": {},
     "output_type": "execute_result"
    }
   ],
   "source": [
    "d.values()"
   ]
  },
  {
   "cell_type": "code",
   "execution_count": null,
   "id": "2f94329e",
   "metadata": {},
   "outputs": [],
   "source": []
  }
 ],
 "metadata": {
  "kernelspec": {
   "display_name": "Python 3 (ipykernel)",
   "language": "python",
   "name": "python3"
  },
  "language_info": {
   "codemirror_mode": {
    "name": "ipython",
    "version": 3
   },
   "file_extension": ".py",
   "mimetype": "text/x-python",
   "name": "python",
   "nbconvert_exporter": "python",
   "pygments_lexer": "ipython3",
   "version": "3.9.13"
  }
 },
 "nbformat": 4,
 "nbformat_minor": 5
}
