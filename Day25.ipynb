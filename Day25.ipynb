{
 "cells": [
  {
   "cell_type": "markdown",
   "id": "4a315699",
   "metadata": {},
   "source": [
    "<h1 style=\"font-size:50px; color:red\">Generators</h1>"
   ]
  },
  {
   "cell_type": "markdown",
   "id": "61d9bc03",
   "metadata": {},
   "source": [
    "### It is a simple way to create iterators."
   ]
  },
  {
   "cell_type": "markdown",
   "id": "acc60d34",
   "metadata": {},
   "source": [
    "### generator functions not have return statement. it has yield statement"
   ]
  },
  {
   "cell_type": "code",
   "execution_count": 7,
   "id": "83fe2ddc",
   "metadata": {},
   "outputs": [],
   "source": [
    "def gen_demo():\n",
    "    yield \"first statement\"\n",
    "    yield \"second statement\"\n",
    "    yield \"third statement\""
   ]
  },
  {
   "cell_type": "code",
   "execution_count": 8,
   "id": "33344dd4",
   "metadata": {},
   "outputs": [],
   "source": [
    "gen = gen_demo()"
   ]
  },
  {
   "cell_type": "code",
   "execution_count": 9,
   "id": "ca400f74",
   "metadata": {},
   "outputs": [
    {
     "name": "stdout",
     "output_type": "stream",
     "text": [
      "<generator object gen_demo at 0x7f0214709b30>\n"
     ]
    }
   ],
   "source": [
    "print(gen)"
   ]
  },
  {
   "cell_type": "code",
   "execution_count": 10,
   "id": "9940db90",
   "metadata": {},
   "outputs": [
    {
     "name": "stdout",
     "output_type": "stream",
     "text": [
      "first statement\n",
      "second statement\n",
      "third statement\n"
     ]
    }
   ],
   "source": [
    "print(next(gen))\n",
    "print(next(gen))\n",
    "print(next(gen))"
   ]
  },
  {
   "cell_type": "code",
   "execution_count": 11,
   "id": "9aabde6c",
   "metadata": {},
   "outputs": [
    {
     "name": "stdout",
     "output_type": "stream",
     "text": [
      "first statement\n",
      "second statement\n",
      "third statement\n"
     ]
    }
   ],
   "source": [
    "gen1 = gen_demo()\n",
    "for i in gen1:\n",
    "    print(i)"
   ]
  },
  {
   "cell_type": "code",
   "execution_count": 12,
   "id": "fc6db2f4",
   "metadata": {},
   "outputs": [],
   "source": [
    "def square(num):\n",
    "    for i in range(1,num+1):\n",
    "        yield i**2"
   ]
  },
  {
   "cell_type": "code",
   "execution_count": 14,
   "id": "f929fd19",
   "metadata": {},
   "outputs": [
    {
     "name": "stdout",
     "output_type": "stream",
     "text": [
      "1\n",
      "4\n",
      "9\n",
      "16\n",
      "25\n",
      "36\n",
      "49\n",
      "64\n",
      "81\n",
      "100\n"
     ]
    }
   ],
   "source": [
    "gen = square(10)\n",
    "\n",
    "print(next(gen))\n",
    "print(next(gen))\n",
    "\n",
    "for i in gen:\n",
    "    print(i)"
   ]
  },
  {
   "cell_type": "markdown",
   "id": "3e16dc58",
   "metadata": {},
   "source": [
    "<h1 style=\"font-size:25px; color: #E48400\">range function using Generator</h1>"
   ]
  },
  {
   "cell_type": "code",
   "execution_count": 15,
   "id": "49dc50e7",
   "metadata": {},
   "outputs": [],
   "source": [
    "def mera_range(start,end):\n",
    "    for i in range(start,end):\n",
    "        yield i"
   ]
  },
  {
   "cell_type": "code",
   "execution_count": 16,
   "id": "5014d9db",
   "metadata": {},
   "outputs": [
    {
     "name": "stdout",
     "output_type": "stream",
     "text": [
      "1\n",
      "2\n",
      "3\n",
      "4\n",
      "5\n",
      "6\n",
      "7\n",
      "8\n",
      "9\n"
     ]
    }
   ],
   "source": [
    "for i in mera_range(1,10):\n",
    "    print(i)"
   ]
  },
  {
   "cell_type": "markdown",
   "id": "99bc0108",
   "metadata": {},
   "source": [
    "<h1 style=\"font-size:30px; color:blue\">Generator Expression</h1>"
   ]
  },
  {
   "cell_type": "code",
   "execution_count": 19,
   "id": "d8fd6c16",
   "metadata": {},
   "outputs": [
    {
     "name": "stdout",
     "output_type": "stream",
     "text": [
      "1\n",
      "4\n",
      "9\n",
      "16\n",
      "25\n",
      "36\n",
      "49\n",
      "64\n",
      "81\n",
      "100\n"
     ]
    }
   ],
   "source": [
    "gen = (i**2 for i in range(1,11))\n",
    "for i in gen:\n",
    "    print(i)"
   ]
  },
  {
   "cell_type": "markdown",
   "id": "1dd5f536",
   "metadata": {},
   "source": [
    "<h1 style=\"font-size:30px; color:blue\">Practical Example</h1>"
   ]
  },
  {
   "cell_type": "raw",
   "id": "34e54c18",
   "metadata": {},
   "source": [
    "import os\n",
    "import cv2\n",
    "def image_data_reader(f_p):\n",
    "    for file in os.listdir(f_p):\n",
    "        f_array = cv2.imread(os.path.join(f_p,file))\n",
    "        yield f_array"
   ]
  },
  {
   "cell_type": "raw",
   "id": "3e0055a3",
   "metadata": {},
   "source": [
    "gen = image_data_reader('path')\n",
    "\n",
    "next(gen)\n",
    "next(gen)\n",
    "next(gen)"
   ]
  },
  {
   "cell_type": "markdown",
   "id": "0d4ab27b",
   "metadata": {},
   "source": [
    "<h1 style=\"font-size:30px; color:blue\">Benefits</h1>"
   ]
  },
  {
   "cell_type": "markdown",
   "id": "d87bb37a",
   "metadata": {},
   "source": [
    "<h1 style=\"font-size:25px; color: #E48400\">memory efficient</h1>"
   ]
  },
  {
   "cell_type": "code",
   "execution_count": 22,
   "id": "fdc2663d",
   "metadata": {},
   "outputs": [
    {
     "name": "stdout",
     "output_type": "stream",
     "text": [
      "Size of l in memory 800984\n",
      "Size of l in memory 112\n"
     ]
    }
   ],
   "source": [
    "l =[x for x in range(100000)]\n",
    "gen = (x for x in range(100000))\n",
    "\n",
    "import sys\n",
    "print(\"Size of l in memory\",sys.getsizeof(l))\n",
    "print(\"Size of l in memory\",sys.getsizeof(gen))"
   ]
  },
  {
   "cell_type": "markdown",
   "id": "9b7f9a7d",
   "metadata": {},
   "source": [
    "<h1 style=\"font-size:25px; color: #E48400\">Easy of Implementation</h1>"
   ]
  },
  {
   "cell_type": "markdown",
   "id": "99d6d0fb",
   "metadata": {},
   "source": [
    "#### using Other way"
   ]
  },
  {
   "cell_type": "code",
   "execution_count": 24,
   "id": "ea41bd5b",
   "metadata": {},
   "outputs": [],
   "source": [
    "class mera_range:\n",
    "    def __init__(self,start,end):\n",
    "        self.start = start\n",
    "        self.end = end\n",
    "        \n",
    "    def __iter__(self):\n",
    "        return mera_range_iterator(self)\n",
    "    \n",
    "class mera_range_iterator:\n",
    "    def __init__(self,iterable_obj):\n",
    "        self.iterable = iterable_obj\n",
    "    \n",
    "    def __iter__(self):\n",
    "        return self\n",
    "    \n",
    "    def __next__(self):\n",
    "        if self.iterable.start >= self.iterable.end:\n",
    "            raise StopIteration\n",
    "            \n",
    "        current = self.iterable.start\n",
    "        self.iterable.start += 1\n",
    "        return current"
   ]
  },
  {
   "cell_type": "markdown",
   "id": "a1a8b635",
   "metadata": {},
   "source": [
    "#### using generator"
   ]
  },
  {
   "cell_type": "code",
   "execution_count": 26,
   "id": "295198d2",
   "metadata": {},
   "outputs": [],
   "source": [
    "def mera_range(start,end):\n",
    "    for i in range(start,end):\n",
    "        yield i"
   ]
  },
  {
   "cell_type": "markdown",
   "id": "101fa283",
   "metadata": {},
   "source": [
    "<h1 style=\"font-size:25px; color: #E48400\">Representing Infinite Streams</h1>"
   ]
  },
  {
   "cell_type": "code",
   "execution_count": 27,
   "id": "2761b4ad",
   "metadata": {},
   "outputs": [],
   "source": [
    "def all_even():\n",
    "    n = 0\n",
    "    while True:\n",
    "        yield n\n",
    "        n += 2"
   ]
  },
  {
   "cell_type": "code",
   "execution_count": 29,
   "id": "96c54b47",
   "metadata": {},
   "outputs": [
    {
     "name": "stdout",
     "output_type": "stream",
     "text": [
      "0\n",
      "2\n",
      "4\n"
     ]
    }
   ],
   "source": [
    "even_num_gen = all_even()\n",
    "print(next(even_num_gen))\n",
    "print(next(even_num_gen))\n",
    "print(next(even_num_gen))"
   ]
  },
  {
   "cell_type": "markdown",
   "id": "67a3adb0",
   "metadata": {},
   "source": [
    "<h1 style=\"font-size:25px; color: #E48400\">Chaining Generators</h1>"
   ]
  },
  {
   "cell_type": "code",
   "execution_count": 31,
   "id": "0d96176e",
   "metadata": {},
   "outputs": [],
   "source": [
    "def fibonacci_number(nums):\n",
    "    x,y=0,1\n",
    "    for _ in range(nums):\n",
    "        x,y = y,x+y\n",
    "        yield x\n",
    "        \n",
    "def square(nums):\n",
    "    for num in nums:\n",
    "        yield num**2"
   ]
  },
  {
   "cell_type": "code",
   "execution_count": 32,
   "id": "a97b36ae",
   "metadata": {},
   "outputs": [
    {
     "name": "stdout",
     "output_type": "stream",
     "text": [
      "4895\n"
     ]
    }
   ],
   "source": [
    "print(sum(square(fibonacci_number(10))))"
   ]
  },
  {
   "cell_type": "code",
   "execution_count": 35,
   "id": "00d46885",
   "metadata": {},
   "outputs": [],
   "source": []
  }
 ],
 "metadata": {
  "kernelspec": {
   "display_name": "Python 3 (ipykernel)",
   "language": "python",
   "name": "python3"
  },
  "language_info": {
   "codemirror_mode": {
    "name": "ipython",
    "version": 3
   },
   "file_extension": ".py",
   "mimetype": "text/x-python",
   "name": "python",
   "nbconvert_exporter": "python",
   "pygments_lexer": "ipython3",
   "version": "3.9.13"
  }
 },
 "nbformat": 4,
 "nbformat_minor": 5
}
