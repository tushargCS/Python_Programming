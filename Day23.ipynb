{
 "cells": [
  {
   "cell_type": "markdown",
   "id": "185009c5",
   "metadata": {},
   "source": [
    "<h1 style=\"font-size:50px; color: red\">threading</h1>"
   ]
  },
  {
   "cell_type": "code",
   "execution_count": 1,
   "id": "1867b97a",
   "metadata": {},
   "outputs": [],
   "source": [
    "from time import sleep,time\n",
    "import threading"
   ]
  },
  {
   "cell_type": "markdown",
   "id": "3f93521d",
   "metadata": {},
   "source": [
    "<h1 style=\"font-size:25px; color: #E48400\">Threading procedure</h1>"
   ]
  },
  {
   "cell_type": "code",
   "execution_count": 7,
   "id": "94f8ab6c",
   "metadata": {},
   "outputs": [
    {
     "name": "stdout",
     "output_type": "stream",
     "text": [
      "Going to sleep...0Going to sleep...1\n",
      "\n",
      "Going to sleep...2\n",
      "Going to sleep...3\n",
      "Going to sleep...4\n",
      "Going to sleep...5\n",
      "Going to sleep...6\n",
      "Going to sleep...7\n",
      "Going to sleep...8\n",
      "Going to sleep...9\n",
      "Woken up...3\n",
      "Woken up...4\n",
      "Woken up...6\n",
      "Woken up...2\n",
      "Woken up...0\n",
      "Woken up...1\n",
      "Woken up...8\n",
      "Woken up...9\n",
      "Woken up...5\n",
      "Woken up...7\n",
      "Main thread ended in 1.0160937309265137 seconds\n"
     ]
    }
   ],
   "source": [
    "start_time = time()\n",
    "def something(id):\n",
    "    print(f\"Going to sleep...{id}\")\n",
    "    sleep(1)\n",
    "    print(f\"Woken up...{id}\")\n",
    "    \n",
    "    \n",
    "threads = [threading.Thread(target=something,args=[i]) for i in range(10)]\n",
    "\n",
    "for thread in threads:\n",
    "    thread.start()\n",
    "    \n",
    "for thread in threads:\n",
    "    thread.join()\n",
    "    \n",
    "end_time = time()\n",
    "\n",
    "print(f\"Main thread ended in {end_time-start_time} seconds\")"
   ]
  },
  {
   "cell_type": "markdown",
   "id": "a27a4263",
   "metadata": {},
   "source": [
    "<h1 style=\"font-size:25px; color: #E48400\">Normal Procedure</h1>"
   ]
  },
  {
   "cell_type": "code",
   "execution_count": 8,
   "id": "5f8a7d76",
   "metadata": {},
   "outputs": [
    {
     "name": "stdout",
     "output_type": "stream",
     "text": [
      "Going to sleep...0\n",
      "Woken up...0\n",
      "Going to sleep...1\n",
      "Woken up...1\n",
      "Going to sleep...2\n",
      "Woken up...2\n",
      "Going to sleep...3\n",
      "Woken up...3\n",
      "Going to sleep...4\n",
      "Woken up...4\n",
      "Going to sleep...5\n",
      "Woken up...5\n",
      "Going to sleep...6\n",
      "Woken up...6\n",
      "Going to sleep...7\n",
      "Woken up...7\n",
      "Going to sleep...8\n",
      "Woken up...8\n",
      "Going to sleep...9\n",
      "Woken up...9\n",
      "Main thread ended in 10.012475967407227 seconds\n"
     ]
    }
   ],
   "source": [
    "start_time = time()\n",
    "def something(id):\n",
    "    print(f\"Going to sleep...{id}\")\n",
    "    sleep(1)\n",
    "    print(f\"Woken up...{id}\")\n",
    "    \n",
    "    \n",
    "for i in range(10):\n",
    "    something(i)\n",
    "    \n",
    "end_time = time()\n",
    "\n",
    "print(f\"Main thread ended in {end_time-start_time} seconds\")"
   ]
  },
  {
   "cell_type": "markdown",
   "id": "de8f47e9",
   "metadata": {},
   "source": [
    "<h1 style=\"font-size:25px; color: #E48400\">thread synchronization</h1>"
   ]
  },
  {
   "cell_type": "code",
   "execution_count": 16,
   "id": "9eff3d93",
   "metadata": {},
   "outputs": [],
   "source": [
    "import threading"
   ]
  },
  {
   "cell_type": "code",
   "execution_count": 26,
   "id": "07039bcb",
   "metadata": {},
   "outputs": [
    {
     "name": "stdout",
     "output_type": "stream",
     "text": [
      "1200\n"
     ]
    }
   ],
   "source": [
    "balance = 200\n",
    "lock = threading.Lock()\n",
    "\n",
    "def deposit(amount,times,lock):\n",
    "    global balance\n",
    "    for i in range(times):\n",
    "            lock.acquire()\n",
    "            balance += amount\n",
    "            lock.release()\n",
    "            \n",
    "def withdraw(amount,times,lock):\n",
    "    global balance\n",
    "    \n",
    "    for i in range(times):\n",
    "        lock.aquire()\n",
    "        balance -=amount\n",
    "        lock.release()\n",
    "        \n",
    "        \n",
    "deposit_thread = threading.Thread(target = deposit,args=[1,1000,lock])\n",
    "withdraw_thread = threading.Thread(target = withdraw,args=[1,1000,lock])\n",
    "\n",
    "\n",
    "deposit_thread.start()\n",
    "deposit_thread.join()\n",
    "\n",
    "print(balance)"
   ]
  },
  {
   "cell_type": "code",
   "execution_count": null,
   "id": "f3daa5c4",
   "metadata": {},
   "outputs": [],
   "source": []
  }
 ],
 "metadata": {
  "kernelspec": {
   "display_name": "Python 3 (ipykernel)",
   "language": "python",
   "name": "python3"
  },
  "language_info": {
   "codemirror_mode": {
    "name": "ipython",
    "version": 3
   },
   "file_extension": ".py",
   "mimetype": "text/x-python",
   "name": "python",
   "nbconvert_exporter": "python",
   "pygments_lexer": "ipython3",
   "version": "3.9.13"
  }
 },
 "nbformat": 4,
 "nbformat_minor": 5
}
