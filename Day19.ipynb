{
 "cells": [
  {
   "cell_type": "markdown",
   "id": "65fb7de8",
   "metadata": {},
   "source": [
    "<h1 style=\"font-size:50px; color:red\">Functions</h1>"
   ]
  },
  {
   "cell_type": "markdown",
   "id": "e4eff7a4",
   "metadata": {},
   "source": [
    "### block of code\n",
    "### take some input or give some output\n",
    "### work on the concept Abstraction --> dont take tension how 'print()' working just use called Abstraction\n",
    "### Decomposition --> combination of multiple lines"
   ]
  },
  {
   "cell_type": "markdown",
   "id": "0dafaf56",
   "metadata": {},
   "source": [
    "<h1 style=\"font-size:30px; color:blue\">Components of function</h1>"
   ]
  },
  {
   "cell_type": "raw",
   "id": "dc9d98b8",
   "metadata": {},
   "source": [
    "# def keyword\n",
    "# name of function\n",
    "# arguments\n",
    "# reading manual\n",
    "# function body\n",
    "# return\n",
    "# function call"
   ]
  },
  {
   "cell_type": "code",
   "execution_count": 3,
   "id": "442baae0",
   "metadata": {},
   "outputs": [],
   "source": [
    "def sum(a,b):\n",
    "    \"\"\"this is sum function\"\"\"\n",
    "    return a+b"
   ]
  },
  {
   "cell_type": "code",
   "execution_count": 4,
   "id": "81e5fb85",
   "metadata": {},
   "outputs": [
    {
     "data": {
      "text/plain": [
       "7"
      ]
     },
     "execution_count": 4,
     "metadata": {},
     "output_type": "execute_result"
    }
   ],
   "source": [
    "sum(3,4)"
   ]
  },
  {
   "cell_type": "code",
   "execution_count": 5,
   "id": "3d706a24",
   "metadata": {},
   "outputs": [
    {
     "name": "stdout",
     "output_type": "stream",
     "text": [
      "this is sum function\n"
     ]
    }
   ],
   "source": [
    "print(sum.__doc__)"
   ]
  },
  {
   "cell_type": "code",
   "execution_count": 6,
   "id": "3653d06d",
   "metadata": {
    "scrolled": true
   },
   "outputs": [
    {
     "name": "stdout",
     "output_type": "stream",
     "text": [
      "type(object) -> the object's type\n",
      "type(name, bases, dict, **kwds) -> a new type\n"
     ]
    }
   ],
   "source": [
    "print(type.__doc__)"
   ]
  },
  {
   "cell_type": "markdown",
   "id": "9b060eb9",
   "metadata": {},
   "source": [
    "<h1 style=\"font-size:30px; color:blue\">Parameters vs Arguments</h1>"
   ]
  },
  {
   "cell_type": "code",
   "execution_count": 8,
   "id": "a4ea588f",
   "metadata": {},
   "outputs": [],
   "source": [
    "# def sum(a,b) --> Here the a,b are parameters \n",
    "# sum(2,3) --> here 2,3 are arguments"
   ]
  },
  {
   "cell_type": "markdown",
   "id": "2814c389",
   "metadata": {},
   "source": [
    "<h1 style=\"font-size:25px; color: #E48400\">Type of Arguments</h1>"
   ]
  },
  {
   "cell_type": "markdown",
   "id": "e660ac78",
   "metadata": {},
   "source": [
    "<h1 style=\"font-size:25px; color: #E48400\">1. Default Arguments</h1>"
   ]
  },
  {
   "cell_type": "code",
   "execution_count": 13,
   "id": "2201dd42",
   "metadata": {},
   "outputs": [],
   "source": [
    "def pow(a=1,b=1):\n",
    "    return a**b"
   ]
  },
  {
   "cell_type": "code",
   "execution_count": 15,
   "id": "920cafc2",
   "metadata": {},
   "outputs": [
    {
     "data": {
      "text/plain": [
       "9"
      ]
     },
     "execution_count": 15,
     "metadata": {},
     "output_type": "execute_result"
    }
   ],
   "source": [
    "pow(3,2)"
   ]
  },
  {
   "cell_type": "code",
   "execution_count": 16,
   "id": "bdc10041",
   "metadata": {},
   "outputs": [
    {
     "data": {
      "text/plain": [
       "3"
      ]
     },
     "execution_count": 16,
     "metadata": {},
     "output_type": "execute_result"
    }
   ],
   "source": [
    "pow(3)"
   ]
  },
  {
   "cell_type": "code",
   "execution_count": 17,
   "id": "a67771fe",
   "metadata": {},
   "outputs": [
    {
     "data": {
      "text/plain": [
       "2"
      ]
     },
     "execution_count": 17,
     "metadata": {},
     "output_type": "execute_result"
    }
   ],
   "source": [
    "pow(2,)"
   ]
  },
  {
   "cell_type": "code",
   "execution_count": 18,
   "id": "cef7e223",
   "metadata": {},
   "outputs": [
    {
     "data": {
      "text/plain": [
       "1"
      ]
     },
     "execution_count": 18,
     "metadata": {},
     "output_type": "execute_result"
    }
   ],
   "source": [
    "pow()"
   ]
  },
  {
   "cell_type": "markdown",
   "id": "d1f7009a",
   "metadata": {},
   "source": [
    "<h1 style=\"font-size:25px; color: #E48400\">2. Positional Arguments</h1>"
   ]
  },
  {
   "cell_type": "code",
   "execution_count": 20,
   "id": "d219ec9d",
   "metadata": {},
   "outputs": [],
   "source": [
    "#pow(2,3) --> 2 will assign to a and 3 will assign to b."
   ]
  },
  {
   "cell_type": "markdown",
   "id": "9bb02c72",
   "metadata": {},
   "source": [
    "<h1 style=\"font-size:25px; color: #E48400\">3. Keyword Arguments</h1>"
   ]
  },
  {
   "cell_type": "code",
   "execution_count": 21,
   "id": "0c11586b",
   "metadata": {},
   "outputs": [
    {
     "data": {
      "text/plain": [
       "9"
      ]
     },
     "execution_count": 21,
     "metadata": {},
     "output_type": "execute_result"
    }
   ],
   "source": [
    "pow(b=2,a=3)"
   ]
  },
  {
   "cell_type": "markdown",
   "id": "1ddb3a0b",
   "metadata": {},
   "source": [
    "<h1 style=\"font-size:25px; color: #E48400\">4. Arbitrary Arguments</h1>"
   ]
  },
  {
   "cell_type": "code",
   "execution_count": 31,
   "id": "5baf3624",
   "metadata": {},
   "outputs": [],
   "source": [
    "# **this is also the example of packing in python*** #\n",
    "def flexi(*num):\n",
    "    prod=1\n",
    "    for i in num:\n",
    "        prod *= i\n",
    "    print(prod)"
   ]
  },
  {
   "cell_type": "code",
   "execution_count": 32,
   "id": "e76b01fe",
   "metadata": {},
   "outputs": [
    {
     "name": "stdout",
     "output_type": "stream",
     "text": [
      "4\n"
     ]
    }
   ],
   "source": [
    "flexi(4)"
   ]
  },
  {
   "cell_type": "code",
   "execution_count": 33,
   "id": "1f7a251e",
   "metadata": {},
   "outputs": [
    {
     "name": "stdout",
     "output_type": "stream",
     "text": [
      "6\n"
     ]
    }
   ],
   "source": [
    "flexi(2,3)"
   ]
  },
  {
   "cell_type": "code",
   "execution_count": 34,
   "id": "a208894c",
   "metadata": {},
   "outputs": [
    {
     "name": "stdout",
     "output_type": "stream",
     "text": [
      "1680\n"
     ]
    }
   ],
   "source": [
    "flexi(5,6,7,8)"
   ]
  },
  {
   "cell_type": "markdown",
   "id": "cfd50438",
   "metadata": {},
   "source": [
    "### unpacking in python"
   ]
  },
  {
   "cell_type": "code",
   "execution_count": 35,
   "id": "4bb38035",
   "metadata": {},
   "outputs": [
    {
     "name": "stdout",
     "output_type": "stream",
     "text": [
      "1 2 3 4\n"
     ]
    }
   ],
   "source": [
    "def fun(a,b,c,d):\n",
    "    print(a,b,c,d)\n",
    "    \n",
    "l=[1,2,3,4]\n",
    "fun(*l)"
   ]
  },
  {
   "cell_type": "markdown",
   "id": "5b02f07d",
   "metadata": {},
   "source": [
    "<h1 style=\"font-size:30px; color: blue\">Global vs Local variable</h1>"
   ]
  },
  {
   "cell_type": "code",
   "execution_count": 39,
   "id": "557f069d",
   "metadata": {},
   "outputs": [
    {
     "name": "stdout",
     "output_type": "stream",
     "text": [
      "inside func_a\n",
      "None\n",
      "inside func_b\n",
      "7\n"
     ]
    }
   ],
   "source": [
    "def func_a():\n",
    "    print(\"inside func_a\")\n",
    "\n",
    "def func_b(y):\n",
    "    print (\"inside func_b\")\n",
    "    return y\n",
    "\n",
    "print(func_a())\n",
    "print(5+func_b(2))"
   ]
  },
  {
   "cell_type": "code",
   "execution_count": 40,
   "id": "c4113d5b",
   "metadata": {},
   "outputs": [
    {
     "name": "stdout",
     "output_type": "stream",
     "text": [
      "7\n"
     ]
    }
   ],
   "source": [
    "def f():\n",
    "    def x(a, b):\n",
    "        return a+b\n",
    "    return x\n",
    "\n",
    "val = f()(3,4)\n",
    "print(val)"
   ]
  },
  {
   "cell_type": "code",
   "execution_count": 41,
   "id": "9fe7df44",
   "metadata": {},
   "outputs": [
    {
     "name": "stdout",
     "output_type": "stream",
     "text": [
      "2\n",
      "5\n"
     ]
    }
   ],
   "source": [
    "def f(y):\n",
    "    x = 1\n",
    "    x += 1\n",
    "    print(x)\n",
    "x=5\n",
    "f(x)\n",
    "print(x)"
   ]
  },
  {
   "cell_type": "code",
   "execution_count": 43,
   "id": "0f5a3fd8",
   "metadata": {},
   "outputs": [
    {
     "name": "stdout",
     "output_type": "stream",
     "text": [
      "5\n",
      "6\n",
      "5\n"
     ]
    }
   ],
   "source": [
    "def g(y):\n",
    "    print(x) \n",
    "    print(x+1)\n",
    "\n",
    "    \n",
    "x= 5\n",
    "g(x)\n",
    "print(x)"
   ]
  },
  {
   "cell_type": "code",
   "execution_count": 45,
   "id": "709da84e",
   "metadata": {
    "scrolled": true
   },
   "outputs": [
    {
     "ename": "UnboundLocalError",
     "evalue": "local variable 'x' referenced before assignment",
     "output_type": "error",
     "traceback": [
      "\u001b[0;31m---------------------------------------------------------------------------\u001b[0m",
      "\u001b[0;31mUnboundLocalError\u001b[0m                         Traceback (most recent call last)",
      "\u001b[0;32m/tmp/ipykernel_23479/1535571791.py\u001b[0m in \u001b[0;36m<module>\u001b[0;34m\u001b[0m\n\u001b[1;32m      2\u001b[0m     \u001b[0mx\u001b[0m\u001b[0;34m+=\u001b[0m\u001b[0;36m1\u001b[0m   \u001b[0;31m# you can only use global variable inside the function but can't change\u001b[0m\u001b[0;34m\u001b[0m\u001b[0;34m\u001b[0m\u001b[0m\n\u001b[1;32m      3\u001b[0m \u001b[0mx\u001b[0m\u001b[0;34m=\u001b[0m\u001b[0;36m5\u001b[0m\u001b[0;34m\u001b[0m\u001b[0;34m\u001b[0m\u001b[0m\n\u001b[0;32m----> 4\u001b[0;31m \u001b[0mh\u001b[0m\u001b[0;34m(\u001b[0m\u001b[0mx\u001b[0m\u001b[0;34m)\u001b[0m\u001b[0;34m\u001b[0m\u001b[0;34m\u001b[0m\u001b[0m\n\u001b[0m\u001b[1;32m      5\u001b[0m \u001b[0mprint\u001b[0m\u001b[0;34m(\u001b[0m\u001b[0mx\u001b[0m\u001b[0;34m)\u001b[0m\u001b[0;34m\u001b[0m\u001b[0;34m\u001b[0m\u001b[0m\n",
      "\u001b[0;32m/tmp/ipykernel_23479/1535571791.py\u001b[0m in \u001b[0;36mh\u001b[0;34m(y)\u001b[0m\n\u001b[1;32m      1\u001b[0m \u001b[0;32mdef\u001b[0m \u001b[0mh\u001b[0m\u001b[0;34m(\u001b[0m\u001b[0my\u001b[0m\u001b[0;34m)\u001b[0m\u001b[0;34m:\u001b[0m\u001b[0;34m\u001b[0m\u001b[0;34m\u001b[0m\u001b[0m\n\u001b[0;32m----> 2\u001b[0;31m     \u001b[0mx\u001b[0m\u001b[0;34m+=\u001b[0m\u001b[0;36m1\u001b[0m   \u001b[0;31m# you can only use global variable inside the function but can't change\u001b[0m\u001b[0;34m\u001b[0m\u001b[0;34m\u001b[0m\u001b[0m\n\u001b[0m\u001b[1;32m      3\u001b[0m \u001b[0mx\u001b[0m\u001b[0;34m=\u001b[0m\u001b[0;36m5\u001b[0m\u001b[0;34m\u001b[0m\u001b[0;34m\u001b[0m\u001b[0m\n\u001b[1;32m      4\u001b[0m \u001b[0mh\u001b[0m\u001b[0;34m(\u001b[0m\u001b[0mx\u001b[0m\u001b[0;34m)\u001b[0m\u001b[0;34m\u001b[0m\u001b[0;34m\u001b[0m\u001b[0m\n\u001b[1;32m      5\u001b[0m \u001b[0mprint\u001b[0m\u001b[0;34m(\u001b[0m\u001b[0mx\u001b[0m\u001b[0;34m)\u001b[0m\u001b[0;34m\u001b[0m\u001b[0;34m\u001b[0m\u001b[0m\n",
      "\u001b[0;31mUnboundLocalError\u001b[0m: local variable 'x' referenced before assignment"
     ]
    }
   ],
   "source": [
    "def h(y):\n",
    "    x+=1   # you can only use global variable inside the function but can't change\n",
    "x=5\n",
    "h(x)\n",
    "print(x)"
   ]
  },
  {
   "cell_type": "code",
   "execution_count": 46,
   "id": "24164d90",
   "metadata": {},
   "outputs": [
    {
     "name": "stdout",
     "output_type": "stream",
     "text": [
      "6\n"
     ]
    }
   ],
   "source": [
    "# you can do but need to add one line global x\n",
    "def h(y):\n",
    "    global x\n",
    "    x+=1   # you can only use global variable inside the function but can't change\n",
    "x=5\n",
    "h(x)\n",
    "print(x)"
   ]
  },
  {
   "cell_type": "markdown",
   "id": "a5b5eeb9",
   "metadata": {},
   "source": [
    "<h1 style=\"font-size:30px; color: blue\">Every thing in the python is an object</h1>"
   ]
  },
  {
   "cell_type": "code",
   "execution_count": 49,
   "id": "a2b450e4",
   "metadata": {},
   "outputs": [
    {
     "data": {
      "text/plain": [
       "16"
      ]
     },
     "execution_count": 49,
     "metadata": {},
     "output_type": "execute_result"
    }
   ],
   "source": [
    "def f(num):\n",
    "    return num**2\n",
    "\n",
    "x = f\n",
    "x(4)"
   ]
  },
  {
   "cell_type": "code",
   "execution_count": 50,
   "id": "d260e7ed",
   "metadata": {},
   "outputs": [],
   "source": [
    "del f"
   ]
  },
  {
   "cell_type": "code",
   "execution_count": 51,
   "id": "163f2579",
   "metadata": {},
   "outputs": [
    {
     "ename": "NameError",
     "evalue": "name 'f' is not defined",
     "output_type": "error",
     "traceback": [
      "\u001b[0;31m---------------------------------------------------------------------------\u001b[0m",
      "\u001b[0;31mNameError\u001b[0m                                 Traceback (most recent call last)",
      "\u001b[0;32m/tmp/ipykernel_23479/4058002314.py\u001b[0m in \u001b[0;36m<module>\u001b[0;34m\u001b[0m\n\u001b[0;32m----> 1\u001b[0;31m \u001b[0mf\u001b[0m\u001b[0;34m\u001b[0m\u001b[0;34m\u001b[0m\u001b[0m\n\u001b[0m",
      "\u001b[0;31mNameError\u001b[0m: name 'f' is not defined"
     ]
    }
   ],
   "source": [
    "f"
   ]
  },
  {
   "cell_type": "code",
   "execution_count": 53,
   "id": "a3b66cc1",
   "metadata": {},
   "outputs": [
    {
     "data": {
      "text/plain": [
       "function"
      ]
     },
     "execution_count": 53,
     "metadata": {},
     "output_type": "execute_result"
    }
   ],
   "source": [
    "type(x)"
   ]
  },
  {
   "cell_type": "code",
   "execution_count": 55,
   "id": "223b1880",
   "metadata": {},
   "outputs": [],
   "source": [
    "l = [1,2,3,4,x]"
   ]
  },
  {
   "cell_type": "code",
   "execution_count": 56,
   "id": "08694377",
   "metadata": {},
   "outputs": [
    {
     "data": {
      "text/plain": [
       "[1, 2, 3, 4, <function __main__.f(num)>]"
      ]
     },
     "execution_count": 56,
     "metadata": {},
     "output_type": "execute_result"
    }
   ],
   "source": [
    "l"
   ]
  },
  {
   "cell_type": "code",
   "execution_count": 57,
   "id": "9c4bfab7",
   "metadata": {},
   "outputs": [
    {
     "data": {
      "text/plain": [
       "16"
      ]
     },
     "execution_count": 57,
     "metadata": {},
     "output_type": "execute_result"
    }
   ],
   "source": [
    "l[-1](4)"
   ]
  },
  {
   "cell_type": "code",
   "execution_count": null,
   "id": "f314f50e",
   "metadata": {},
   "outputs": [],
   "source": []
  }
 ],
 "metadata": {
  "kernelspec": {
   "display_name": "Python 3 (ipykernel)",
   "language": "python",
   "name": "python3"
  },
  "language_info": {
   "codemirror_mode": {
    "name": "ipython",
    "version": 3
   },
   "file_extension": ".py",
   "mimetype": "text/x-python",
   "name": "python",
   "nbconvert_exporter": "python",
   "pygments_lexer": "ipython3",
   "version": "3.9.13"
  }
 },
 "nbformat": 4,
 "nbformat_minor": 5
}
