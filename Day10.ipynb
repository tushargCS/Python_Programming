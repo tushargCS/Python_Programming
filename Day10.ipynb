{
 "cells": [
  {
   "cell_type": "markdown",
   "id": "8143311e",
   "metadata": {},
   "source": [
    "<h1 style=\"font-size:50px; color:red\">if else</h1>"
   ]
  },
  {
   "cell_type": "code",
   "execution_count": 2,
   "id": "63bb2186",
   "metadata": {},
   "outputs": [
    {
     "name": "stdout",
     "output_type": "stream",
     "text": [
      "Enter the first no.10\n",
      "Enter the second no.20\n",
      "sum is greater then 10\n"
     ]
    }
   ],
   "source": [
    "a = int(input(\"Enter the first no.\"))\n",
    "b = int(input(\"Enter the second no.\"))\n",
    "\n",
    "sum=a+b;\n",
    "\n",
    "if sum<10:\n",
    "    print(\"Sum is less then 10\")\n",
    "else:\n",
    "    print(\"sum is greater then 10\")"
   ]
  },
  {
   "cell_type": "markdown",
   "id": "ce15f318",
   "metadata": {},
   "source": [
    "<h1 style=\"font-size:30px; color:blue\">indentation</h1>"
   ]
  },
  {
   "cell_type": "code",
   "execution_count": 3,
   "id": "75a8567b",
   "metadata": {},
   "outputs": [
    {
     "name": "stdout",
     "output_type": "stream",
     "text": [
      "Yes a is 10\n"
     ]
    }
   ],
   "source": [
    "if a==10:\n",
    "    print(\"Yes a is 10\")"
   ]
  },
  {
   "cell_type": "markdown",
   "id": "adda30f6",
   "metadata": {},
   "source": [
    "<h1 style=\"font-size:30px; color:blue\">elif</h1>"
   ]
  },
  {
   "cell_type": "code",
   "execution_count": 5,
   "id": "23f2cc5a",
   "metadata": {},
   "outputs": [
    {
     "name": "stdout",
     "output_type": "stream",
     "text": [
      "Enter a no b/w 1 to 3: 3\n",
      "x is 3\n"
     ]
    }
   ],
   "source": [
    "x = int(input(\"Enter a no b/w 1 to 3: \"))\n",
    "if x==1:\n",
    "    print(\"x is 1\")\n",
    "elif x==2:\n",
    "    print(\"x is 2\")\n",
    "elif x==3:\n",
    "    print(\"x is 3\")"
   ]
  },
  {
   "cell_type": "markdown",
   "id": "946f1a25",
   "metadata": {},
   "source": [
    "<h1 style=\"font-size:50px; color:red\">Looping</h1>"
   ]
  },
  {
   "cell_type": "markdown",
   "id": "000b9e93",
   "metadata": {},
   "source": [
    "### It is used for repetation work"
   ]
  },
  {
   "cell_type": "markdown",
   "id": "0842825a",
   "metadata": {},
   "source": [
    "<h1 style=\"font-size:30px; color:blue\">while</h1>"
   ]
  },
  {
   "cell_type": "code",
   "execution_count": 6,
   "id": "b05187a6",
   "metadata": {},
   "outputs": [
    {
     "name": "stdout",
     "output_type": "stream",
     "text": [
      "Enter the no.4\n",
      "4 * 1  = 4\n",
      "4 * 2  = 8\n",
      "4 * 3  = 12\n",
      "4 * 4  = 16\n",
      "4 * 5  = 20\n",
      "4 * 6  = 24\n",
      "4 * 7  = 28\n",
      "4 * 8  = 32\n",
      "4 * 9  = 36\n",
      "4 * 10  = 40\n"
     ]
    }
   ],
   "source": [
    "n = int(input(\"Enter the no.\"))\n",
    "a=1\n",
    "while a<=10:\n",
    "    print(n,\"*\",a,\" =\",(n*a))\n",
    "    a+=1"
   ]
  },
  {
   "cell_type": "markdown",
   "id": "8a3ad0aa",
   "metadata": {},
   "source": [
    "<h1 style=\"font-size:50px; color:red\">Guessing Game</h1>"
   ]
  },
  {
   "cell_type": "code",
   "execution_count": 7,
   "id": "73365793",
   "metadata": {},
   "outputs": [],
   "source": [
    "import random"
   ]
  },
  {
   "cell_type": "code",
   "execution_count": 8,
   "id": "2b8ca102",
   "metadata": {},
   "outputs": [
    {
     "data": {
      "text/plain": [
       "48"
      ]
     },
     "execution_count": 8,
     "metadata": {},
     "output_type": "execute_result"
    }
   ],
   "source": [
    "a = random.randint(1,100)\n",
    "a"
   ]
  },
  {
   "cell_type": "code",
   "execution_count": 13,
   "id": "6729027e",
   "metadata": {},
   "outputs": [
    {
     "name": "stdout",
     "output_type": "stream",
     "text": [
      "Enter the no.3\n",
      "Wrong\n",
      "Enter the no.4\n",
      "Wrong\n",
      "Enter the no.5\n",
      "Wrong\n",
      "Enter the no.48\n",
      "you guess in  4  chance\n"
     ]
    }
   ],
   "source": [
    "x = int(input(\"Enter the no.\"))\n",
    "b=0\n",
    "y=0;\n",
    "while(True):\n",
    "    if(a==x):\n",
    "        y=1\n",
    "        break\n",
    "    else:\n",
    "        print(\"Wrong\")\n",
    "    b+=1\n",
    "    x = int(input(\"Enter the no.\"))\n",
    "if(y==1):\n",
    "    print(\"you guess in \",b+1,\" chance\")"
   ]
  },
  {
   "cell_type": "markdown",
   "id": "a9cdeda3",
   "metadata": {},
   "source": [
    "<h1 style=\"font-size:50px; color:red\">For loop</h1>"
   ]
  },
  {
   "cell_type": "markdown",
   "id": "dd804d70",
   "metadata": {},
   "source": [
    "<h1 style=\"font-size:30px; color:blue\">Range()</h1>"
   ]
  },
  {
   "cell_type": "code",
   "execution_count": 17,
   "id": "9790d6f3",
   "metadata": {},
   "outputs": [
    {
     "data": {
      "text/plain": [
       "[0, 1, 2, 3, 4, 5, 6, 7, 8, 9]"
      ]
     },
     "execution_count": 17,
     "metadata": {},
     "output_type": "execute_result"
    }
   ],
   "source": [
    "list(range(10))"
   ]
  },
  {
   "cell_type": "code",
   "execution_count": 19,
   "id": "901358e7",
   "metadata": {},
   "outputs": [
    {
     "data": {
      "text/plain": [
       "[1, 2, 3, 4]"
      ]
     },
     "execution_count": 19,
     "metadata": {},
     "output_type": "execute_result"
    }
   ],
   "source": [
    "list(range(1,5))"
   ]
  },
  {
   "cell_type": "code",
   "execution_count": 20,
   "id": "0e88aa4b",
   "metadata": {},
   "outputs": [
    {
     "data": {
      "text/plain": [
       "[1, 3, 5, 7, 9]"
      ]
     },
     "execution_count": 20,
     "metadata": {},
     "output_type": "execute_result"
    }
   ],
   "source": [
    "list(range(1,11,2))"
   ]
  },
  {
   "cell_type": "code",
   "execution_count": 21,
   "id": "5ddc3530",
   "metadata": {},
   "outputs": [
    {
     "data": {
      "text/plain": [
       "[10, 9, 8, 7, 6, 5, 4, 3, 2, 1]"
      ]
     },
     "execution_count": 21,
     "metadata": {},
     "output_type": "execute_result"
    }
   ],
   "source": [
    "list(range(10,0,-1))"
   ]
  },
  {
   "cell_type": "code",
   "execution_count": 23,
   "id": "2f7dc254",
   "metadata": {},
   "outputs": [],
   "source": [
    "#sequence\n",
    "a = [\"A\",\"B\",\"C\"]\n",
    "b = (\"A\",\"B\",\"C\")\n",
    "c = \"Kolkata\""
   ]
  },
  {
   "cell_type": "code",
   "execution_count": 24,
   "id": "06486284",
   "metadata": {},
   "outputs": [
    {
     "data": {
      "text/plain": [
       "(['A', 'B', 'C'], ('A', 'B', 'C'), 'Kolkata')"
      ]
     },
     "execution_count": 24,
     "metadata": {},
     "output_type": "execute_result"
    }
   ],
   "source": [
    "a,b,c"
   ]
  },
  {
   "cell_type": "code",
   "execution_count": 27,
   "id": "e48f11d0",
   "metadata": {},
   "outputs": [
    {
     "name": "stdout",
     "output_type": "stream",
     "text": [
      "1 2 3 4 5 6 7 8 9 10 "
     ]
    }
   ],
   "source": [
    "for i in range(1,11):\n",
    "    print(i,end=\" \")"
   ]
  },
  {
   "cell_type": "code",
   "execution_count": 29,
   "id": "130bf7cf",
   "metadata": {},
   "outputs": [
    {
     "name": "stdout",
     "output_type": "stream",
     "text": [
      "K o l k a t a "
     ]
    }
   ],
   "source": [
    "for i in \"Kolkata\":\n",
    "    print(i,end=\" \")"
   ]
  },
  {
   "cell_type": "code",
   "execution_count": 30,
   "id": "8ebd0f49",
   "metadata": {},
   "outputs": [
    {
     "name": "stdout",
     "output_type": "stream",
     "text": [
      "1 2 5 4 "
     ]
    }
   ],
   "source": [
    "for i in [1,2,5,4]:\n",
    "    print(i,end=' ')"
   ]
  },
  {
   "cell_type": "code",
   "execution_count": 31,
   "id": "acb09634",
   "metadata": {},
   "outputs": [
    {
     "name": "stdout",
     "output_type": "stream",
     "text": [
      "1 2 3 4 "
     ]
    }
   ],
   "source": [
    "for i in (1,2,3,4):\n",
    "    print(i,end=' ')"
   ]
  },
  {
   "cell_type": "code",
   "execution_count": 32,
   "id": "7ca565c7",
   "metadata": {},
   "outputs": [
    {
     "name": "stdout",
     "output_type": "stream",
     "text": [
      "1 2 3 4 "
     ]
    }
   ],
   "source": [
    "for i in {1,2,3,4}:\n",
    "    print(i,end=' ')"
   ]
  },
  {
   "cell_type": "markdown",
   "id": "6fe5190c",
   "metadata": {},
   "source": [
    "<h1 style=\"font-size:50px; color:red\">Nested Loop</h1>"
   ]
  },
  {
   "cell_type": "code",
   "execution_count": 38,
   "id": "8da8f745",
   "metadata": {},
   "outputs": [
    {
     "name": "stdout",
     "output_type": "stream",
     "text": [
      "enter the no.5\n",
      "*\n",
      "**\n",
      "***\n",
      "****\n",
      "*****\n"
     ]
    }
   ],
   "source": [
    "r = int(input(\"enter the no.\"))\n",
    "for i in range(1,r+1):\n",
    "    for j in range(i):\n",
    "        print(\"*\",end='')\n",
    "    print(\"\")"
   ]
  },
  {
   "cell_type": "markdown",
   "id": "2fd22a60",
   "metadata": {},
   "source": [
    "<h1 style=\"font-size:30px; color:blue\">break</h1>"
   ]
  },
  {
   "cell_type": "code",
   "execution_count": 41,
   "id": "517e2a9a",
   "metadata": {},
   "outputs": [
    {
     "name": "stdout",
     "output_type": "stream",
     "text": [
      "1\n",
      "2\n",
      "3\n",
      "4\n"
     ]
    }
   ],
   "source": [
    "for i in range(1,11):\n",
    "    if i==5:\n",
    "    \tbreak\n",
    "    else:\n",
    "    \tprint(i)"
   ]
  },
  {
   "cell_type": "markdown",
   "id": "19d9ca42",
   "metadata": {},
   "source": [
    "<h1 style=\"font-size:30px; color:blue\">continue</h1>"
   ]
  },
  {
   "cell_type": "code",
   "execution_count": 44,
   "id": "093d10b1",
   "metadata": {},
   "outputs": [
    {
     "name": "stdout",
     "output_type": "stream",
     "text": [
      "1 2 3 4 6 7 8 9 10 "
     ]
    }
   ],
   "source": [
    "for i in range(1,11):\n",
    "    if(i==5):\n",
    "        continue\n",
    "    else:\n",
    "        print(i,end=' ')"
   ]
  },
  {
   "cell_type": "markdown",
   "id": "1b71490b",
   "metadata": {},
   "source": [
    "<h1 style=\"font-size:30px; color:blue\">pass</h1>"
   ]
  },
  {
   "cell_type": "code",
   "execution_count": 47,
   "id": "58d7062f",
   "metadata": {},
   "outputs": [],
   "source": [
    "for i in range(10):\n",
    "    pass"
   ]
  },
  {
   "cell_type": "code",
   "execution_count": null,
   "id": "99d96f21",
   "metadata": {},
   "outputs": [],
   "source": []
  }
 ],
 "metadata": {
  "kernelspec": {
   "display_name": "Python 3 (ipykernel)",
   "language": "python",
   "name": "python3"
  },
  "language_info": {
   "codemirror_mode": {
    "name": "ipython",
    "version": 3
   },
   "file_extension": ".py",
   "mimetype": "text/x-python",
   "name": "python",
   "nbconvert_exporter": "python",
   "pygments_lexer": "ipython3",
   "version": "3.9.13"
  }
 },
 "nbformat": 4,
 "nbformat_minor": 5
}
