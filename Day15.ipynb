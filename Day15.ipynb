{
 "cells": [
  {
   "cell_type": "markdown",
   "id": "353a6dd1",
   "metadata": {},
   "source": [
    "<h1 style=\"font-size:50px; color:red\">tuple</h1>"
   ]
  },
  {
   "cell_type": "markdown",
   "id": "258b3aaf",
   "metadata": {},
   "source": [
    "<h1>tuples are read-only datatype</h1>"
   ]
  },
  {
   "cell_type": "code",
   "execution_count": 4,
   "id": "98325e78",
   "metadata": {},
   "outputs": [
    {
     "data": {
      "text/plain": [
       "tuple"
      ]
     },
     "execution_count": 4,
     "metadata": {},
     "output_type": "execute_result"
    }
   ],
   "source": [
    "t = ()\n",
    "type(t)"
   ]
  },
  {
   "cell_type": "code",
   "execution_count": 5,
   "id": "625ab7d0",
   "metadata": {},
   "outputs": [
    {
     "data": {
      "text/plain": [
       "(1, 2, 3)"
      ]
     },
     "execution_count": 5,
     "metadata": {},
     "output_type": "execute_result"
    }
   ],
   "source": [
    "t=(1,2,3)\n",
    "t"
   ]
  },
  {
   "cell_type": "code",
   "execution_count": 6,
   "id": "2ed776f2",
   "metadata": {},
   "outputs": [
    {
     "data": {
      "text/plain": [
       "('hello', 3.5, 1)"
      ]
     },
     "execution_count": 6,
     "metadata": {},
     "output_type": "execute_result"
    }
   ],
   "source": [
    "t = (\"hello\",3.5,1)\n",
    "t"
   ]
  },
  {
   "cell_type": "code",
   "execution_count": 7,
   "id": "1ad39600",
   "metadata": {},
   "outputs": [
    {
     "data": {
      "text/plain": [
       "(1, 2, 3, (4, 5))"
      ]
     },
     "execution_count": 7,
     "metadata": {},
     "output_type": "execute_result"
    }
   ],
   "source": [
    "t = (1,2,3,(4,5))\n",
    "t"
   ]
  },
  {
   "cell_type": "code",
   "execution_count": 9,
   "id": "8aef706e",
   "metadata": {},
   "outputs": [
    {
     "data": {
      "text/plain": [
       "int"
      ]
     },
     "execution_count": 9,
     "metadata": {},
     "output_type": "execute_result"
    }
   ],
   "source": [
    "t = (1)\n",
    "type(t)"
   ]
  },
  {
   "cell_type": "code",
   "execution_count": 12,
   "id": "72b6c445",
   "metadata": {},
   "outputs": [
    {
     "data": {
      "text/plain": [
       "tuple"
      ]
     },
     "execution_count": 12,
     "metadata": {},
     "output_type": "execute_result"
    }
   ],
   "source": [
    "t = (1,)\n",
    "type(t)"
   ]
  },
  {
   "cell_type": "code",
   "execution_count": 15,
   "id": "24193d2d",
   "metadata": {},
   "outputs": [
    {
     "data": {
      "text/plain": [
       "('t', 'u', 's', 'h', 'a', 'r')"
      ]
     },
     "execution_count": 15,
     "metadata": {},
     "output_type": "execute_result"
    }
   ],
   "source": [
    "t = tuple(\"tushar\")\n",
    "t"
   ]
  },
  {
   "cell_type": "code",
   "execution_count": 16,
   "id": "bad60817",
   "metadata": {},
   "outputs": [
    {
     "data": {
      "text/plain": [
       "(1, 2, 3, 4, 5)"
      ]
     },
     "execution_count": 16,
     "metadata": {},
     "output_type": "execute_result"
    }
   ],
   "source": [
    "t = tuple([1,2,3,4,5])\n",
    "t"
   ]
  },
  {
   "cell_type": "code",
   "execution_count": 17,
   "id": "df6da27a",
   "metadata": {},
   "outputs": [
    {
     "data": {
      "text/plain": [
       "tuple"
      ]
     },
     "execution_count": 17,
     "metadata": {},
     "output_type": "execute_result"
    }
   ],
   "source": [
    "type(t)"
   ]
  },
  {
   "cell_type": "markdown",
   "id": "f4c8e35b",
   "metadata": {},
   "source": [
    "<h1 style=\"font-size:30px; color:blue\">ACCESSING</h1>"
   ]
  },
  {
   "cell_type": "code",
   "execution_count": 20,
   "id": "a561f0af",
   "metadata": {},
   "outputs": [
    {
     "data": {
      "text/plain": [
       "1"
      ]
     },
     "execution_count": 20,
     "metadata": {},
     "output_type": "execute_result"
    }
   ],
   "source": [
    "t = (1,2,3)\n",
    "t[0]"
   ]
  },
  {
   "cell_type": "code",
   "execution_count": 21,
   "id": "b139d18d",
   "metadata": {},
   "outputs": [
    {
     "data": {
      "text/plain": [
       "3"
      ]
     },
     "execution_count": 21,
     "metadata": {},
     "output_type": "execute_result"
    }
   ],
   "source": [
    "t[-1]"
   ]
  },
  {
   "cell_type": "code",
   "execution_count": 22,
   "id": "939a4914",
   "metadata": {},
   "outputs": [
    {
     "data": {
      "text/plain": [
       "(1, 2, 3)"
      ]
     },
     "execution_count": 22,
     "metadata": {},
     "output_type": "execute_result"
    }
   ],
   "source": [
    "t[:]"
   ]
  },
  {
   "cell_type": "code",
   "execution_count": 23,
   "id": "41e2fbbb",
   "metadata": {},
   "outputs": [
    {
     "data": {
      "text/plain": [
       "4"
      ]
     },
     "execution_count": 23,
     "metadata": {},
     "output_type": "execute_result"
    }
   ],
   "source": [
    "t=(1,2,3,(4,5))\n",
    "t[-1][0]"
   ]
  },
  {
   "cell_type": "markdown",
   "id": "13c2e89d",
   "metadata": {},
   "source": [
    "<h1 style=\"font-size:30px; color:blue\">EDITING</h1>"
   ]
  },
  {
   "cell_type": "code",
   "execution_count": 25,
   "id": "b0fc844d",
   "metadata": {},
   "outputs": [
    {
     "ename": "TypeError",
     "evalue": "'tuple' object does not support item assignment",
     "output_type": "error",
     "traceback": [
      "\u001b[0;31m---------------------------------------------------------------------------\u001b[0m",
      "\u001b[0;31mTypeError\u001b[0m                                 Traceback (most recent call last)",
      "\u001b[0;32m/tmp/ipykernel_20697/1089665509.py\u001b[0m in \u001b[0;36m<module>\u001b[0;34m\u001b[0m\n\u001b[1;32m      1\u001b[0m \u001b[0ml\u001b[0m \u001b[0;34m=\u001b[0m \u001b[0;34m(\u001b[0m\u001b[0;36m1\u001b[0m\u001b[0;34m,\u001b[0m\u001b[0;36m2\u001b[0m\u001b[0;34m,\u001b[0m\u001b[0;36m3\u001b[0m\u001b[0;34m)\u001b[0m\u001b[0;34m\u001b[0m\u001b[0;34m\u001b[0m\u001b[0m\n\u001b[0;32m----> 2\u001b[0;31m \u001b[0ml\u001b[0m\u001b[0;34m[\u001b[0m\u001b[0;36m0\u001b[0m\u001b[0;34m]\u001b[0m\u001b[0;34m=\u001b[0m\u001b[0;36m3\u001b[0m \u001b[0;31m# this will give you error because it is immutable\u001b[0m\u001b[0;34m\u001b[0m\u001b[0;34m\u001b[0m\u001b[0m\n\u001b[0m",
      "\u001b[0;31mTypeError\u001b[0m: 'tuple' object does not support item assignment"
     ]
    }
   ],
   "source": [
    "l = (1,2,3)\n",
    "l[0]=3 # this will give you error because it is immutable"
   ]
  },
  {
   "cell_type": "markdown",
   "id": "e0b4167e",
   "metadata": {},
   "source": [
    "<h1 style=\"font-size:30px; color:BLUE\">DELETION</h1>"
   ]
  },
  {
   "cell_type": "code",
   "execution_count": 30,
   "id": "092ecc95",
   "metadata": {},
   "outputs": [
    {
     "ename": "TypeError",
     "evalue": "'tuple' object doesn't support item deletion",
     "output_type": "error",
     "traceback": [
      "\u001b[0;31m---------------------------------------------------------------------------\u001b[0m",
      "\u001b[0;31mTypeError\u001b[0m                                 Traceback (most recent call last)",
      "\u001b[0;32m/tmp/ipykernel_20697/1534924880.py\u001b[0m in \u001b[0;36m<module>\u001b[0;34m\u001b[0m\n\u001b[1;32m      1\u001b[0m \u001b[0mt\u001b[0m \u001b[0;34m=\u001b[0m \u001b[0;34m(\u001b[0m\u001b[0;36m1\u001b[0m\u001b[0;34m,\u001b[0m\u001b[0;36m2\u001b[0m\u001b[0;34m,\u001b[0m\u001b[0;36m3\u001b[0m\u001b[0;34m)\u001b[0m\u001b[0;34m\u001b[0m\u001b[0;34m\u001b[0m\u001b[0m\n\u001b[0;32m----> 2\u001b[0;31m \u001b[0;32mdel\u001b[0m \u001b[0mt\u001b[0m\u001b[0;34m[\u001b[0m\u001b[0;36m0\u001b[0m\u001b[0;34m]\u001b[0m \u001b[0;31m# tuples are immutable\u001b[0m\u001b[0;34m\u001b[0m\u001b[0;34m\u001b[0m\u001b[0m\n\u001b[0m",
      "\u001b[0;31mTypeError\u001b[0m: 'tuple' object doesn't support item deletion"
     ]
    }
   ],
   "source": [
    "t = (1,2,3)\n",
    "del t[0] # tuples are immutable"
   ]
  },
  {
   "cell_type": "code",
   "execution_count": 31,
   "id": "61108428",
   "metadata": {},
   "outputs": [],
   "source": [
    "del t #you can delete the whole tuple but you can't change by deleting perticular element from tuple"
   ]
  },
  {
   "cell_type": "markdown",
   "id": "e5b4345f",
   "metadata": {},
   "source": [
    "<h1 style=\"font-size:30px; color:blue\">Operations</h1>"
   ]
  },
  {
   "cell_type": "code",
   "execution_count": 32,
   "id": "1c084978",
   "metadata": {},
   "outputs": [
    {
     "data": {
      "text/plain": [
       "(1, 2, 3, 4, 5, 6)"
      ]
     },
     "execution_count": 32,
     "metadata": {},
     "output_type": "execute_result"
    }
   ],
   "source": [
    "(1,2,3)+(4,5,6)"
   ]
  },
  {
   "cell_type": "code",
   "execution_count": 33,
   "id": "f82001d4",
   "metadata": {},
   "outputs": [
    {
     "data": {
      "text/plain": [
       "(1, 2, 3, 1, 2, 3, 1, 2, 3)"
      ]
     },
     "execution_count": 33,
     "metadata": {},
     "output_type": "execute_result"
    }
   ],
   "source": [
    "(1,2,3)*3"
   ]
  },
  {
   "cell_type": "code",
   "execution_count": 34,
   "id": "567337cd",
   "metadata": {},
   "outputs": [
    {
     "name": "stdout",
     "output_type": "stream",
     "text": [
      "1 2 3 "
     ]
    }
   ],
   "source": [
    "for i in (1,2,3):\n",
    "    print(i,end=' ')"
   ]
  },
  {
   "cell_type": "markdown",
   "id": "9ecc7361",
   "metadata": {},
   "source": [
    "<h1 style=\"font-size:30px; color:blue\">Functions</h1>"
   ]
  },
  {
   "cell_type": "markdown",
   "id": "ed4c77dc",
   "metadata": {},
   "source": [
    "<h1 style=\"font-size:25px; color: #E48400\">len()</h1>"
   ]
  },
  {
   "cell_type": "code",
   "execution_count": 36,
   "id": "8868e238",
   "metadata": {},
   "outputs": [
    {
     "data": {
      "text/plain": [
       "3"
      ]
     },
     "execution_count": 36,
     "metadata": {},
     "output_type": "execute_result"
    }
   ],
   "source": [
    "len((1,2,3))"
   ]
  },
  {
   "cell_type": "markdown",
   "id": "7fcd990a",
   "metadata": {},
   "source": [
    "<h1 style=\"font-size:25px; color: #E48400\">min()</h1>"
   ]
  },
  {
   "cell_type": "code",
   "execution_count": 37,
   "id": "a4942369",
   "metadata": {},
   "outputs": [
    {
     "data": {
      "text/plain": [
       "1"
      ]
     },
     "execution_count": 37,
     "metadata": {},
     "output_type": "execute_result"
    }
   ],
   "source": [
    "min((1,2,3))"
   ]
  },
  {
   "cell_type": "markdown",
   "id": "8ef3a8e2",
   "metadata": {},
   "source": [
    "<h1 style=\"font-size:25px; color: #E48400\">max()</h1>"
   ]
  },
  {
   "cell_type": "code",
   "execution_count": 38,
   "id": "2034fd6c",
   "metadata": {},
   "outputs": [
    {
     "data": {
      "text/plain": [
       "4"
      ]
     },
     "execution_count": 38,
     "metadata": {},
     "output_type": "execute_result"
    }
   ],
   "source": [
    "max((1,2,4))"
   ]
  },
  {
   "cell_type": "markdown",
   "id": "3e1c6ca8",
   "metadata": {},
   "source": [
    "<h1 style=\"font-size:25px; color: #E48400\">sum()</h1>"
   ]
  },
  {
   "cell_type": "code",
   "execution_count": 39,
   "id": "1a6f0873",
   "metadata": {},
   "outputs": [
    {
     "data": {
      "text/plain": [
       "6"
      ]
     },
     "execution_count": 39,
     "metadata": {},
     "output_type": "execute_result"
    }
   ],
   "source": [
    "sum((1,2,3))"
   ]
  },
  {
   "cell_type": "markdown",
   "id": "f92cd47b",
   "metadata": {},
   "source": [
    "<h1 style=\"font-size:25px; color: #E48400\">sorted()</h1>"
   ]
  },
  {
   "cell_type": "code",
   "execution_count": 40,
   "id": "7ebbc119",
   "metadata": {},
   "outputs": [
    {
     "data": {
      "text/plain": [
       "[1, 2, 3]"
      ]
     },
     "execution_count": 40,
     "metadata": {},
     "output_type": "execute_result"
    }
   ],
   "source": [
    "sorted((3,2,1))"
   ]
  },
  {
   "cell_type": "code",
   "execution_count": 41,
   "id": "d286bbf1",
   "metadata": {},
   "outputs": [
    {
     "data": {
      "text/plain": [
       "[3, 2, 1]"
      ]
     },
     "execution_count": 41,
     "metadata": {},
     "output_type": "execute_result"
    }
   ],
   "source": [
    "sorted((1,2,3),reverse=True)"
   ]
  },
  {
   "cell_type": "code",
   "execution_count": null,
   "id": "89fa2773",
   "metadata": {},
   "outputs": [],
   "source": []
  }
 ],
 "metadata": {
  "kernelspec": {
   "display_name": "Python 3 (ipykernel)",
   "language": "python",
   "name": "python3"
  },
  "language_info": {
   "codemirror_mode": {
    "name": "ipython",
    "version": 3
   },
   "file_extension": ".py",
   "mimetype": "text/x-python",
   "name": "python",
   "nbconvert_exporter": "python",
   "pygments_lexer": "ipython3",
   "version": "3.9.13"
  }
 },
 "nbformat": 4,
 "nbformat_minor": 5
}
