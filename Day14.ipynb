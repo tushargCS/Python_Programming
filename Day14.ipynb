{
 "cells": [
  {
   "cell_type": "markdown",
   "id": "4e8bd5bc",
   "metadata": {},
   "source": [
    "<h1 style=\"font-size:50px; color:red\">List</h1>"
   ]
  },
  {
   "cell_type": "code",
   "execution_count": 1,
   "id": "58fadd68",
   "metadata": {},
   "outputs": [],
   "source": [
    "#list --> datatype used to store multiple literals together  \n",
    "\n",
    "#       Array                            List\n",
    "\n",
    "# 1. array homogenous           1. list is hetrogenous\n",
    "# 2. arrays are faster          2. list are slower as compare to array\n",
    "# 3. data store continuously    3. data is not store continuously"
   ]
  },
  {
   "cell_type": "markdown",
   "id": "ae45eda4",
   "metadata": {},
   "source": [
    "<h1 style=\"font-size:30px; color:blue\">CREATION</h1>"
   ]
  },
  {
   "cell_type": "code",
   "execution_count": 5,
   "id": "c2d86515",
   "metadata": {},
   "outputs": [
    {
     "data": {
      "text/plain": [
       "[]"
      ]
     },
     "execution_count": 5,
     "metadata": {},
     "output_type": "execute_result"
    }
   ],
   "source": [
    "L=[]\n",
    "L"
   ]
  },
  {
   "cell_type": "code",
   "execution_count": 6,
   "id": "1d54172e",
   "metadata": {},
   "outputs": [
    {
     "data": {
      "text/plain": [
       "[1, 2, 3, 4]"
      ]
     },
     "execution_count": 6,
     "metadata": {},
     "output_type": "execute_result"
    }
   ],
   "source": [
    "L=[1,2,3,4]\n",
    "L"
   ]
  },
  {
   "cell_type": "code",
   "execution_count": 9,
   "id": "cdadb407",
   "metadata": {},
   "outputs": [
    {
     "data": {
      "text/plain": [
       "[1, True, 0.1, 'hello']"
      ]
     },
     "execution_count": 9,
     "metadata": {},
     "output_type": "execute_result"
    }
   ],
   "source": [
    "L=[1,True,0.1,\"hello\"]\n",
    "L"
   ]
  },
  {
   "cell_type": "code",
   "execution_count": 10,
   "id": "b449083c",
   "metadata": {},
   "outputs": [],
   "source": [
    "#multi-dimensional list"
   ]
  },
  {
   "cell_type": "code",
   "execution_count": 12,
   "id": "00d0f9f6",
   "metadata": {},
   "outputs": [
    {
     "data": {
      "text/plain": [
       "[1, 2, 3, [4, 5]]"
      ]
     },
     "execution_count": 12,
     "metadata": {},
     "output_type": "execute_result"
    }
   ],
   "source": [
    "l=[1,2,3,[4,5]]\n",
    "l"
   ]
  },
  {
   "cell_type": "code",
   "execution_count": 14,
   "id": "c1a9c702",
   "metadata": {},
   "outputs": [
    {
     "data": {
      "text/plain": [
       "[[[1, 2, 3], [4, 5, 6]]]"
      ]
     },
     "execution_count": 14,
     "metadata": {},
     "output_type": "execute_result"
    }
   ],
   "source": [
    "#3d list\n",
    "l=[[[1,2,3],[4,5,6]]]\n",
    "l"
   ]
  },
  {
   "cell_type": "code",
   "execution_count": 17,
   "id": "8978e58a",
   "metadata": {},
   "outputs": [
    {
     "data": {
      "text/plain": [
       "['t', 'u', 's', 'h', 'a', 'r']"
      ]
     },
     "execution_count": 17,
     "metadata": {},
     "output_type": "execute_result"
    }
   ],
   "source": [
    "a = list(\"tushar\")\n",
    "a"
   ]
  },
  {
   "cell_type": "code",
   "execution_count": 19,
   "id": "02ee7c67",
   "metadata": {},
   "outputs": [
    {
     "data": {
      "text/plain": [
       "[]"
      ]
     },
     "execution_count": 19,
     "metadata": {},
     "output_type": "execute_result"
    }
   ],
   "source": [
    "a = list()\n",
    "a"
   ]
  },
  {
   "cell_type": "markdown",
   "id": "a6552cb5",
   "metadata": {},
   "source": [
    "<h1 style=\"font-size:30px; color:blue\">ACCESSING</h1>"
   ]
  },
  {
   "cell_type": "code",
   "execution_count": 22,
   "id": "f152397c",
   "metadata": {},
   "outputs": [
    {
     "data": {
      "text/plain": [
       "1"
      ]
     },
     "execution_count": 22,
     "metadata": {},
     "output_type": "execute_result"
    }
   ],
   "source": [
    "l=[1,2,3,4,5,6,7,8,9]\n",
    "l[0]"
   ]
  },
  {
   "cell_type": "code",
   "execution_count": 23,
   "id": "41ca8e07",
   "metadata": {},
   "outputs": [
    {
     "data": {
      "text/plain": [
       "[1, 2, 3, 4, 5, 6, 7, 8, 9]"
      ]
     },
     "execution_count": 23,
     "metadata": {},
     "output_type": "execute_result"
    }
   ],
   "source": [
    "l[:]"
   ]
  },
  {
   "cell_type": "code",
   "execution_count": 24,
   "id": "a5635c36",
   "metadata": {},
   "outputs": [
    {
     "data": {
      "text/plain": [
       "[1, 2, 3, 4]"
      ]
     },
     "execution_count": 24,
     "metadata": {},
     "output_type": "execute_result"
    }
   ],
   "source": [
    "l[0:4]"
   ]
  },
  {
   "cell_type": "code",
   "execution_count": 25,
   "id": "12394ec6",
   "metadata": {},
   "outputs": [
    {
     "data": {
      "text/plain": [
       "9"
      ]
     },
     "execution_count": 25,
     "metadata": {},
     "output_type": "execute_result"
    }
   ],
   "source": [
    "l[-1]"
   ]
  },
  {
   "cell_type": "code",
   "execution_count": 26,
   "id": "9e4d50f9",
   "metadata": {},
   "outputs": [
    {
     "data": {
      "text/plain": [
       "8"
      ]
     },
     "execution_count": 26,
     "metadata": {},
     "output_type": "execute_result"
    }
   ],
   "source": [
    "l[-2]"
   ]
  },
  {
   "cell_type": "code",
   "execution_count": 27,
   "id": "0d68105a",
   "metadata": {},
   "outputs": [
    {
     "data": {
      "text/plain": [
       "[9, 8, 7, 6, 5, 4, 3, 2, 1]"
      ]
     },
     "execution_count": 27,
     "metadata": {},
     "output_type": "execute_result"
    }
   ],
   "source": [
    "l[::-1]"
   ]
  },
  {
   "cell_type": "code",
   "execution_count": 30,
   "id": "7d5328ec",
   "metadata": {},
   "outputs": [
    {
     "data": {
      "text/plain": [
       "[5, 6, 7, 8]"
      ]
     },
     "execution_count": 30,
     "metadata": {},
     "output_type": "execute_result"
    }
   ],
   "source": [
    "l[-5:-1]"
   ]
  },
  {
   "cell_type": "code",
   "execution_count": 31,
   "id": "6649facb",
   "metadata": {},
   "outputs": [
    {
     "data": {
      "text/plain": [
       "4"
      ]
     },
     "execution_count": 31,
     "metadata": {},
     "output_type": "execute_result"
    }
   ],
   "source": [
    "l= [1,2,3,[4,5]]\n",
    "l[-1][0]"
   ]
  },
  {
   "cell_type": "code",
   "execution_count": 32,
   "id": "bf72057b",
   "metadata": {},
   "outputs": [
    {
     "data": {
      "text/plain": [
       "5"
      ]
     },
     "execution_count": 32,
     "metadata": {},
     "output_type": "execute_result"
    }
   ],
   "source": [
    "l[-1][-1]"
   ]
  },
  {
   "cell_type": "code",
   "execution_count": 34,
   "id": "b2775f4c",
   "metadata": {},
   "outputs": [
    {
     "data": {
      "text/plain": [
       "7"
      ]
     },
     "execution_count": 34,
     "metadata": {},
     "output_type": "execute_result"
    }
   ],
   "source": [
    "l = [[[1,2],[3,4],[5,6],[7,8]]]\n",
    "l[0][-1][0]"
   ]
  },
  {
   "cell_type": "markdown",
   "id": "8e29cba0",
   "metadata": {},
   "source": [
    "<h1 style=\"font-size:30px; color:blue\">EDITING</h1>"
   ]
  },
  {
   "cell_type": "code",
   "execution_count": 43,
   "id": "8294b13a",
   "metadata": {},
   "outputs": [
    {
     "data": {
      "text/plain": [
       "1"
      ]
     },
     "execution_count": 43,
     "metadata": {},
     "output_type": "execute_result"
    }
   ],
   "source": [
    "l = [1,2,3]\n",
    "l[0]"
   ]
  },
  {
   "cell_type": "code",
   "execution_count": 44,
   "id": "8cc34b1e",
   "metadata": {},
   "outputs": [
    {
     "data": {
      "text/plain": [
       "100"
      ]
     },
     "execution_count": 44,
     "metadata": {},
     "output_type": "execute_result"
    }
   ],
   "source": [
    "l[0] =100\n",
    "l[0]"
   ]
  },
  {
   "cell_type": "code",
   "execution_count": 45,
   "id": "0e8c5003",
   "metadata": {},
   "outputs": [
    {
     "data": {
      "text/plain": [
       "[100, 2, 100]"
      ]
     },
     "execution_count": 45,
     "metadata": {},
     "output_type": "execute_result"
    }
   ],
   "source": [
    "l[-1] = 100\n",
    "l"
   ]
  },
  {
   "cell_type": "code",
   "execution_count": 46,
   "id": "041e93a2",
   "metadata": {},
   "outputs": [],
   "source": [
    "l[:] = [100,100,100]"
   ]
  },
  {
   "cell_type": "code",
   "execution_count": 47,
   "id": "4d174388",
   "metadata": {},
   "outputs": [
    {
     "data": {
      "text/plain": [
       "[100, 100, 100]"
      ]
     },
     "execution_count": 47,
     "metadata": {},
     "output_type": "execute_result"
    }
   ],
   "source": [
    "l"
   ]
  },
  {
   "cell_type": "markdown",
   "id": "0b42cdde",
   "metadata": {},
   "source": [
    "<h1 style=\"font-size:30px; color:blue\">ADDING</h1>"
   ]
  },
  {
   "cell_type": "markdown",
   "id": "1e2b2a23",
   "metadata": {},
   "source": [
    "<h1 style=\"font-size:25px; color: #E48400\">append()</h1>"
   ]
  },
  {
   "cell_type": "code",
   "execution_count": 57,
   "id": "2e5dbd09",
   "metadata": {},
   "outputs": [
    {
     "data": {
      "text/plain": [
       "[1, 2, 3]"
      ]
     },
     "execution_count": 57,
     "metadata": {},
     "output_type": "execute_result"
    }
   ],
   "source": [
    "l = [1,2,3]\n",
    "l"
   ]
  },
  {
   "cell_type": "code",
   "execution_count": 58,
   "id": "2ec7c210",
   "metadata": {},
   "outputs": [
    {
     "data": {
      "text/plain": [
       "[1, 2, 3, 4]"
      ]
     },
     "execution_count": 58,
     "metadata": {},
     "output_type": "execute_result"
    }
   ],
   "source": [
    "l.append(4)\n",
    "l"
   ]
  },
  {
   "cell_type": "code",
   "execution_count": 59,
   "id": "83f36232",
   "metadata": {},
   "outputs": [
    {
     "data": {
      "text/plain": [
       "[1, 2, 3, 4, 'hello']"
      ]
     },
     "execution_count": 59,
     "metadata": {},
     "output_type": "execute_result"
    }
   ],
   "source": [
    "l.append(\"hello\")\n",
    "l"
   ]
  },
  {
   "cell_type": "markdown",
   "id": "5d489bb8",
   "metadata": {},
   "source": [
    "<h1 style=\"font-size:25px; color: #E48400\">extend()</h1>"
   ]
  },
  {
   "cell_type": "code",
   "execution_count": 60,
   "id": "65b32397",
   "metadata": {},
   "outputs": [],
   "source": [
    "l = [1,2,3,4]\n",
    "l.extend([1,2,3,4]) "
   ]
  },
  {
   "cell_type": "code",
   "execution_count": 61,
   "id": "6d6723bc",
   "metadata": {},
   "outputs": [
    {
     "data": {
      "text/plain": [
       "[1, 2, 3, 4, 1, 2, 3, 4]"
      ]
     },
     "execution_count": 61,
     "metadata": {},
     "output_type": "execute_result"
    }
   ],
   "source": [
    "l"
   ]
  },
  {
   "cell_type": "code",
   "execution_count": 62,
   "id": "6c00a236",
   "metadata": {},
   "outputs": [
    {
     "data": {
      "text/plain": [
       "[1, 2, 3, [4, 5, 6]]"
      ]
     },
     "execution_count": 62,
     "metadata": {},
     "output_type": "execute_result"
    }
   ],
   "source": [
    "# diff b/w extend and append \n",
    "l = [1,2,3]\n",
    "l.append([4,5,6])\n",
    "l"
   ]
  },
  {
   "cell_type": "code",
   "execution_count": 63,
   "id": "36c67266",
   "metadata": {},
   "outputs": [],
   "source": [
    "l=[1,2,3]\n",
    "l.extend([4,5,6])"
   ]
  },
  {
   "cell_type": "code",
   "execution_count": 64,
   "id": "85288fc7",
   "metadata": {},
   "outputs": [
    {
     "data": {
      "text/plain": [
       "[1, 2, 3, 4, 5, 6]"
      ]
     },
     "execution_count": 64,
     "metadata": {},
     "output_type": "execute_result"
    }
   ],
   "source": [
    "l"
   ]
  },
  {
   "cell_type": "markdown",
   "id": "0837d8b9",
   "metadata": {},
   "source": [
    "<h1 style=\"font-size:25px; color: #E48400\">insert()</h1>"
   ]
  },
  {
   "cell_type": "code",
   "execution_count": 69,
   "id": "d9dd7266",
   "metadata": {},
   "outputs": [
    {
     "data": {
      "text/plain": [
       "[9, 1, 2, 3]"
      ]
     },
     "execution_count": 69,
     "metadata": {},
     "output_type": "execute_result"
    }
   ],
   "source": [
    "l = [1,2,3] # add element at perticular index\n",
    "l.insert(0,9)\n",
    "l"
   ]
  },
  {
   "cell_type": "markdown",
   "id": "dce97326",
   "metadata": {},
   "source": [
    "<h1 style=\"font-size:30px; color: blue\">DELETION</h1>"
   ]
  },
  {
   "cell_type": "markdown",
   "id": "85f9301d",
   "metadata": {},
   "source": [
    "<h1 style=\"font-size:25px; color: #E48400\">del</h1>"
   ]
  },
  {
   "cell_type": "code",
   "execution_count": 77,
   "id": "5da907ce",
   "metadata": {},
   "outputs": [],
   "source": [
    "l = [1,2,3,4]\n",
    "del l[0]"
   ]
  },
  {
   "cell_type": "code",
   "execution_count": 78,
   "id": "194fd664",
   "metadata": {},
   "outputs": [
    {
     "data": {
      "text/plain": [
       "[2, 3, 4]"
      ]
     },
     "execution_count": 78,
     "metadata": {},
     "output_type": "execute_result"
    }
   ],
   "source": [
    "l"
   ]
  },
  {
   "cell_type": "code",
   "execution_count": 79,
   "id": "623ab33f",
   "metadata": {},
   "outputs": [],
   "source": [
    "del l"
   ]
  },
  {
   "cell_type": "code",
   "execution_count": 80,
   "id": "41afa0e6",
   "metadata": {},
   "outputs": [
    {
     "ename": "NameError",
     "evalue": "name 'l' is not defined",
     "output_type": "error",
     "traceback": [
      "\u001b[0;31m---------------------------------------------------------------------------\u001b[0m",
      "\u001b[0;31mNameError\u001b[0m                                 Traceback (most recent call last)",
      "\u001b[0;32m/tmp/ipykernel_16131/668121764.py\u001b[0m in \u001b[0;36m<module>\u001b[0;34m\u001b[0m\n\u001b[0;32m----> 1\u001b[0;31m \u001b[0ml\u001b[0m \u001b[0;31m#because you already done 'del l'\u001b[0m\u001b[0;34m\u001b[0m\u001b[0;34m\u001b[0m\u001b[0m\n\u001b[0m",
      "\u001b[0;31mNameError\u001b[0m: name 'l' is not defined"
     ]
    }
   ],
   "source": [
    "l #because you already done 'del l'"
   ]
  },
  {
   "cell_type": "markdown",
   "id": "99d7a770",
   "metadata": {},
   "source": [
    "<h1 style=\"font-size:25px; color: #E48400\">remove()</h1>"
   ]
  },
  {
   "cell_type": "code",
   "execution_count": 84,
   "id": "b69e45d8",
   "metadata": {},
   "outputs": [
    {
     "data": {
      "text/plain": [
       "[1, 3]"
      ]
     },
     "execution_count": 84,
     "metadata": {},
     "output_type": "execute_result"
    }
   ],
   "source": [
    "#delete perticular element\n",
    "\n",
    "l= [1,2,3]\n",
    "l.remove(2)\n",
    "l"
   ]
  },
  {
   "cell_type": "markdown",
   "id": "7e7270a0",
   "metadata": {},
   "source": [
    "<h1 style=\"font-size:25px; color: #E48400\">pop()</h1>"
   ]
  },
  {
   "cell_type": "code",
   "execution_count": 86,
   "id": "1cb34d68",
   "metadata": {},
   "outputs": [
    {
     "data": {
      "text/plain": [
       "3"
      ]
     },
     "execution_count": 86,
     "metadata": {},
     "output_type": "execute_result"
    }
   ],
   "source": [
    "#delete last element\n",
    "\n",
    "l=[1,2,3]\n",
    "l.pop()"
   ]
  },
  {
   "cell_type": "code",
   "execution_count": 87,
   "id": "1e2dec8f",
   "metadata": {},
   "outputs": [
    {
     "data": {
      "text/plain": [
       "[1, 2]"
      ]
     },
     "execution_count": 87,
     "metadata": {},
     "output_type": "execute_result"
    }
   ],
   "source": [
    "l"
   ]
  },
  {
   "cell_type": "markdown",
   "id": "6790f84a",
   "metadata": {},
   "source": [
    "<h1 style=\"font-size:25px; color: #E48400\">clear()</h1>"
   ]
  },
  {
   "cell_type": "code",
   "execution_count": 91,
   "id": "50f3766d",
   "metadata": {},
   "outputs": [],
   "source": [
    "# truncate your list\n",
    "l = [1,2,3]\n",
    "l.clear()"
   ]
  },
  {
   "cell_type": "code",
   "execution_count": 92,
   "id": "02afc914",
   "metadata": {},
   "outputs": [
    {
     "data": {
      "text/plain": [
       "[]"
      ]
     },
     "execution_count": 92,
     "metadata": {},
     "output_type": "execute_result"
    }
   ],
   "source": [
    "l"
   ]
  },
  {
   "cell_type": "markdown",
   "id": "a3d5511f",
   "metadata": {},
   "source": [
    "<h1 style=\"font-size:30px; color:blue\">Operations</h1>"
   ]
  },
  {
   "cell_type": "code",
   "execution_count": 94,
   "id": "7b7ac67d",
   "metadata": {},
   "outputs": [
    {
     "data": {
      "text/plain": [
       "[1, 2, 3, 4, 5, 6]"
      ]
     },
     "execution_count": 94,
     "metadata": {},
     "output_type": "execute_result"
    }
   ],
   "source": [
    "#concatination\n",
    "l1=[1,2,3]\n",
    "l2=[4,5,6]\n",
    "l1+l2"
   ]
  },
  {
   "cell_type": "code",
   "execution_count": 97,
   "id": "00dab44c",
   "metadata": {},
   "outputs": [
    {
     "data": {
      "text/plain": [
       "[1, 2, 3, 1, 2, 3, 1, 2, 3]"
      ]
     },
     "execution_count": 97,
     "metadata": {},
     "output_type": "execute_result"
    }
   ],
   "source": [
    "#multiplication\n",
    "l1*3"
   ]
  },
  {
   "cell_type": "code",
   "execution_count": 99,
   "id": "f22e6d5c",
   "metadata": {},
   "outputs": [
    {
     "name": "stdout",
     "output_type": "stream",
     "text": [
      "1 2 3 "
     ]
    }
   ],
   "source": [
    "#looping \n",
    "for i in l1:\n",
    "    print(i,end=' ')"
   ]
  },
  {
   "cell_type": "code",
   "execution_count": 100,
   "id": "001176df",
   "metadata": {},
   "outputs": [
    {
     "data": {
      "text/plain": [
       "False"
      ]
     },
     "execution_count": 100,
     "metadata": {},
     "output_type": "execute_result"
    }
   ],
   "source": [
    "#membership\n",
    "4 in l1"
   ]
  },
  {
   "cell_type": "code",
   "execution_count": 101,
   "id": "055a160c",
   "metadata": {},
   "outputs": [
    {
     "data": {
      "text/plain": [
       "True"
      ]
     },
     "execution_count": 101,
     "metadata": {},
     "output_type": "execute_result"
    }
   ],
   "source": [
    "3 in l1"
   ]
  },
  {
   "cell_type": "code",
   "execution_count": 102,
   "id": "604a21ab",
   "metadata": {},
   "outputs": [
    {
     "data": {
      "text/plain": [
       "False"
      ]
     },
     "execution_count": 102,
     "metadata": {},
     "output_type": "execute_result"
    }
   ],
   "source": [
    "1 not in l1"
   ]
  },
  {
   "cell_type": "code",
   "execution_count": 103,
   "id": "58923fee",
   "metadata": {},
   "outputs": [
    {
     "data": {
      "text/plain": [
       "True"
      ]
     },
     "execution_count": 103,
     "metadata": {},
     "output_type": "execute_result"
    }
   ],
   "source": [
    "1 in l1"
   ]
  },
  {
   "cell_type": "markdown",
   "id": "cba3d298",
   "metadata": {},
   "source": [
    "<h1 style=\"font-size:30px; color:blue\">Functions</h1>"
   ]
  },
  {
   "cell_type": "markdown",
   "id": "99444717",
   "metadata": {},
   "source": [
    "<h1 style=\"font-size:25px; color: #E48400\">len()</h1>"
   ]
  },
  {
   "cell_type": "code",
   "execution_count": 106,
   "id": "af94fc7a",
   "metadata": {},
   "outputs": [
    {
     "data": {
      "text/plain": [
       "3"
      ]
     },
     "execution_count": 106,
     "metadata": {},
     "output_type": "execute_result"
    }
   ],
   "source": [
    "len([1,2,3])"
   ]
  },
  {
   "cell_type": "markdown",
   "id": "56559705",
   "metadata": {},
   "source": [
    "<h1 style=\"font-size:25px; color: #E48400\">min()</h1>"
   ]
  },
  {
   "cell_type": "code",
   "execution_count": 108,
   "id": "71d10501",
   "metadata": {},
   "outputs": [
    {
     "data": {
      "text/plain": [
       "1"
      ]
     },
     "execution_count": 108,
     "metadata": {},
     "output_type": "execute_result"
    }
   ],
   "source": [
    "min([1,2,3])"
   ]
  },
  {
   "cell_type": "markdown",
   "id": "4bc4f648",
   "metadata": {},
   "source": [
    "<h1 style=\"font-size:25px; color: #E48400\">max()</h1>"
   ]
  },
  {
   "cell_type": "code",
   "execution_count": 109,
   "id": "0d79f867",
   "metadata": {},
   "outputs": [
    {
     "data": {
      "text/plain": [
       "3"
      ]
     },
     "execution_count": 109,
     "metadata": {},
     "output_type": "execute_result"
    }
   ],
   "source": [
    "max([1,2,3])"
   ]
  },
  {
   "cell_type": "markdown",
   "id": "0aec8b24",
   "metadata": {},
   "source": [
    "<h1 style=\"font-size:25px; color: #E48400\">sorted()</h1>"
   ]
  },
  {
   "cell_type": "code",
   "execution_count": 110,
   "id": "7f63a5b1",
   "metadata": {},
   "outputs": [
    {
     "data": {
      "text/plain": [
       "[1, 1, 2, 2, 3, 3]"
      ]
     },
     "execution_count": 110,
     "metadata": {},
     "output_type": "execute_result"
    }
   ],
   "source": [
    "sorted([1,2,3,3,2,1])"
   ]
  },
  {
   "cell_type": "code",
   "execution_count": 111,
   "id": "5665e248",
   "metadata": {},
   "outputs": [
    {
     "data": {
      "text/plain": [
       "[3, 2, 1]"
      ]
     },
     "execution_count": 111,
     "metadata": {},
     "output_type": "execute_result"
    }
   ],
   "source": [
    "sorted([1,2,3],reverse=True)"
   ]
  },
  {
   "cell_type": "markdown",
   "id": "2bd7189c",
   "metadata": {},
   "source": [
    "<h1 style=\"font-size:25px; color: #E48400\">sort()</h1>"
   ]
  },
  {
   "cell_type": "code",
   "execution_count": 117,
   "id": "ae6db128",
   "metadata": {},
   "outputs": [],
   "source": [
    "l = [3,4,5,2,3,4] # this is permanent operation\n",
    "\n",
    "l.sort()"
   ]
  },
  {
   "cell_type": "code",
   "execution_count": 118,
   "id": "d72bed02",
   "metadata": {},
   "outputs": [
    {
     "data": {
      "text/plain": [
       "[2, 3, 3, 4, 4, 5]"
      ]
     },
     "execution_count": 118,
     "metadata": {},
     "output_type": "execute_result"
    }
   ],
   "source": [
    "l"
   ]
  },
  {
   "cell_type": "markdown",
   "id": "ab04d69b",
   "metadata": {},
   "source": [
    "<h1 style=\"font-size:25px; color: #E48400\">index()</h1>"
   ]
  },
  {
   "cell_type": "code",
   "execution_count": 120,
   "id": "8a624982",
   "metadata": {},
   "outputs": [
    {
     "data": {
      "text/plain": [
       "1"
      ]
     },
     "execution_count": 120,
     "metadata": {},
     "output_type": "execute_result"
    }
   ],
   "source": [
    "l.index(3)"
   ]
  },
  {
   "cell_type": "code",
   "execution_count": null,
   "id": "fc652ba4",
   "metadata": {},
   "outputs": [],
   "source": []
  }
 ],
 "metadata": {
  "kernelspec": {
   "display_name": "Python 3 (ipykernel)",
   "language": "python",
   "name": "python3"
  },
  "language_info": {
   "codemirror_mode": {
    "name": "ipython",
    "version": 3
   },
   "file_extension": ".py",
   "mimetype": "text/x-python",
   "name": "python",
   "nbconvert_exporter": "python",
   "pygments_lexer": "ipython3",
   "version": "3.9.13"
  }
 },
 "nbformat": 4,
 "nbformat_minor": 5
}
