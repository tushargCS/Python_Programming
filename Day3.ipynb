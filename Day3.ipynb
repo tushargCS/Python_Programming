{
 "cells": [
  {
   "cell_type": "markdown",
   "id": "efcc257a",
   "metadata": {},
   "source": [
    "<h1 style=\"font-size:50px; color:red\">Comment</h1>"
   ]
  },
  {
   "cell_type": "markdown",
   "id": "d01fcc3b",
   "metadata": {},
   "source": [
    "### code which is not executable by the compiler or interpreter"
   ]
  },
  {
   "cell_type": "code",
   "execution_count": 1,
   "id": "7a2c81c5",
   "metadata": {},
   "outputs": [],
   "source": [
    "#tushar is a good boy"
   ]
  },
  {
   "cell_type": "code",
   "execution_count": null,
   "id": "de1c4dc7",
   "metadata": {},
   "outputs": [],
   "source": []
  }
 ],
 "metadata": {
  "kernelspec": {
   "display_name": "Python 3 (ipykernel)",
   "language": "python",
   "name": "python3"
  },
  "language_info": {
   "codemirror_mode": {
    "name": "ipython",
    "version": 3
   },
   "file_extension": ".py",
   "mimetype": "text/x-python",
   "name": "python",
   "nbconvert_exporter": "python",
   "pygments_lexer": "ipython3",
   "version": "3.9.13"
  }
 },
 "nbformat": 4,
 "nbformat_minor": 5
}
