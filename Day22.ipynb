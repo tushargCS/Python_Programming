{
 "cells": [
  {
   "cell_type": "markdown",
   "id": "cea83a27",
   "metadata": {},
   "source": [
    "<h1 style=\"font-size:50px; color: red\">Object Oriented Programming</h1>"
   ]
  },
  {
   "cell_type": "markdown",
   "id": "d7849dae",
   "metadata": {},
   "source": [
    "<h1 style=\"font-size:30px; color: blue\">class</h1>"
   ]
  },
  {
   "cell_type": "code",
   "execution_count": null,
   "id": "f739e561",
   "metadata": {},
   "outputs": [],
   "source": [
    "# class is blue-print \n",
    "# class contains two things\n",
    "#  \t1. data or property\n",
    "#    2. functions or behavior\n",
    "# class name should be in pascal case ex ===> ThisIsPascalCase\n"
   ]
  },
  {
   "cell_type": "markdown",
   "id": "f6a9db00",
   "metadata": {},
   "source": [
    "<h1 style=\"font-size:30px; color: blue\">method vs function</h1>"
   ]
  },
  {
   "cell_type": "code",
   "execution_count": null,
   "id": "180593e0",
   "metadata": {},
   "outputs": [],
   "source": [
    "# method --> which is written inside the class.    ex:l.append(2)\n",
    "# function --> which is written outside the class. ex:len(l)"
   ]
  },
  {
   "cell_type": "code",
   "execution_count": 145,
   "id": "d4c64421",
   "metadata": {},
   "outputs": [],
   "source": [
    "class Atm:\n",
    "    def __init__(self):\n",
    "        self.pin = \"\"\n",
    "        print(id(self))\n",
    "        self.balance = 0\n",
    "        self.menu()\n",
    "\n",
    "    def menu(self):\n",
    "        ui = input(\"\"\"\n",
    "        Hello how would you like to procced?\n",
    "        1.Enter 1 to create pin\n",
    "        2.Enter 2 to deposit\n",
    "        3.Enter 3 to Withdraw\n",
    "        4.Enter 4 to check balance\n",
    "        5.Enter 5 to exit\n",
    "        \"\"\")\n",
    "        \n",
    "        if ui=='1':\n",
    "            self.create_pin()\n",
    "        elif ui=='2':\n",
    "            self.deposit()\n",
    "        elif ui=='3':\n",
    "            self.withdraw()\n",
    "        elif ui=='4':\n",
    "            self.check_balance()\n",
    "        else:\n",
    "            print(\"bye\")\n",
    "            \n",
    "   \n",
    "    def deposit(self):\n",
    "        temp = input(\"Enter your Pin\")\n",
    "        if temp==self.pin:\n",
    "            amount = int(input(\"Enter the amount\"))\n",
    "            self.balance = self.balance+amount\n",
    "            print(\"deposit successfully\")\n",
    "        else:\n",
    "            print(\"Invalid Pin\")\n",
    "        self.menu()\n",
    "        \n",
    "        \n",
    "    def create_pin(self):\n",
    "        self.pin = input(\"Enter your pin\")\n",
    "        print(\"Pin set Successfully\")\n",
    "        self.menu()\n",
    "        \n",
    "        \n",
    "    def withdraw(self):\n",
    "        temp = input(\"Enter your Pin\")\n",
    "        if temp==self.pin:\n",
    "            amount = int(input(\"Enter the amount\"))\n",
    "            if amount<self.balance:\n",
    "                self.balance = self.balance-amount\n",
    "            else:\n",
    "                print(\"insufficient balance\")\n",
    "        else:\n",
    "            print(\"invalid pin\")\n",
    "        self.menu()\n",
    "        \n",
    "    def check_balance(self):\n",
    "        temp = input(\"Enter your pin\")\n",
    "        if temp == self.pin:\n",
    "            print(\"your balance is \",self.balance)\n",
    "            \n",
    "        self.menu()"
   ]
  },
  {
   "cell_type": "code",
   "execution_count": 146,
   "id": "c0a531b2",
   "metadata": {
    "scrolled": true
   },
   "outputs": [
    {
     "name": "stdout",
     "output_type": "stream",
     "text": [
      "140262491102464\n",
      "\n",
      "        Hello how would you like to procced?\n",
      "        1.Enter 1 to create pin\n",
      "        2.Enter 2 to deposit\n",
      "        3.Enter 3 to Withdraw\n",
      "        4.Enter 4 to check balance\n",
      "        5.Enter 5 to exit\n",
      "        \n",
      "bye\n"
     ]
    }
   ],
   "source": [
    "sbi = Atm()"
   ]
  },
  {
   "cell_type": "code",
   "execution_count": 147,
   "id": "f263f347",
   "metadata": {},
   "outputs": [],
   "source": [
    "class Fraction:\n",
    "   \n",
    "    def __init__(self,n,d):\n",
    "        self.num = n\n",
    "        self.den = d\n",
    "    \n",
    "    def __str__(self):\n",
    "        return \"this is my first class for fraction {}/{}\".format(self.num,self.den)\n",
    "    \n",
    "    def __add__(self,other):\n",
    "        temp_num = (self.num * other.den) + (other.num * self.den)\n",
    "        temp_den = self.den * other.den\n",
    "        return \"{}/{}\".format(temp_num,temp_den)\n",
    "    \n",
    "    def __sub__(self,other):\n",
    "        temp_num = (self.num * other.den) - (other.num * self.den)\n",
    "        temp_den = self.den * other.den\n",
    "        return \"{}/{}\".format(temp_num,temp_den)\n",
    "    \n",
    "    def __mul__(self,other):\n",
    "        temp_num = (self.num * other.num)\n",
    "        temp_den = self.den * other.den\n",
    "        return \"{}/{}\".format(temp_num,temp_den)\n",
    "    \n",
    "    def __truediv__(self,other):\n",
    "        temp_num = self.num*other.den\n",
    "        temp_den = self.den*other.num\n",
    "        return \"{}/{}\".format(temp_num,temp_den)"
   ]
  },
  {
   "cell_type": "code",
   "execution_count": 148,
   "id": "891704be",
   "metadata": {
    "scrolled": true
   },
   "outputs": [
    {
     "name": "stdout",
     "output_type": "stream",
     "text": [
      "this is my first class for fraction 4/5\n"
     ]
    }
   ],
   "source": [
    "x = Fraction(4,5)\n",
    "print(x)"
   ]
  },
  {
   "cell_type": "code",
   "execution_count": 149,
   "id": "6864e7fe",
   "metadata": {
    "scrolled": true
   },
   "outputs": [
    {
     "name": "stdout",
     "output_type": "stream",
     "text": [
      "this is my first class for fraction 3/4\n"
     ]
    }
   ],
   "source": [
    "y = Fraction(3,4)\n",
    "print(y)"
   ]
  },
  {
   "cell_type": "code",
   "execution_count": 150,
   "id": "fbbf7aac",
   "metadata": {
    "scrolled": true
   },
   "outputs": [
    {
     "data": {
      "text/plain": [
       "'31/20'"
      ]
     },
     "execution_count": 150,
     "metadata": {},
     "output_type": "execute_result"
    }
   ],
   "source": [
    "x+y"
   ]
  },
  {
   "cell_type": "code",
   "execution_count": 151,
   "id": "76b5fda1",
   "metadata": {
    "scrolled": true
   },
   "outputs": [
    {
     "data": {
      "text/plain": [
       "'1/20'"
      ]
     },
     "execution_count": 151,
     "metadata": {},
     "output_type": "execute_result"
    }
   ],
   "source": [
    "x-y"
   ]
  },
  {
   "cell_type": "code",
   "execution_count": 152,
   "id": "a853f595",
   "metadata": {},
   "outputs": [
    {
     "data": {
      "text/plain": [
       "'12/20'"
      ]
     },
     "execution_count": 152,
     "metadata": {},
     "output_type": "execute_result"
    }
   ],
   "source": [
    "x*y"
   ]
  },
  {
   "cell_type": "code",
   "execution_count": 153,
   "id": "c56c432e",
   "metadata": {},
   "outputs": [
    {
     "data": {
      "text/plain": [
       "'16/15'"
      ]
     },
     "execution_count": 153,
     "metadata": {},
     "output_type": "execute_result"
    }
   ],
   "source": [
    "x/y"
   ]
  },
  {
   "cell_type": "markdown",
   "id": "e6e90037",
   "metadata": {},
   "source": [
    "<h1 style=\"font-size:30px; color: blue\">magic methods</h1>"
   ]
  },
  {
   "cell_type": "markdown",
   "id": "74a2c5bb",
   "metadata": {},
   "source": [
    "### not call by object"
   ]
  },
  {
   "cell_type": "code",
   "execution_count": 1,
   "id": "f8c392d2",
   "metadata": {},
   "outputs": [],
   "source": [
    "# __init__ --> this is a constructor which call's when we create object of class.\n",
    "# we create variable of class in this."
   ]
  },
  {
   "cell_type": "code",
   "execution_count": 2,
   "id": "c90e589a",
   "metadata": {},
   "outputs": [],
   "source": [
    "# __str__ --> when your class name will written inside print function then in that case __str__ will automatically call."
   ]
  },
  {
   "cell_type": "code",
   "execution_count": 3,
   "id": "27d299e0",
   "metadata": {},
   "outputs": [],
   "source": [
    "# __add__ --> when you add '+' sign in b/w your objects this function automatically call."
   ]
  },
  {
   "cell_type": "markdown",
   "id": "26d45000",
   "metadata": {},
   "source": [
    "<h1 style=\"font-size:30px; color: blue\">self</h1>"
   ]
  },
  {
   "cell_type": "code",
   "execution_count": 154,
   "id": "3f133668",
   "metadata": {},
   "outputs": [
    {
     "name": "stdout",
     "output_type": "stream",
     "text": [
      "140262829724432\n",
      "\n",
      "        Hello how would you like to procced?\n",
      "        1.Enter 1 to create pin\n",
      "        2.Enter 2 to deposit\n",
      "        3.Enter 3 to Withdraw\n",
      "        4.Enter 4 to check balance\n",
      "        5.Enter 5 to exit\n",
      "        \n",
      "bye\n"
     ]
    }
   ],
   "source": [
    "pnb = Atm() # self contains the reference of current object in the class"
   ]
  },
  {
   "cell_type": "code",
   "execution_count": 155,
   "id": "72db52af",
   "metadata": {},
   "outputs": [
    {
     "data": {
      "text/plain": [
       "140262829724432"
      ]
     },
     "execution_count": 155,
     "metadata": {},
     "output_type": "execute_result"
    }
   ],
   "source": [
    "id(pnb)"
   ]
  },
  {
   "cell_type": "markdown",
   "id": "aff2835c",
   "metadata": {},
   "source": [
    "<h1 style=\"font-size:30px; color: blue\">instance variable</h1>"
   ]
  },
  {
   "cell_type": "raw",
   "id": "7734c4e5",
   "metadata": {},
   "source": [
    "# 1.Those are defined inside the constructor.\n",
    "# ex:-\n",
    "     def __init__(self):\n",
    "         self.pin = \"\"\n",
    "         self.balance=0\n",
    "\n",
    "# 2.Every object have different instance variable. \n"
   ]
  },
  {
   "cell_type": "markdown",
   "id": "4dea98fc",
   "metadata": {},
   "source": [
    "<h1 style=\"font-size:50px; color: blue\">Encapsulation</h1>"
   ]
  },
  {
   "cell_type": "markdown",
   "id": "6147a8ee",
   "metadata": {},
   "source": [
    "<p style=\"font-size:15px\">Encapsulation in Python is a principle of object-oriented programming (OOP) that involves bundling data and methods together within a class, and controlling the access to that data and methods from outside the class. It allows for data hiding and provides a way to protect the internal implementation of a class.\n",
    "\n",
    "</p>"
   ]
  },
  {
   "cell_type": "code",
   "execution_count": 4,
   "id": "de3ae16f",
   "metadata": {},
   "outputs": [],
   "source": [
    "# To make variable private  you will add __ in front of variable\n",
    "# ex:-\n",
    "#    self.__pin=\"\"\n",
    "#    self.__balance=0\n",
    "    \n",
    "# At the time of execution the __pin will convert into _Atm__pin.\n",
    "# That means nothing is truly private in python.\n"
   ]
  },
  {
   "cell_type": "code",
   "execution_count": 156,
   "id": "6dd87910",
   "metadata": {},
   "outputs": [
    {
     "name": "stdout",
     "output_type": "stream",
     "text": [
      "ABC\n"
     ]
    }
   ],
   "source": [
    "# This is the example of nothing is truly private in python.\n",
    "class A:\n",
    "    def __init__(self):\n",
    "        self.__pin=\"\"\n",
    "        self.__balance=0\n",
    "    \n",
    "    def check_balance(self):\n",
    "        print(self.__balance)\n",
    "\n",
    "sbi = A()\n",
    "sbi._A__balance = \"ABC\"\n",
    "sbi.check_balance()"
   ]
  },
  {
   "cell_type": "markdown",
   "id": "0979dafe",
   "metadata": {},
   "source": [
    "<h1 style=\"font-size:30px; color: blue\">getter and setter methods</h1>"
   ]
  },
  {
   "cell_type": "code",
   "execution_count": 157,
   "id": "503dbe5d",
   "metadata": {},
   "outputs": [
    {
     "name": "stdout",
     "output_type": "stream",
     "text": [
      "None\n",
      "Invalid Pin\n",
      "None\n"
     ]
    }
   ],
   "source": [
    "class A:\n",
    "    def __init__(self):\n",
    "        self.__pin = \"None\"\n",
    "        self.__balance=0\n",
    "    def get_pin(self):\n",
    "        return self.__pin\n",
    "    def set_pin(self,new_pin):\n",
    "        if type(new_pin)==str:     # now i can validate\n",
    "            self.__pin = new_pin\n",
    "            print(\"Pin Changed\")\n",
    "        else:\n",
    "            print(\"Invalid Pin\")\n",
    "     \n",
    "\n",
    "    \n",
    "sbi = A()\n",
    "print(sbi.get_pin())\n",
    "sbi.set_pin(200)\n",
    "print(sbi.get_pin())"
   ]
  },
  {
   "cell_type": "markdown",
   "id": "944b2d7b",
   "metadata": {},
   "source": [
    "<h1 style=\"font-size:30px; color: blue\">refrence variable</h1>"
   ]
  },
  {
   "cell_type": "code",
   "execution_count": 158,
   "id": "f3d2508b",
   "metadata": {},
   "outputs": [
    {
     "name": "stdout",
     "output_type": "stream",
     "text": [
      "140262491217200\n",
      "\n",
      "        Hello how would you like to procced?\n",
      "        1.Enter 1 to create pin\n",
      "        2.Enter 2 to deposit\n",
      "        3.Enter 3 to Withdraw\n",
      "        4.Enter 4 to check balance\n",
      "        5.Enter 5 to exit\n",
      "        \n",
      "bye\n"
     ]
    }
   ],
   "source": [
    "a = Atm()"
   ]
  },
  {
   "cell_type": "code",
   "execution_count": 159,
   "id": "acb8a502",
   "metadata": {},
   "outputs": [
    {
     "name": "stdout",
     "output_type": "stream",
     "text": [
      "140262491216288\n",
      "\n",
      "        Hello how would you like to procced?\n",
      "        1.Enter 1 to create pin\n",
      "        2.Enter 2 to deposit\n",
      "        3.Enter 3 to Withdraw\n",
      "        4.Enter 4 to check balance\n",
      "        5.Enter 5 to exit\n",
      "        \n",
      "bye\n"
     ]
    },
    {
     "data": {
      "text/plain": [
       "<__main__.Atm at 0x7f9167f6d9a0>"
      ]
     },
     "execution_count": 159,
     "metadata": {},
     "output_type": "execute_result"
    }
   ],
   "source": [
    "Atm() ## this is the object"
   ]
  },
  {
   "cell_type": "code",
   "execution_count": 160,
   "id": "bb28115d",
   "metadata": {},
   "outputs": [
    {
     "data": {
      "text/plain": [
       "0"
      ]
     },
     "execution_count": 160,
     "metadata": {},
     "output_type": "execute_result"
    }
   ],
   "source": [
    "a.balance ## Here a is the reference variable"
   ]
  },
  {
   "cell_type": "markdown",
   "id": "41cfde91",
   "metadata": {},
   "source": [
    "<h1 style=\"font-size:30px; color: blue\">Pass-By-reference</h1>"
   ]
  },
  {
   "cell_type": "code",
   "execution_count": 161,
   "id": "1b56d628",
   "metadata": {},
   "outputs": [
    {
     "name": "stdout",
     "output_type": "stream",
     "text": [
      "Hello tushar Sir\n"
     ]
    }
   ],
   "source": [
    "class Customer:\n",
    "    def __init__(self,name,gender):\n",
    "        self.name = name\n",
    "        self.gender = gender\n",
    "        \n",
    "def greet(customer):\n",
    "    if customer.gender == \"Male\":\n",
    "        print(\"Hello\",customer.name,\"Sir\")\n",
    "    else:\n",
    "        print(\"Hello\",customer.name,\"Ma'am\")\n",
    "        \n",
    "cust = Customer(\"tushar\",\"Male\")\n",
    "greet(cust)"
   ]
  },
  {
   "cell_type": "code",
   "execution_count": 162,
   "id": "ca3c5764",
   "metadata": {},
   "outputs": [
    {
     "name": "stdout",
     "output_type": "stream",
     "text": [
      "Hello Rupali Ma'am\n"
     ]
    }
   ],
   "source": [
    "cust = Customer(\"Rupali\",\"Female\")\n",
    "greet(cust)"
   ]
  },
  {
   "cell_type": "markdown",
   "id": "8c82773f",
   "metadata": {},
   "source": [
    "<h1 style=\"font-size:30px; color: blue\">Collection of objects</h1>"
   ]
  },
  {
   "cell_type": "code",
   "execution_count": 163,
   "id": "51f61d01",
   "metadata": {},
   "outputs": [
    {
     "name": "stdout",
     "output_type": "stream",
     "text": [
      "<__main__.Customer object at 0x7f9167f6da30>\n",
      "<__main__.Customer object at 0x7f9167f6dca0>\n",
      "<__main__.Customer object at 0x7f9167f6da00>\n"
     ]
    }
   ],
   "source": [
    "class Customer:\n",
    "    def __init__(self,name,age):\n",
    "        self.name = name\n",
    "        self.age = age\n",
    "        \n",
    "c1 = Customer(\"Tushar\",20)\n",
    "c2 = Customer(\"Ankit\",45)\n",
    "c3 = Customer(\"Neha\",32)\n",
    "\n",
    "L = [c1,c2,c3]\n",
    "\n",
    "for i in L:\n",
    "    print(i)"
   ]
  },
  {
   "cell_type": "code",
   "execution_count": 164,
   "id": "2d5b46a7",
   "metadata": {},
   "outputs": [
    {
     "name": "stdout",
     "output_type": "stream",
     "text": [
      "Tushar\n",
      "Ankit\n",
      "Neha\n"
     ]
    }
   ],
   "source": [
    "for i in L:\n",
    "    print(i.name)"
   ]
  },
  {
   "cell_type": "code",
   "execution_count": 165,
   "id": "ccb9ff02",
   "metadata": {},
   "outputs": [
    {
     "name": "stdout",
     "output_type": "stream",
     "text": [
      "20\n",
      "45\n",
      "32\n"
     ]
    }
   ],
   "source": [
    "for i in L:\n",
    "    print(i.age)"
   ]
  },
  {
   "cell_type": "markdown",
   "id": "1c9a083a",
   "metadata": {},
   "source": [
    "<h1 style=\"font-size:30px; color: blue\">static</h1>"
   ]
  },
  {
   "cell_type": "markdown",
   "id": "3656ac39",
   "metadata": {},
   "source": [
    "<h1 style=\"font-size:25px; color: #E48400\">static variable</h1>"
   ]
  },
  {
   "cell_type": "code",
   "execution_count": 166,
   "id": "faaf2691",
   "metadata": {},
   "outputs": [],
   "source": [
    "# static variable or class variable created outside the constructor\n",
    "class Atm:\n",
    "    counter = 1\n",
    "    def __init__(self):\n",
    "        self.sno = Atm.counter\n",
    "        Atm.counter += 1\n",
    "     \n",
    "    \n",
    "sbi = Atm()\n",
    "pnb = Atm()\n",
    "axis = Atm()"
   ]
  },
  {
   "cell_type": "code",
   "execution_count": 167,
   "id": "561f316b",
   "metadata": {},
   "outputs": [
    {
     "data": {
      "text/plain": [
       "1"
      ]
     },
     "execution_count": 167,
     "metadata": {},
     "output_type": "execute_result"
    }
   ],
   "source": [
    "sbi.sno"
   ]
  },
  {
   "cell_type": "code",
   "execution_count": 168,
   "id": "870a12bf",
   "metadata": {},
   "outputs": [
    {
     "data": {
      "text/plain": [
       "2"
      ]
     },
     "execution_count": 168,
     "metadata": {},
     "output_type": "execute_result"
    }
   ],
   "source": [
    "pnb.sno"
   ]
  },
  {
   "cell_type": "code",
   "execution_count": 169,
   "id": "e3625ec9",
   "metadata": {},
   "outputs": [
    {
     "data": {
      "text/plain": [
       "3"
      ]
     },
     "execution_count": 169,
     "metadata": {},
     "output_type": "execute_result"
    }
   ],
   "source": [
    "axis.sno"
   ]
  },
  {
   "cell_type": "markdown",
   "id": "db7e5772",
   "metadata": {},
   "source": [
    "<h1 style=\"font-size:25px; color: #E48400\">static methods</h1>"
   ]
  },
  {
   "cell_type": "markdown",
   "id": "0697df1f",
   "metadata": {},
   "source": [
    "### static method where you not take any 'self' argument"
   ]
  },
  {
   "cell_type": "code",
   "execution_count": 170,
   "id": "fa93c00c",
   "metadata": {},
   "outputs": [
    {
     "data": {
      "text/plain": [
       "2"
      ]
     },
     "execution_count": 170,
     "metadata": {},
     "output_type": "execute_result"
    }
   ],
   "source": [
    "class Atm:\n",
    "    counter = 1\n",
    "    def __init__(self):\n",
    "        self.sno = Atm.counter\n",
    "        Atm.counter += 1\n",
    "    \n",
    "    @staticmethod\n",
    "    def get_counter():\n",
    "        return Atm.counter\n",
    "    \n",
    "sbi = Atm()\n",
    "Atm.get_counter()"
   ]
  },
  {
   "cell_type": "code",
   "execution_count": 5,
   "id": "0269b1a2",
   "metadata": {},
   "outputs": [],
   "source": [
    "# There are two type relationship between classes :- \n",
    "\n",
    "# 1. Aggregation (Has-a relationship)\n",
    "#  ex:-\n",
    "#    customer has address\n",
    "\n",
    "# 2. Inheritance (is-a relationship)"
   ]
  },
  {
   "cell_type": "markdown",
   "id": "ecb3a38e",
   "metadata": {},
   "source": [
    "<h1 style=\"font-size:30px; color: blue\">Aggregation</h1>"
   ]
  },
  {
   "cell_type": "code",
   "execution_count": 171,
   "id": "e30dd002",
   "metadata": {},
   "outputs": [],
   "source": [
    "class Address:\n",
    "    def __init__(self,city,pincode,state):\n",
    "        self.city = city\n",
    "        self.pincode = pincode\n",
    "        self.state = state\n",
    "        \n",
    "\n",
    "class Customer:\n",
    "    def __init__(self,name,gender,address):\n",
    "        self.name = name\n",
    "        self.gender = gender\n",
    "        self.address = address"
   ]
  },
  {
   "cell_type": "code",
   "execution_count": 172,
   "id": "443ae33a",
   "metadata": {},
   "outputs": [],
   "source": [
    "add = Address(\"Agra\",22016,\"UP\")\n",
    "cust = Customer(\"tushar\",\"Male\",add)"
   ]
  },
  {
   "cell_type": "code",
   "execution_count": 173,
   "id": "955769c6",
   "metadata": {},
   "outputs": [
    {
     "name": "stdout",
     "output_type": "stream",
     "text": [
      "<__main__.Address object at 0x7f9167f42070>\n"
     ]
    }
   ],
   "source": [
    "print(cust.address)"
   ]
  },
  {
   "cell_type": "code",
   "execution_count": 174,
   "id": "8ccc7096",
   "metadata": {},
   "outputs": [
    {
     "name": "stdout",
     "output_type": "stream",
     "text": [
      "Agra\n"
     ]
    }
   ],
   "source": [
    "print(cust.address.city)"
   ]
  },
  {
   "cell_type": "code",
   "execution_count": 175,
   "id": "521ef697",
   "metadata": {},
   "outputs": [
    {
     "name": "stdout",
     "output_type": "stream",
     "text": [
      "22016\n"
     ]
    }
   ],
   "source": [
    "print(cust.address.pincode)"
   ]
  },
  {
   "cell_type": "markdown",
   "id": "67e30094",
   "metadata": {},
   "source": [
    "<h1 style=\"font-size:30px; color: blue\">Inheritance</h1>"
   ]
  },
  {
   "cell_type": "markdown",
   "id": "d3292651",
   "metadata": {},
   "source": [
    "<p style=\"font-size:15px\">\n",
    "Inheritance is an important concept in object-oriented programming (OOP) that allows you to create new classes based on existing classes. In Python, inheritance is implemented using the concept of \"class inheritance\" or \"subclassing.\"\n",
    "\n",
    "When a class inherits from another class, it is called a subclass or derived class, and the class being inherited from is called the superclass or base class. The subclass inherits the attributes (variables) and methods of the superclass, allowing it to reuse or extend the functionality defined in the superclass.</p>"
   ]
  },
  {
   "cell_type": "code",
   "execution_count": 176,
   "id": "1fd458f3",
   "metadata": {},
   "outputs": [],
   "source": [
    "class Superclass:\n",
    "    pass\n",
    "    # Superclass attributes and methods\n",
    "\n",
    "class Subclass(Superclass):\n",
    "    pass\n",
    "    # Subclass attributes and methods"
   ]
  },
  {
   "cell_type": "code",
   "execution_count": 177,
   "id": "72939f88",
   "metadata": {},
   "outputs": [
    {
     "name": "stdout",
     "output_type": "stream",
     "text": [
      "Login\n",
      "Register\n",
      "enroll\n",
      "Review\n"
     ]
    }
   ],
   "source": [
    "class User:\n",
    "    \n",
    "    def login(self):\n",
    "        print(\"Login\")\n",
    "    def register(self):\n",
    "        print(\"Register\")\n",
    "        \n",
    "class Student(User):\n",
    "    def enroll(self):\n",
    "        print(\"enroll\")\n",
    "     \n",
    "    def review(self):\n",
    "        print(\"Review\")\n",
    "        \n",
    "a = Student()\n",
    "a.login()\n",
    "a.register()\n",
    "a.enroll()\n",
    "a.review()"
   ]
  },
  {
   "cell_type": "markdown",
   "id": "090cca9b",
   "metadata": {},
   "source": [
    "<h1 style=\"font-size:25px; color: #E48400\">constructor inheritance</h1>"
   ]
  },
  {
   "cell_type": "code",
   "execution_count": 180,
   "id": "eff763e8",
   "metadata": {},
   "outputs": [],
   "source": [
    "class Phone:\n",
    "    def __init__(self,price,brand,camera):\n",
    "        print(\"Inside phone constructor\")\n",
    "        self.price = price\n",
    "        self.brand = brand\n",
    "        self.camera = camera\n",
    "        \n",
    "    def buy(self):\n",
    "        print(\"Buying a phone\")\n",
    "        \n",
    "    def return_phone(self):\n",
    "        print(\"Returning a phone\")\n",
    "        \n",
    "\n",
    "class FeaturePhone(Phone):\n",
    "    pass\n",
    "\n",
    "class SmartPhone(Phone):\n",
    "    pass"
   ]
  },
  {
   "cell_type": "code",
   "execution_count": 182,
   "id": "970a2b6e",
   "metadata": {},
   "outputs": [
    {
     "name": "stdout",
     "output_type": "stream",
     "text": [
      "Inside phone constructor\n",
      "Apple\n"
     ]
    }
   ],
   "source": [
    "s = SmartPhone(20000,\"Apple\",13)\n",
    "print(s.brand)"
   ]
  },
  {
   "cell_type": "code",
   "execution_count": 183,
   "id": "af2e35c7",
   "metadata": {},
   "outputs": [],
   "source": [
    "class Phone:\n",
    "    def __init__(self,price,brand,camera):\n",
    "        print(\"Inside phone constructor\")\n",
    "        self.price = price\n",
    "        self.__brand = brand\n",
    "        self.camera = camera\n",
    "        \n",
    "    def buy(self):\n",
    "        print(\"Buying a phone\")\n",
    "        \n",
    "    def return_phone(self):\n",
    "        print(\"Returning a phone\")\n",
    "        \n",
    "\n",
    "class FeaturePhone(Phone):\n",
    "    pass\n",
    "\n",
    "class SmartPhone(Phone):\n",
    "    pass"
   ]
  },
  {
   "cell_type": "code",
   "execution_count": 184,
   "id": "3a273e24",
   "metadata": {},
   "outputs": [
    {
     "name": "stdout",
     "output_type": "stream",
     "text": [
      "Inside phone constructor\n"
     ]
    },
    {
     "ename": "AttributeError",
     "evalue": "'SmartPhone' object has no attribute 'brand'",
     "output_type": "error",
     "traceback": [
      "\u001b[0;31m---------------------------------------------------------------------------\u001b[0m",
      "\u001b[0;31mAttributeError\u001b[0m                            Traceback (most recent call last)",
      "\u001b[0;32m/tmp/ipykernel_73124/1241942814.py\u001b[0m in \u001b[0;36m<module>\u001b[0;34m\u001b[0m\n\u001b[1;32m      1\u001b[0m \u001b[0ms\u001b[0m \u001b[0;34m=\u001b[0m \u001b[0mSmartPhone\u001b[0m\u001b[0;34m(\u001b[0m\u001b[0;36m20000\u001b[0m\u001b[0;34m,\u001b[0m\u001b[0;34m\"Apple\"\u001b[0m\u001b[0;34m,\u001b[0m\u001b[0;36m13\u001b[0m\u001b[0;34m)\u001b[0m\u001b[0;34m\u001b[0m\u001b[0;34m\u001b[0m\u001b[0m\n\u001b[0;32m----> 2\u001b[0;31m \u001b[0mprint\u001b[0m\u001b[0;34m(\u001b[0m\u001b[0ms\u001b[0m\u001b[0;34m.\u001b[0m\u001b[0mbrand\u001b[0m\u001b[0;34m)\u001b[0m\u001b[0;34m\u001b[0m\u001b[0;34m\u001b[0m\u001b[0m\n\u001b[0m",
      "\u001b[0;31mAttributeError\u001b[0m: 'SmartPhone' object has no attribute 'brand'"
     ]
    }
   ],
   "source": [
    "s = SmartPhone(20000,\"Apple\",13)\n",
    "print(s.brand) ## because brand is private data member"
   ]
  },
  {
   "cell_type": "markdown",
   "id": "c26b19d4",
   "metadata": {},
   "source": [
    "<h1 style=\"font-size:30px; color: blue\">Polymorphism</h1>"
   ]
  },
  {
   "cell_type": "markdown",
   "id": "4d5d5f02",
   "metadata": {},
   "source": [
    "<h1 style=\"font-size:25px; color: #E48400\">method overriding</h1>"
   ]
  },
  {
   "cell_type": "code",
   "execution_count": 191,
   "id": "0a8f6297",
   "metadata": {},
   "outputs": [],
   "source": [
    "# same name function in both the classes child class and super class"
   ]
  },
  {
   "cell_type": "code",
   "execution_count": 192,
   "id": "9269a5a0",
   "metadata": {},
   "outputs": [],
   "source": [
    "class Phone:\n",
    "    def __init__(self,price,brand,camera):\n",
    "        print(\"Inside phone constructor\")\n",
    "        self.price = price\n",
    "        self.__brand = brand\n",
    "        self.camera = camera\n",
    "        \n",
    "    def buy(self):\n",
    "        print(\"Buying a phone\")\n",
    "        \n",
    "\n",
    "\n",
    "class SmartPhone(Phone):\n",
    "    def buy(self):\n",
    "        print(\"Buying a SmartPhone\")"
   ]
  },
  {
   "cell_type": "code",
   "execution_count": 193,
   "id": "cc32fcd9",
   "metadata": {},
   "outputs": [
    {
     "name": "stdout",
     "output_type": "stream",
     "text": [
      "Inside phone constructor\n",
      "Buying a SmartPhone\n"
     ]
    }
   ],
   "source": [
    "a = SmartPhone(200,\"apple\",\"20px\")\n",
    "a.buy()"
   ]
  },
  {
   "cell_type": "code",
   "execution_count": 198,
   "id": "37c2947e",
   "metadata": {},
   "outputs": [],
   "source": [
    "class Parent:\n",
    "    def __init__(self,num):\n",
    "        self.__num = num\n",
    "        \n",
    "    def get_num(self):\n",
    "        return self.__num\n",
    "    \n",
    "class Child(Parent):\n",
    "    \n",
    "    def __init__(self,val,num):\n",
    "        self.val = val\n",
    "        \n",
    "    def get_val(self):\n",
    "        return self.__val"
   ]
  },
  {
   "cell_type": "code",
   "execution_count": 203,
   "id": "80d2a0c9",
   "metadata": {},
   "outputs": [
    {
     "ename": "AttributeError",
     "evalue": "'Child' object has no attribute '_Parent__num'",
     "output_type": "error",
     "traceback": [
      "\u001b[0;31m---------------------------------------------------------------------------\u001b[0m",
      "\u001b[0;31mAttributeError\u001b[0m                            Traceback (most recent call last)",
      "\u001b[0;32m/tmp/ipykernel_73124/2819949462.py\u001b[0m in \u001b[0;36m<module>\u001b[0;34m\u001b[0m\n\u001b[1;32m      1\u001b[0m \u001b[0mson\u001b[0m \u001b[0;34m=\u001b[0m \u001b[0mChild\u001b[0m\u001b[0;34m(\u001b[0m\u001b[0;36m100\u001b[0m\u001b[0;34m,\u001b[0m\u001b[0;36m10\u001b[0m\u001b[0;34m)\u001b[0m\u001b[0;34m\u001b[0m\u001b[0;34m\u001b[0m\u001b[0m\n\u001b[0;32m----> 2\u001b[0;31m \u001b[0mprint\u001b[0m\u001b[0;34m(\u001b[0m\u001b[0;34m\"Parent Num\"\u001b[0m\u001b[0;34m,\u001b[0m\u001b[0mson\u001b[0m\u001b[0;34m.\u001b[0m\u001b[0mget_num\u001b[0m\u001b[0;34m(\u001b[0m\u001b[0;34m)\u001b[0m\u001b[0;34m)\u001b[0m \u001b[0;31m# error because child have its own constructor thats why parent constructor not invoke and __num variable not define\u001b[0m\u001b[0;34m\u001b[0m\u001b[0;34m\u001b[0m\u001b[0m\n\u001b[0m\u001b[1;32m      3\u001b[0m \u001b[0mprint\u001b[0m\u001b[0;34m(\u001b[0m\u001b[0;34m\"Child Val\"\u001b[0m\u001b[0;34m,\u001b[0m\u001b[0mson\u001b[0m\u001b[0;34m.\u001b[0m\u001b[0mget_val\u001b[0m\u001b[0;34m(\u001b[0m\u001b[0;34m)\u001b[0m\u001b[0;34m)\u001b[0m\u001b[0;34m\u001b[0m\u001b[0;34m\u001b[0m\u001b[0m\n",
      "\u001b[0;32m/tmp/ipykernel_73124/379252044.py\u001b[0m in \u001b[0;36mget_num\u001b[0;34m(self)\u001b[0m\n\u001b[1;32m      4\u001b[0m \u001b[0;34m\u001b[0m\u001b[0m\n\u001b[1;32m      5\u001b[0m     \u001b[0;32mdef\u001b[0m \u001b[0mget_num\u001b[0m\u001b[0;34m(\u001b[0m\u001b[0mself\u001b[0m\u001b[0;34m)\u001b[0m\u001b[0;34m:\u001b[0m\u001b[0;34m\u001b[0m\u001b[0;34m\u001b[0m\u001b[0m\n\u001b[0;32m----> 6\u001b[0;31m         \u001b[0;32mreturn\u001b[0m \u001b[0mself\u001b[0m\u001b[0;34m.\u001b[0m\u001b[0m__num\u001b[0m\u001b[0;34m\u001b[0m\u001b[0;34m\u001b[0m\u001b[0m\n\u001b[0m\u001b[1;32m      7\u001b[0m \u001b[0;34m\u001b[0m\u001b[0m\n\u001b[1;32m      8\u001b[0m \u001b[0;32mclass\u001b[0m \u001b[0mChild\u001b[0m\u001b[0;34m(\u001b[0m\u001b[0mParent\u001b[0m\u001b[0;34m)\u001b[0m\u001b[0;34m:\u001b[0m\u001b[0;34m\u001b[0m\u001b[0;34m\u001b[0m\u001b[0m\n",
      "\u001b[0;31mAttributeError\u001b[0m: 'Child' object has no attribute '_Parent__num'"
     ]
    }
   ],
   "source": [
    "son = Child(100,10)\n",
    "print(\"Parent Num\",son.get_num()) # error because child have its own constructor thats why parent constructor not invoke and __num variable not define\n",
    "print(\"Child Val\",son.get_val())"
   ]
  },
  {
   "cell_type": "code",
   "execution_count": 204,
   "id": "7e781453",
   "metadata": {},
   "outputs": [],
   "source": [
    "# that means if child has its constructor then in that case parent constructor will not invoked.\n",
    "# parent constructor only invoked if child not has it's own constructor."
   ]
  },
  {
   "cell_type": "markdown",
   "id": "d67cb5cd",
   "metadata": {},
   "source": [
    "<h1 style=\"font-size:25px; color: #E48400\">method overloading</h1>"
   ]
  },
  {
   "cell_type": "code",
   "execution_count": 230,
   "id": "5fb314d2",
   "metadata": {
    "scrolled": true
   },
   "outputs": [
    {
     "ename": "TypeError",
     "evalue": "area() missing 1 required positional argument: 'b'",
     "output_type": "error",
     "traceback": [
      "\u001b[0;31m---------------------------------------------------------------------------\u001b[0m",
      "\u001b[0;31mTypeError\u001b[0m                                 Traceback (most recent call last)",
      "\u001b[0;32m/tmp/ipykernel_73124/3261731211.py\u001b[0m in \u001b[0;36m<module>\u001b[0;34m\u001b[0m\n\u001b[1;32m      7\u001b[0m \u001b[0;34m\u001b[0m\u001b[0m\n\u001b[1;32m      8\u001b[0m \u001b[0mobj\u001b[0m \u001b[0;34m=\u001b[0m \u001b[0mGeometry\u001b[0m\u001b[0;34m(\u001b[0m\u001b[0;34m)\u001b[0m\u001b[0;34m\u001b[0m\u001b[0;34m\u001b[0m\u001b[0m\n\u001b[0;32m----> 9\u001b[0;31m \u001b[0mobj\u001b[0m\u001b[0;34m.\u001b[0m\u001b[0marea\u001b[0m\u001b[0;34m(\u001b[0m\u001b[0;36m4\u001b[0m\u001b[0;34m)\u001b[0m\u001b[0;34m\u001b[0m\u001b[0;34m\u001b[0m\u001b[0m\n\u001b[0m\u001b[1;32m     10\u001b[0m \u001b[0mobj\u001b[0m\u001b[0;34m.\u001b[0m\u001b[0marea\u001b[0m\u001b[0;34m(\u001b[0m\u001b[0;36m3\u001b[0m\u001b[0;34m,\u001b[0m\u001b[0;36m4\u001b[0m\u001b[0;34m)\u001b[0m\u001b[0;34m\u001b[0m\u001b[0;34m\u001b[0m\u001b[0m\n",
      "\u001b[0;31mTypeError\u001b[0m: area() missing 1 required positional argument: 'b'"
     ]
    }
   ],
   "source": [
    "class Geometry:\n",
    "    def area(self,radius):\n",
    "        return 3.14*radius*radius\n",
    "    \n",
    "    def area(self,l,b):\n",
    "        return l*b\n",
    "    \n",
    "obj = Geometry()\n",
    "obj.area(4)\n",
    "obj.area(3,4)"
   ]
  },
  {
   "cell_type": "markdown",
   "id": "d8dcc9d4",
   "metadata": {},
   "source": [
    "### if you will run this code in java it will run but python not have this concept but you can implement this using one trick"
   ]
  },
  {
   "cell_type": "code",
   "execution_count": 231,
   "id": "9dd7b9e6",
   "metadata": {},
   "outputs": [
    {
     "name": "stdout",
     "output_type": "stream",
     "text": [
      "Circle 50.24\n",
      "None\n"
     ]
    }
   ],
   "source": [
    "class Geometry:\n",
    "    def area(self,a,b=0):\n",
    "        if b==0:\n",
    "            print(\"Circle\",3.14*a*a)\n",
    "        else:\n",
    "            print(\"Rect\",a*b)\n",
    "            \n",
    "obj = Geometry()\n",
    "print(obj.area(4))"
   ]
  },
  {
   "cell_type": "markdown",
   "id": "6ec5e4e1",
   "metadata": {},
   "source": [
    "<h1 style=\"font-size:25px; color: #E48400\">Operator Overloading</h1>"
   ]
  },
  {
   "cell_type": "code",
   "execution_count": 232,
   "id": "81e93209",
   "metadata": {},
   "outputs": [
    {
     "name": "stdout",
     "output_type": "stream",
     "text": [
      "38/24\n"
     ]
    }
   ],
   "source": [
    "x = Fraction(3,4)\n",
    "y = Fraction(5,6)\n",
    "print(x+y)"
   ]
  },
  {
   "cell_type": "markdown",
   "id": "68fd907c",
   "metadata": {},
   "source": [
    "<h1 style=\"font-size:30px; color: blue\">super keyword</h1>"
   ]
  },
  {
   "cell_type": "code",
   "execution_count": 211,
   "id": "c7faa5c5",
   "metadata": {
    "scrolled": true
   },
   "outputs": [
    {
     "name": "stdout",
     "output_type": "stream",
     "text": [
      "Inside phone constructor\n",
      "Buying a smartphone\n",
      "Buying a phone\n"
     ]
    }
   ],
   "source": [
    "class Phone:\n",
    "    def __init__(self, price, brand, camera):\n",
    "        print (\"Inside phone constructor\")\n",
    "        self.__price = price\n",
    "        self.brand = brand\n",
    "        self.camera = camera\n",
    "\n",
    "    def buy(self):\n",
    "        print (\"Buying a phone\")\n",
    "\n",
    "class SmartPhone(Phone):\n",
    "    def buy(self):\n",
    "        print (\"Buying a smartphone\")\n",
    "        super().buy() \n",
    "     \n",
    "s=SmartPhone(20000, \"Apple\", 13)\n",
    "s.buy()"
   ]
  },
  {
   "cell_type": "code",
   "execution_count": 212,
   "id": "4b1d46e7",
   "metadata": {
    "scrolled": true
   },
   "outputs": [
    {
     "name": "stdout",
     "output_type": "stream",
     "text": [
      "Inside Phone constructor\n",
      "Inside SmartPhone constructor\n",
      "Android\n",
      "Samsung\n"
     ]
    }
   ],
   "source": [
    "class Phone:\n",
    "    def __init__(self,price,brand,camera):\n",
    "        print(\"Inside Phone constructor\")\n",
    "        self.__price = price\n",
    "        self.brand = brand\n",
    "        self.camera = camera\n",
    "        \n",
    "class SmartPhone(Phone):\n",
    "    def __init__(self,price,brand,camera,os,ram):\n",
    "        super().__init__(price,brand,camera)\n",
    "        self.os = os\n",
    "        self.ram = ram\n",
    "        print(\"Inside SmartPhone constructor\")\n",
    "        \n",
    "s = SmartPhone(20000,\"Samsung\",12,\"Android\",2)\n",
    "print(s.os)\n",
    "print(s.brand)"
   ]
  },
  {
   "cell_type": "code",
   "execution_count": 216,
   "id": "153236ca",
   "metadata": {},
   "outputs": [
    {
     "name": "stdout",
     "output_type": "stream",
     "text": [
      "100\n",
      "200\n"
     ]
    }
   ],
   "source": [
    "class Parent:\n",
    "    def __init__(self,num):\n",
    "        self.__num = num\n",
    "        \n",
    "    def get_num(self):\n",
    "        return self.__num\n",
    "    \n",
    "class Child(Parent):\n",
    "    \n",
    "    def __init__(self,num,val):\n",
    "        super().__init__(num)\n",
    "        self.__val = val\n",
    "        \n",
    "    def get_val(self):\n",
    "        return self.__val\n",
    "    \n",
    "    \n",
    "son = Child(100,200)\n",
    "print(son.get_num())\n",
    "print(son.get_val())"
   ]
  },
  {
   "cell_type": "code",
   "execution_count": 218,
   "id": "e52b86e4",
   "metadata": {},
   "outputs": [],
   "source": [
    "# super must be the first statement in your constructor otherwise it will not work"
   ]
  },
  {
   "cell_type": "markdown",
   "id": "d9554cb3",
   "metadata": {},
   "source": [
    "<h1 style=\"font-size:30px; color:blue\">Type of Inheritance</h1>"
   ]
  },
  {
   "cell_type": "raw",
   "id": "990cf3f5",
   "metadata": {},
   "source": [
    "1.single level\n",
    "2.multi-level\n",
    "3.hierarchical\n",
    "4.multiple\n",
    "5.hybrid "
   ]
  },
  {
   "cell_type": "markdown",
   "id": "42e37782",
   "metadata": {},
   "source": [
    "<h1 style=\"font-size:25px; color: #E48400\">Single level</h1>"
   ]
  },
  {
   "cell_type": "code",
   "execution_count": 221,
   "id": "f4426c49",
   "metadata": {},
   "outputs": [],
   "source": [
    "class Phone:\n",
    "    pass\n",
    "\n",
    "class SmartPhone(Phone):\n",
    "    pass"
   ]
  },
  {
   "cell_type": "markdown",
   "id": "3913e2fc",
   "metadata": {},
   "source": [
    "<h1 style=\"font-size:25px; color: #E48400\">Multi-level Inheritance</h1>"
   ]
  },
  {
   "cell_type": "code",
   "execution_count": 223,
   "id": "07907a06",
   "metadata": {},
   "outputs": [],
   "source": [
    "class Product:\n",
    "    pass\n",
    "\n",
    "class Phone(Product):\n",
    "    pass\n",
    "\n",
    "class SmartPhone(Phone):\n",
    "    pass"
   ]
  },
  {
   "cell_type": "markdown",
   "id": "7d7a28bf",
   "metadata": {},
   "source": [
    "<h1 style=\"font-size:25px; color: #E48400\">Hierarchical Inheritance</h1>"
   ]
  },
  {
   "cell_type": "code",
   "execution_count": 224,
   "id": "047650a9",
   "metadata": {},
   "outputs": [],
   "source": [
    "class Phone:\n",
    "    pass\n",
    "\n",
    "class Nokia(Phone):\n",
    "    pass\n",
    "\n",
    "class Samsung(Phone):\n",
    "    pass"
   ]
  },
  {
   "cell_type": "markdown",
   "id": "d0c606e1",
   "metadata": {},
   "source": [
    "<h1 style=\"font-size:25px; color: #E48400\">Multiple Inheritance</h1>"
   ]
  },
  {
   "cell_type": "code",
   "execution_count": 229,
   "id": "951264dc",
   "metadata": {},
   "outputs": [],
   "source": [
    "class Phone:\n",
    "    pass\n",
    "\n",
    "class Product:\n",
    "    pass\n",
    "\n",
    "class SmartPhone(Phone,Product):\n",
    "    pass\n",
    "\n",
    "# in which order you will inherite that will define the priority --> That is called MRO"
   ]
  },
  {
   "cell_type": "code",
   "execution_count": 238,
   "id": "29ca994a",
   "metadata": {},
   "outputs": [],
   "source": []
  }
 ],
 "metadata": {
  "kernelspec": {
   "display_name": "Python 3 (ipykernel)",
   "language": "python",
   "name": "python3"
  },
  "language_info": {
   "codemirror_mode": {
    "name": "ipython",
    "version": 3
   },
   "file_extension": ".py",
   "mimetype": "text/x-python",
   "name": "python",
   "nbconvert_exporter": "python",
   "pygments_lexer": "ipython3",
   "version": "3.9.13"
  }
 },
 "nbformat": 4,
 "nbformat_minor": 5
}
