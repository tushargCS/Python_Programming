{
 "cells": [
  {
   "cell_type": "markdown",
   "id": "03ea1579",
   "metadata": {},
   "source": [
    "<h1 style=\"font-size:50px; color:red\">Variables</h1>"
   ]
  },
  {
   "cell_type": "code",
   "execution_count": 2,
   "id": "730bb70c",
   "metadata": {},
   "outputs": [],
   "source": [
    "name='tushar'"
   ]
  },
  {
   "cell_type": "code",
   "execution_count": 3,
   "id": "f54aa66c",
   "metadata": {},
   "outputs": [
    {
     "data": {
      "text/plain": [
       "'tushar'"
      ]
     },
     "execution_count": 3,
     "metadata": {},
     "output_type": "execute_result"
    }
   ],
   "source": [
    "name"
   ]
  },
  {
   "cell_type": "code",
   "execution_count": 4,
   "id": "9885a1f4",
   "metadata": {},
   "outputs": [],
   "source": [
    "a=10"
   ]
  },
  {
   "cell_type": "code",
   "execution_count": 5,
   "id": "9e9404a6",
   "metadata": {},
   "outputs": [
    {
     "data": {
      "text/plain": [
       "10"
      ]
     },
     "execution_count": 5,
     "metadata": {},
     "output_type": "execute_result"
    }
   ],
   "source": [
    "a"
   ]
  },
  {
   "cell_type": "code",
   "execution_count": 6,
   "id": "79cd5326",
   "metadata": {},
   "outputs": [],
   "source": [
    "b=4.5"
   ]
  },
  {
   "cell_type": "code",
   "execution_count": 7,
   "id": "76043e28",
   "metadata": {},
   "outputs": [
    {
     "data": {
      "text/plain": [
       "4.5"
      ]
     },
     "execution_count": 7,
     "metadata": {},
     "output_type": "execute_result"
    }
   ],
   "source": [
    "b"
   ]
  },
  {
   "cell_type": "markdown",
   "id": "3077fc54",
   "metadata": {},
   "source": [
    "### Note** No concept of variable declaration in python"
   ]
  },
  {
   "cell_type": "markdown",
   "id": "bcfad7b9",
   "metadata": {},
   "source": [
    "<h1 style=\"font-size:30px; color:blue\">Dynamic Typing</h1>"
   ]
  },
  {
   "cell_type": "markdown",
   "id": "ede75472",
   "metadata": {},
   "source": [
    "### where you not need to do the variable declaration"
   ]
  },
  {
   "cell_type": "markdown",
   "id": "2e9cbaae",
   "metadata": {},
   "source": [
    "<h1 style=\"font-size:30px; color:blue\">Static Typing</h1>"
   ]
  },
  {
   "cell_type": "markdown",
   "id": "feb80233",
   "metadata": {},
   "source": [
    "### where you need to do the variable declaration"
   ]
  },
  {
   "cell_type": "markdown",
   "id": "a9471327",
   "metadata": {},
   "source": [
    "<h1 style=\"font-size:30px; color:blue\">Dynamic Binding</h1>"
   ]
  },
  {
   "cell_type": "code",
   "execution_count": 16,
   "id": "0194c20b",
   "metadata": {},
   "outputs": [],
   "source": [
    "name=\"tushar\""
   ]
  },
  {
   "cell_type": "code",
   "execution_count": 17,
   "id": "b1b2f6a5",
   "metadata": {},
   "outputs": [
    {
     "data": {
      "text/plain": [
       "'tushar'"
      ]
     },
     "execution_count": 17,
     "metadata": {},
     "output_type": "execute_result"
    }
   ],
   "source": [
    "name"
   ]
  },
  {
   "cell_type": "code",
   "execution_count": 18,
   "id": "d47929b7",
   "metadata": {},
   "outputs": [],
   "source": [
    "name=4"
   ]
  },
  {
   "cell_type": "code",
   "execution_count": 19,
   "id": "6e7b7480",
   "metadata": {},
   "outputs": [
    {
     "data": {
      "text/plain": [
       "4"
      ]
     },
     "execution_count": 19,
     "metadata": {},
     "output_type": "execute_result"
    }
   ],
   "source": [
    "name"
   ]
  },
  {
   "cell_type": "code",
   "execution_count": 20,
   "id": "6e57a00b",
   "metadata": {},
   "outputs": [],
   "source": [
    "name=True"
   ]
  },
  {
   "cell_type": "code",
   "execution_count": 21,
   "id": "ecf9eb41",
   "metadata": {},
   "outputs": [
    {
     "data": {
      "text/plain": [
       "True"
      ]
     },
     "execution_count": 21,
     "metadata": {},
     "output_type": "execute_result"
    }
   ],
   "source": [
    "name"
   ]
  },
  {
   "cell_type": "markdown",
   "id": "8bab7abe",
   "metadata": {},
   "source": [
    "### when you can store any kind of value(int, boolean, string) in same variable this is called Dynamic Binding"
   ]
  },
  {
   "cell_type": "markdown",
   "id": "ba84a75f",
   "metadata": {},
   "source": [
    "<h1 style=\"font-size:30px; color:blue\">Special syntax</h1>"
   ]
  },
  {
   "cell_type": "code",
   "execution_count": 24,
   "id": "ab39638e",
   "metadata": {},
   "outputs": [
    {
     "name": "stdout",
     "output_type": "stream",
     "text": [
      "5\n",
      "6\n",
      "7\n"
     ]
    }
   ],
   "source": [
    "a=5;b=6;c=7\n",
    "print(a)\n",
    "print(b)\n",
    "print(c)"
   ]
  },
  {
   "cell_type": "code",
   "execution_count": 25,
   "id": "b36eeb07",
   "metadata": {},
   "outputs": [],
   "source": [
    "a,b,c = 4,5,6"
   ]
  },
  {
   "cell_type": "code",
   "execution_count": 26,
   "id": "eeb5a052",
   "metadata": {},
   "outputs": [
    {
     "data": {
      "text/plain": [
       "4"
      ]
     },
     "execution_count": 26,
     "metadata": {},
     "output_type": "execute_result"
    }
   ],
   "source": [
    "a"
   ]
  },
  {
   "cell_type": "code",
   "execution_count": 27,
   "id": "2c48ebac",
   "metadata": {},
   "outputs": [
    {
     "data": {
      "text/plain": [
       "5"
      ]
     },
     "execution_count": 27,
     "metadata": {},
     "output_type": "execute_result"
    }
   ],
   "source": [
    "b"
   ]
  },
  {
   "cell_type": "code",
   "execution_count": 28,
   "id": "7232ad8f",
   "metadata": {},
   "outputs": [
    {
     "data": {
      "text/plain": [
       "6"
      ]
     },
     "execution_count": 28,
     "metadata": {},
     "output_type": "execute_result"
    }
   ],
   "source": [
    "c"
   ]
  },
  {
   "cell_type": "code",
   "execution_count": 30,
   "id": "6eb9388c",
   "metadata": {},
   "outputs": [],
   "source": [
    "a= b = c= 6"
   ]
  },
  {
   "cell_type": "code",
   "execution_count": 31,
   "id": "0063b4c4",
   "metadata": {},
   "outputs": [
    {
     "data": {
      "text/plain": [
       "6"
      ]
     },
     "execution_count": 31,
     "metadata": {},
     "output_type": "execute_result"
    }
   ],
   "source": [
    "a"
   ]
  },
  {
   "cell_type": "code",
   "execution_count": 32,
   "id": "c152e9a5",
   "metadata": {},
   "outputs": [
    {
     "data": {
      "text/plain": [
       "6"
      ]
     },
     "execution_count": 32,
     "metadata": {},
     "output_type": "execute_result"
    }
   ],
   "source": [
    "b"
   ]
  },
  {
   "cell_type": "code",
   "execution_count": 33,
   "id": "fe82f17a",
   "metadata": {},
   "outputs": [
    {
     "data": {
      "text/plain": [
       "6"
      ]
     },
     "execution_count": 33,
     "metadata": {},
     "output_type": "execute_result"
    }
   ],
   "source": [
    "c"
   ]
  },
  {
   "cell_type": "code",
   "execution_count": null,
   "id": "62649d8c",
   "metadata": {},
   "outputs": [],
   "source": []
  }
 ],
 "metadata": {
  "kernelspec": {
   "display_name": "Python 3 (ipykernel)",
   "language": "python",
   "name": "python3"
  },
  "language_info": {
   "codemirror_mode": {
    "name": "ipython",
    "version": 3
   },
   "file_extension": ".py",
   "mimetype": "text/x-python",
   "name": "python",
   "nbconvert_exporter": "python",
   "pygments_lexer": "ipython3",
   "version": "3.9.13"
  }
 },
 "nbformat": 4,
 "nbformat_minor": 5
}
