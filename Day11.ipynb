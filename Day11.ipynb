{
 "cells": [
  {
   "cell_type": "markdown",
   "id": "ed1facc1",
   "metadata": {},
   "source": [
    "<h1 style=\"font-size:50px; color:red\">Build-in-function</h1>"
   ]
  },
  {
   "cell_type": "markdown",
   "id": "591abff8",
   "metadata": {},
   "source": [
    "<h1 style=\"font-size:30px; color:blue\">1. print</h1>"
   ]
  },
  {
   "cell_type": "code",
   "execution_count": 1,
   "id": "3205ac2f",
   "metadata": {
    "scrolled": true
   },
   "outputs": [
    {
     "name": "stdout",
     "output_type": "stream",
     "text": [
      "Hi\n"
     ]
    }
   ],
   "source": [
    "print(\"Hi\")"
   ]
  },
  {
   "cell_type": "markdown",
   "id": "79e54297",
   "metadata": {},
   "source": [
    "<h1 style=\"font-size:30px; color:blue\">2. input</h1>"
   ]
  },
  {
   "cell_type": "markdown",
   "id": "61c825da",
   "metadata": {},
   "source": [
    "input(\"Enter your name: \")"
   ]
  },
  {
   "cell_type": "code",
   "execution_count": 2,
   "id": "6edc51a9",
   "metadata": {},
   "outputs": [
    {
     "name": "stdout",
     "output_type": "stream",
     "text": [
      "enter your name: \n"
     ]
    },
    {
     "data": {
      "text/plain": [
       "''"
      ]
     },
     "execution_count": 2,
     "metadata": {},
     "output_type": "execute_result"
    }
   ],
   "source": [
    "input(\"enter your name: \")"
   ]
  },
  {
   "cell_type": "markdown",
   "id": "0cdf52dd",
   "metadata": {},
   "source": [
    "<h1 style=\"font-size:30px; color:blue\">3. type</h1>"
   ]
  },
  {
   "cell_type": "code",
   "execution_count": 3,
   "id": "13c90b13",
   "metadata": {},
   "outputs": [
    {
     "data": {
      "text/plain": [
       "str"
      ]
     },
     "execution_count": 3,
     "metadata": {},
     "output_type": "execute_result"
    }
   ],
   "source": [
    "type(\"a\")"
   ]
  },
  {
   "cell_type": "markdown",
   "id": "d58f05f4",
   "metadata": {},
   "source": [
    "<h1 style=\"font-size:30px; color:blue\">4. Type conversion</h1>"
   ]
  },
  {
   "cell_type": "code",
   "execution_count": 4,
   "id": "892ebde7",
   "metadata": {},
   "outputs": [
    {
     "data": {
      "text/plain": [
       "1"
      ]
     },
     "execution_count": 4,
     "metadata": {},
     "output_type": "execute_result"
    }
   ],
   "source": [
    "int('1')"
   ]
  },
  {
   "cell_type": "markdown",
   "id": "e96c8818",
   "metadata": {},
   "source": [
    "<h1 style=\"font-size:30px; color:blue\">5.abs()</h1>"
   ]
  },
  {
   "cell_type": "code",
   "execution_count": 5,
   "id": "0602c917",
   "metadata": {},
   "outputs": [
    {
     "data": {
      "text/plain": [
       "1"
      ]
     },
     "execution_count": 5,
     "metadata": {},
     "output_type": "execute_result"
    }
   ],
   "source": [
    "abs(-1)"
   ]
  },
  {
   "cell_type": "markdown",
   "id": "95ce5cd5",
   "metadata": {},
   "source": [
    "<h1 style=\"font-size:30px; color:blue\">6. pow()</h1>"
   ]
  },
  {
   "cell_type": "code",
   "execution_count": 6,
   "id": "a7c11870",
   "metadata": {},
   "outputs": [
    {
     "data": {
      "text/plain": [
       "8"
      ]
     },
     "execution_count": 6,
     "metadata": {},
     "output_type": "execute_result"
    }
   ],
   "source": [
    "pow(2,3)"
   ]
  },
  {
   "cell_type": "markdown",
   "id": "51fc9620",
   "metadata": {},
   "source": [
    "<h1 style=\"font-size:30px; color:blue\">7. min/max</h1>"
   ]
  },
  {
   "cell_type": "code",
   "execution_count": 7,
   "id": "30627923",
   "metadata": {},
   "outputs": [
    {
     "data": {
      "text/plain": [
       "2"
      ]
     },
     "execution_count": 7,
     "metadata": {},
     "output_type": "execute_result"
    }
   ],
   "source": [
    "min(2,3)"
   ]
  },
  {
   "cell_type": "code",
   "execution_count": 8,
   "id": "85a0f5a1",
   "metadata": {},
   "outputs": [
    {
     "data": {
      "text/plain": [
       "3"
      ]
     },
     "execution_count": 8,
     "metadata": {},
     "output_type": "execute_result"
    }
   ],
   "source": [
    "max(2,3)"
   ]
  },
  {
   "cell_type": "code",
   "execution_count": 9,
   "id": "e8f6cd88",
   "metadata": {},
   "outputs": [
    {
     "data": {
      "text/plain": [
       "1"
      ]
     },
     "execution_count": 9,
     "metadata": {},
     "output_type": "execute_result"
    }
   ],
   "source": [
    "min([1,2,3,4])"
   ]
  },
  {
   "cell_type": "code",
   "execution_count": 10,
   "id": "d2cc91b2",
   "metadata": {},
   "outputs": [
    {
     "data": {
      "text/plain": [
       "4"
      ]
     },
     "execution_count": 10,
     "metadata": {},
     "output_type": "execute_result"
    }
   ],
   "source": [
    "max([1,2,3,4])"
   ]
  },
  {
   "cell_type": "code",
   "execution_count": 11,
   "id": "4c2db1aa",
   "metadata": {},
   "outputs": [
    {
     "data": {
      "text/plain": [
       "1"
      ]
     },
     "execution_count": 11,
     "metadata": {},
     "output_type": "execute_result"
    }
   ],
   "source": [
    "min({1,2,3,4})"
   ]
  },
  {
   "cell_type": "code",
   "execution_count": 12,
   "id": "7bf5a0ca",
   "metadata": {},
   "outputs": [
    {
     "data": {
      "text/plain": [
       "4"
      ]
     },
     "execution_count": 12,
     "metadata": {},
     "output_type": "execute_result"
    }
   ],
   "source": [
    "max((1,2,3,4))"
   ]
  },
  {
   "cell_type": "markdown",
   "id": "c775ad3b",
   "metadata": {},
   "source": [
    "<h1 style=\"font-size:30px; color:blue\">8. round()</h1>"
   ]
  },
  {
   "cell_type": "code",
   "execution_count": 13,
   "id": "ec1f30fb",
   "metadata": {},
   "outputs": [
    {
     "data": {
      "text/plain": [
       "3"
      ]
     },
     "execution_count": 13,
     "metadata": {},
     "output_type": "execute_result"
    }
   ],
   "source": [
    "round(3.4)"
   ]
  },
  {
   "cell_type": "code",
   "execution_count": 14,
   "id": "7912df8e",
   "metadata": {},
   "outputs": [
    {
     "data": {
      "text/plain": [
       "3.14"
      ]
     },
     "execution_count": 14,
     "metadata": {},
     "output_type": "execute_result"
    }
   ],
   "source": [
    "round(22/7,2)"
   ]
  },
  {
   "cell_type": "code",
   "execution_count": 15,
   "id": "c82ed5c3",
   "metadata": {
    "scrolled": true
   },
   "outputs": [
    {
     "data": {
      "text/plain": [
       "3.143"
      ]
     },
     "execution_count": 15,
     "metadata": {},
     "output_type": "execute_result"
    }
   ],
   "source": [
    "round(22/7,3)"
   ]
  },
  {
   "cell_type": "markdown",
   "id": "78008a2d",
   "metadata": {},
   "source": [
    "<h1 style=\"font-size:30px; color:blue\">9. divmod()</h1>"
   ]
  },
  {
   "cell_type": "code",
   "execution_count": 16,
   "id": "0e1348a7",
   "metadata": {},
   "outputs": [
    {
     "data": {
      "text/plain": [
       "(1, 1)"
      ]
     },
     "execution_count": 16,
     "metadata": {},
     "output_type": "execute_result"
    }
   ],
   "source": [
    "divmod(3,2) #return the tuple ( x//y , x%y )"
   ]
  },
  {
   "cell_type": "markdown",
   "id": "9398bef3",
   "metadata": {},
   "source": [
    "<h1 style=\"font-size:30px; color:blue\">10. bin/oct/hex</h1>"
   ]
  },
  {
   "cell_type": "code",
   "execution_count": 17,
   "id": "83ce7345",
   "metadata": {},
   "outputs": [
    {
     "data": {
      "text/plain": [
       "'0b11'"
      ]
     },
     "execution_count": 17,
     "metadata": {},
     "output_type": "execute_result"
    }
   ],
   "source": [
    "bin(3)"
   ]
  },
  {
   "cell_type": "code",
   "execution_count": 18,
   "id": "8d4bfbef",
   "metadata": {},
   "outputs": [
    {
     "data": {
      "text/plain": [
       "'0o3'"
      ]
     },
     "execution_count": 18,
     "metadata": {},
     "output_type": "execute_result"
    }
   ],
   "source": [
    "oct(3)"
   ]
  },
  {
   "cell_type": "code",
   "execution_count": 19,
   "id": "0f609367",
   "metadata": {},
   "outputs": [
    {
     "data": {
      "text/plain": [
       "'0x3'"
      ]
     },
     "execution_count": 19,
     "metadata": {},
     "output_type": "execute_result"
    }
   ],
   "source": [
    "hex(3)"
   ]
  },
  {
   "cell_type": "markdown",
   "id": "1c74787d",
   "metadata": {},
   "source": [
    "<h1 style=\"font-size:30px; color:blue\">11. id()</h1>"
   ]
  },
  {
   "cell_type": "code",
   "execution_count": 20,
   "id": "d23dd86b",
   "metadata": {},
   "outputs": [
    {
     "data": {
      "text/plain": [
       "139673896389296"
      ]
     },
     "execution_count": 20,
     "metadata": {},
     "output_type": "execute_result"
    }
   ],
   "source": [
    "# 11\n",
    "# id --> it is used to check the address of variable in memory\n",
    "a = 13\n",
    "id(a)"
   ]
  },
  {
   "cell_type": "markdown",
   "id": "a604becb",
   "metadata": {},
   "source": [
    "<h1 style=\"font-size:30px; color:blue\">12. ord</h1>"
   ]
  },
  {
   "cell_type": "code",
   "execution_count": 21,
   "id": "77aa362f",
   "metadata": {},
   "outputs": [
    {
     "data": {
      "text/plain": [
       "97"
      ]
     },
     "execution_count": 21,
     "metadata": {},
     "output_type": "execute_result"
    }
   ],
   "source": [
    "# ord --> used to provide ascii values\n",
    "ord('a')"
   ]
  },
  {
   "cell_type": "markdown",
   "id": "aed96a8e",
   "metadata": {},
   "source": [
    "<h1 style=\"font-size:30px; color:blue\">13. len</h1>"
   ]
  },
  {
   "cell_type": "code",
   "execution_count": 22,
   "id": "a7776425",
   "metadata": {},
   "outputs": [
    {
     "data": {
      "text/plain": [
       "7"
      ]
     },
     "execution_count": 22,
     "metadata": {},
     "output_type": "execute_result"
    }
   ],
   "source": [
    "len(\"kolkata\")"
   ]
  },
  {
   "cell_type": "code",
   "execution_count": 23,
   "id": "91ae546c",
   "metadata": {},
   "outputs": [
    {
     "data": {
      "text/plain": [
       "3"
      ]
     },
     "execution_count": 23,
     "metadata": {},
     "output_type": "execute_result"
    }
   ],
   "source": [
    "len([1,2,3])"
   ]
  },
  {
   "cell_type": "code",
   "execution_count": 24,
   "id": "af20b9d5",
   "metadata": {},
   "outputs": [
    {
     "data": {
      "text/plain": [
       "3"
      ]
     },
     "execution_count": 24,
     "metadata": {},
     "output_type": "execute_result"
    }
   ],
   "source": [
    "len((1,2,4))"
   ]
  },
  {
   "cell_type": "markdown",
   "id": "1621d317",
   "metadata": {},
   "source": [
    "<h1 style=\"font-size:30px; color:blue\">14. sum()</h1>"
   ]
  },
  {
   "cell_type": "code",
   "execution_count": 25,
   "id": "1bcdb876",
   "metadata": {},
   "outputs": [
    {
     "data": {
      "text/plain": [
       "10"
      ]
     },
     "execution_count": 25,
     "metadata": {},
     "output_type": "execute_result"
    }
   ],
   "source": [
    "sum([1,2,3,4])"
   ]
  },
  {
   "cell_type": "code",
   "execution_count": 26,
   "id": "36041783",
   "metadata": {},
   "outputs": [
    {
     "data": {
      "text/plain": [
       "10"
      ]
     },
     "execution_count": 26,
     "metadata": {},
     "output_type": "execute_result"
    }
   ],
   "source": [
    "sum({1,2,4,3})"
   ]
  },
  {
   "cell_type": "markdown",
   "id": "ff86dafc",
   "metadata": {},
   "source": [
    "<h1 style=\"font-size:30px; color:blue\">15. help()</h1>"
   ]
  },
  {
   "cell_type": "code",
   "execution_count": 27,
   "id": "ec245234",
   "metadata": {},
   "outputs": [
    {
     "name": "stdout",
     "output_type": "stream",
     "text": [
      "Help on built-in function print in module builtins:\n",
      "\n",
      "print(...)\n",
      "    print(value, ..., sep=' ', end='\\n', file=sys.stdout, flush=False)\n",
      "    \n",
      "    Prints the values to a stream, or to sys.stdout by default.\n",
      "    Optional keyword arguments:\n",
      "    file:  a file-like object (stream); defaults to the current sys.stdout.\n",
      "    sep:   string inserted between values, default a space.\n",
      "    end:   string appended after the last value, default a newline.\n",
      "    flush: whether to forcibly flush the stream.\n",
      "\n"
     ]
    }
   ],
   "source": [
    "# 15\n",
    "help('print')"
   ]
  },
  {
   "cell_type": "code",
   "execution_count": null,
   "id": "a1ea6239",
   "metadata": {},
   "outputs": [],
   "source": []
  }
 ],
 "metadata": {
  "kernelspec": {
   "display_name": "Python 3 (ipykernel)",
   "language": "python",
   "name": "python3"
  },
  "language_info": {
   "codemirror_mode": {
    "name": "ipython",
    "version": 3
   },
   "file_extension": ".py",
   "mimetype": "text/x-python",
   "name": "python",
   "nbconvert_exporter": "python",
   "pygments_lexer": "ipython3",
   "version": "3.9.13"
  }
 },
 "nbformat": 4,
 "nbformat_minor": 5
}
