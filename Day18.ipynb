{
 "cells": [
  {
   "cell_type": "markdown",
   "id": "3cfd5d66",
   "metadata": {},
   "source": [
    "<h1 style=\"font-size:50px; color:red\">Variable and Memory references</h1>"
   ]
  },
  {
   "cell_type": "markdown",
   "id": "97ef88ec",
   "metadata": {},
   "source": [
    "### variable take memory in RAM, RAM made by registers, registers made by flipflops, flipflop made by logic gate, logic gate made by diode "
   ]
  },
  {
   "cell_type": "markdown",
   "id": "b54ae5b3",
   "metadata": {},
   "source": [
    "### python calls variable as name"
   ]
  },
  {
   "cell_type": "code",
   "execution_count": 3,
   "id": "7a3f55a0",
   "metadata": {},
   "outputs": [
    {
     "ename": "NameError",
     "evalue": "name 'a' is not defined",
     "output_type": "error",
     "traceback": [
      "\u001b[0;31m---------------------------------------------------------------------------\u001b[0m",
      "\u001b[0;31mNameError\u001b[0m                                 Traceback (most recent call last)",
      "\u001b[0;32m/tmp/ipykernel_22451/2167009006.py\u001b[0m in \u001b[0;36m<module>\u001b[0;34m\u001b[0m\n\u001b[0;32m----> 1\u001b[0;31m \u001b[0ma\u001b[0m\u001b[0;34m\u001b[0m\u001b[0;34m\u001b[0m\u001b[0m\n\u001b[0m",
      "\u001b[0;31mNameError\u001b[0m: name 'a' is not defined"
     ]
    }
   ],
   "source": [
    "a"
   ]
  },
  {
   "cell_type": "code",
   "execution_count": 4,
   "id": "192c2239",
   "metadata": {},
   "outputs": [],
   "source": [
    "# you can see ( NameError: name 'a' is not defined )"
   ]
  },
  {
   "cell_type": "code",
   "execution_count": 5,
   "id": "2de9bce9",
   "metadata": {},
   "outputs": [
    {
     "data": {
      "text/plain": [
       "'0x7f2c26459990'"
      ]
     },
     "execution_count": 5,
     "metadata": {},
     "output_type": "execute_result"
    }
   ],
   "source": [
    "a = 4\n",
    "hex(id(a)) # this is the location where 4 store in my system"
   ]
  },
  {
   "cell_type": "code",
   "execution_count": 6,
   "id": "8d668b43",
   "metadata": {},
   "outputs": [
    {
     "data": {
      "text/plain": [
       "'0x7f2c26459990'"
      ]
     },
     "execution_count": 6,
     "metadata": {},
     "output_type": "execute_result"
    }
   ],
   "source": [
    "hex(id(4))"
   ]
  },
  {
   "cell_type": "markdown",
   "id": "2fc3fcbd",
   "metadata": {},
   "source": [
    "<h1 style=\"font-size:30px; color:blue\">Aliasing</h1>"
   ]
  },
  {
   "cell_type": "code",
   "execution_count": 8,
   "id": "5382fb47",
   "metadata": {},
   "outputs": [
    {
     "data": {
      "text/plain": [
       "139827597384080"
      ]
     },
     "execution_count": 8,
     "metadata": {},
     "output_type": "execute_result"
    }
   ],
   "source": [
    "a = 4\n",
    "b = a\n",
    "id(a) # a and b both pointing to the same location"
   ]
  },
  {
   "cell_type": "code",
   "execution_count": 9,
   "id": "6420b338",
   "metadata": {},
   "outputs": [
    {
     "data": {
      "text/plain": [
       "139827597384080"
      ]
     },
     "execution_count": 9,
     "metadata": {},
     "output_type": "execute_result"
    }
   ],
   "source": [
    "id(b)"
   ]
  },
  {
   "cell_type": "code",
   "execution_count": 10,
   "id": "b8dc00d1",
   "metadata": {},
   "outputs": [
    {
     "data": {
      "text/plain": [
       "5"
      ]
     },
     "execution_count": 10,
     "metadata": {},
     "output_type": "execute_result"
    }
   ],
   "source": [
    "a = 5\n",
    "b = a\n",
    "a"
   ]
  },
  {
   "cell_type": "code",
   "execution_count": 12,
   "id": "b3beab19",
   "metadata": {},
   "outputs": [
    {
     "data": {
      "text/plain": [
       "5"
      ]
     },
     "execution_count": 12,
     "metadata": {},
     "output_type": "execute_result"
    }
   ],
   "source": [
    "b"
   ]
  },
  {
   "cell_type": "code",
   "execution_count": 14,
   "id": "0e83f1b6",
   "metadata": {},
   "outputs": [
    {
     "data": {
      "text/plain": [
       "6"
      ]
     },
     "execution_count": 14,
     "metadata": {},
     "output_type": "execute_result"
    }
   ],
   "source": [
    "a=6\n",
    "a"
   ]
  },
  {
   "cell_type": "code",
   "execution_count": 15,
   "id": "2e7f6192",
   "metadata": {},
   "outputs": [
    {
     "data": {
      "text/plain": [
       "5"
      ]
     },
     "execution_count": 15,
     "metadata": {},
     "output_type": "execute_result"
    }
   ],
   "source": [
    "b"
   ]
  },
  {
   "cell_type": "markdown",
   "id": "9f7b52bb",
   "metadata": {},
   "source": [
    "<h1 style=\"font-size:30px; color: blue\">reference counting</h1>"
   ]
  },
  {
   "cell_type": "markdown",
   "id": "61660aed",
   "metadata": {},
   "source": [
    "### if you want to know how many variable pointing to same memory location in python then you can count it."
   ]
  },
  {
   "cell_type": "code",
   "execution_count": 17,
   "id": "063d6aa7",
   "metadata": {},
   "outputs": [],
   "source": [
    "import sys"
   ]
  },
  {
   "cell_type": "code",
   "execution_count": 18,
   "id": "9aa87e9a",
   "metadata": {},
   "outputs": [
    {
     "data": {
      "text/plain": [
       "139827498624368"
      ]
     },
     "execution_count": 18,
     "metadata": {},
     "output_type": "execute_result"
    }
   ],
   "source": [
    "a=\"corona\"\n",
    "b=a\n",
    "c=b\n",
    "id(a)"
   ]
  },
  {
   "cell_type": "code",
   "execution_count": 19,
   "id": "166ac2cb",
   "metadata": {},
   "outputs": [
    {
     "data": {
      "text/plain": [
       "139827498624368"
      ]
     },
     "execution_count": 19,
     "metadata": {},
     "output_type": "execute_result"
    }
   ],
   "source": [
    "id(b)"
   ]
  },
  {
   "cell_type": "code",
   "execution_count": 20,
   "id": "885c4d58",
   "metadata": {},
   "outputs": [
    {
     "data": {
      "text/plain": [
       "139827498624368"
      ]
     },
     "execution_count": 20,
     "metadata": {},
     "output_type": "execute_result"
    }
   ],
   "source": [
    "id(c)"
   ]
  },
  {
   "cell_type": "code",
   "execution_count": 23,
   "id": "5497dec1",
   "metadata": {},
   "outputs": [
    {
     "data": {
      "text/plain": [
       "4"
      ]
     },
     "execution_count": 23,
     "metadata": {},
     "output_type": "execute_result"
    }
   ],
   "source": [
    "# it will count itself also\n",
    "sys.getrefcount(a)"
   ]
  },
  {
   "cell_type": "markdown",
   "id": "7161e9c1",
   "metadata": {},
   "source": [
    "<h1 style=\"font-size:30px; color:blue\">Garbage Collection</h1>"
   ]
  },
  {
   "cell_type": "markdown",
   "id": "8d538622",
   "metadata": {},
   "source": [
    "<p>Garbage collection in Python is a built-in feature that cleans up unnecessary memory in your program. It keeps track of objects and frees up memory for objects that are no longer needed. It does this by counting how many times an object is being used. When no one is using an object anymore, the garbage collector comes and cleans it up. This helps ensure efficient memory usage and prevents memory leaks.</p>"
   ]
  },
  {
   "cell_type": "markdown",
   "id": "61fcded9",
   "metadata": {},
   "source": [
    "<h1 style=\"font-size:30px; color:blue\">Weird Stuff</h1>"
   ]
  },
  {
   "cell_type": "code",
   "execution_count": 25,
   "id": "4af9de1c",
   "metadata": {},
   "outputs": [
    {
     "data": {
      "text/plain": [
       "1491"
      ]
     },
     "execution_count": 25,
     "metadata": {},
     "output_type": "execute_result"
    }
   ],
   "source": [
    "a=2\n",
    "b=a\n",
    "c=b\n",
    "sys.getrefcount(a)"
   ]
  },
  {
   "cell_type": "code",
   "execution_count": 26,
   "id": "75f64413",
   "metadata": {},
   "outputs": [],
   "source": [
    "# software optimization\n",
    "# -5 to 256"
   ]
  },
  {
   "cell_type": "code",
   "execution_count": 27,
   "id": "12958fa0",
   "metadata": {},
   "outputs": [],
   "source": [
    "a = 2\n",
    "b = 2"
   ]
  },
  {
   "cell_type": "code",
   "execution_count": 29,
   "id": "d558be73",
   "metadata": {},
   "outputs": [
    {
     "data": {
      "text/plain": [
       "139827597384016"
      ]
     },
     "execution_count": 29,
     "metadata": {},
     "output_type": "execute_result"
    }
   ],
   "source": [
    "id(a)"
   ]
  },
  {
   "cell_type": "code",
   "execution_count": 30,
   "id": "b157b4c4",
   "metadata": {},
   "outputs": [
    {
     "data": {
      "text/plain": [
       "139827597384016"
      ]
     },
     "execution_count": 30,
     "metadata": {},
     "output_type": "execute_result"
    }
   ],
   "source": [
    "id(b)"
   ]
  },
  {
   "cell_type": "code",
   "execution_count": 31,
   "id": "fff58f0c",
   "metadata": {},
   "outputs": [],
   "source": [
    "a = -5\n",
    "b = -5"
   ]
  },
  {
   "cell_type": "code",
   "execution_count": 32,
   "id": "f206390a",
   "metadata": {},
   "outputs": [
    {
     "data": {
      "text/plain": [
       "139827597383792"
      ]
     },
     "execution_count": 32,
     "metadata": {},
     "output_type": "execute_result"
    }
   ],
   "source": [
    "id(a)"
   ]
  },
  {
   "cell_type": "code",
   "execution_count": 33,
   "id": "e404bcc7",
   "metadata": {},
   "outputs": [
    {
     "data": {
      "text/plain": [
       "139827597383792"
      ]
     },
     "execution_count": 33,
     "metadata": {},
     "output_type": "execute_result"
    }
   ],
   "source": [
    "id(a)"
   ]
  },
  {
   "cell_type": "code",
   "execution_count": 34,
   "id": "9c60deab",
   "metadata": {},
   "outputs": [],
   "source": [
    "a = -6\n",
    "b = -6"
   ]
  },
  {
   "cell_type": "code",
   "execution_count": 35,
   "id": "86cff5c9",
   "metadata": {},
   "outputs": [
    {
     "data": {
      "text/plain": [
       "139827498109136"
      ]
     },
     "execution_count": 35,
     "metadata": {},
     "output_type": "execute_result"
    }
   ],
   "source": [
    "id(a)"
   ]
  },
  {
   "cell_type": "code",
   "execution_count": 36,
   "id": "9d4fe872",
   "metadata": {},
   "outputs": [
    {
     "data": {
      "text/plain": [
       "139827498108464"
      ]
     },
     "execution_count": 36,
     "metadata": {},
     "output_type": "execute_result"
    }
   ],
   "source": [
    "id(b)"
   ]
  },
  {
   "cell_type": "code",
   "execution_count": 37,
   "id": "38c3c3e9",
   "metadata": {},
   "outputs": [],
   "source": [
    "a = 257\n",
    "b = 257"
   ]
  },
  {
   "cell_type": "code",
   "execution_count": 38,
   "id": "ad9f705d",
   "metadata": {},
   "outputs": [
    {
     "data": {
      "text/plain": [
       "139827498109040"
      ]
     },
     "execution_count": 38,
     "metadata": {},
     "output_type": "execute_result"
    }
   ],
   "source": [
    "id(a)"
   ]
  },
  {
   "cell_type": "code",
   "execution_count": 39,
   "id": "24d19f7a",
   "metadata": {},
   "outputs": [
    {
     "data": {
      "text/plain": [
       "139827498109264"
      ]
     },
     "execution_count": 39,
     "metadata": {},
     "output_type": "execute_result"
    }
   ],
   "source": [
    "id(b)"
   ]
  },
  {
   "cell_type": "code",
   "execution_count": 40,
   "id": "c6acb33c",
   "metadata": {},
   "outputs": [],
   "source": [
    "a = 256\n",
    "b = 256"
   ]
  },
  {
   "cell_type": "code",
   "execution_count": 41,
   "id": "74b05de2",
   "metadata": {},
   "outputs": [
    {
     "data": {
      "text/plain": [
       "139827597580688"
      ]
     },
     "execution_count": 41,
     "metadata": {},
     "output_type": "execute_result"
    }
   ],
   "source": [
    "id(a)"
   ]
  },
  {
   "cell_type": "code",
   "execution_count": 42,
   "id": "bb46efd5",
   "metadata": {},
   "outputs": [
    {
     "data": {
      "text/plain": [
       "139827597580688"
      ]
     },
     "execution_count": 42,
     "metadata": {},
     "output_type": "execute_result"
    }
   ],
   "source": [
    "id(b)"
   ]
  },
  {
   "cell_type": "code",
   "execution_count": 43,
   "id": "fe87cc8a",
   "metadata": {},
   "outputs": [],
   "source": [
    "a = \"tushar\"\n",
    "b = \"tushar\""
   ]
  },
  {
   "cell_type": "code",
   "execution_count": 44,
   "id": "85d477c8",
   "metadata": {},
   "outputs": [
    {
     "data": {
      "text/plain": [
       "139827498161328"
      ]
     },
     "execution_count": 44,
     "metadata": {},
     "output_type": "execute_result"
    }
   ],
   "source": [
    "id(a)"
   ]
  },
  {
   "cell_type": "code",
   "execution_count": 45,
   "id": "07f6f128",
   "metadata": {},
   "outputs": [
    {
     "data": {
      "text/plain": [
       "139827498161328"
      ]
     },
     "execution_count": 45,
     "metadata": {},
     "output_type": "execute_result"
    }
   ],
   "source": [
    "id(b)"
   ]
  },
  {
   "cell_type": "code",
   "execution_count": 46,
   "id": "da84161f",
   "metadata": {},
   "outputs": [],
   "source": [
    "a = \"tushar gupta\"\n",
    "b = \"tushar gupta\""
   ]
  },
  {
   "cell_type": "code",
   "execution_count": 47,
   "id": "a4a2b251",
   "metadata": {},
   "outputs": [
    {
     "data": {
      "text/plain": [
       "139827498168816"
      ]
     },
     "execution_count": 47,
     "metadata": {},
     "output_type": "execute_result"
    }
   ],
   "source": [
    "id(a)"
   ]
  },
  {
   "cell_type": "code",
   "execution_count": 48,
   "id": "bc0b9ae2",
   "metadata": {},
   "outputs": [
    {
     "data": {
      "text/plain": [
       "139827498172144"
      ]
     },
     "execution_count": 48,
     "metadata": {},
     "output_type": "execute_result"
    }
   ],
   "source": [
    "id(b)"
   ]
  },
  {
   "cell_type": "code",
   "execution_count": 49,
   "id": "267faf1d",
   "metadata": {},
   "outputs": [],
   "source": [
    "a = \"tushar_gupta\"\n",
    "b = \"tushar_gupta\""
   ]
  },
  {
   "cell_type": "code",
   "execution_count": 50,
   "id": "70b0435f",
   "metadata": {},
   "outputs": [
    {
     "data": {
      "text/plain": [
       "139827498171440"
      ]
     },
     "execution_count": 50,
     "metadata": {},
     "output_type": "execute_result"
    }
   ],
   "source": [
    "id(a)"
   ]
  },
  {
   "cell_type": "code",
   "execution_count": 51,
   "id": "a1924612",
   "metadata": {},
   "outputs": [
    {
     "data": {
      "text/plain": [
       "139827498171440"
      ]
     },
     "execution_count": 51,
     "metadata": {},
     "output_type": "execute_result"
    }
   ],
   "source": [
    "id(b)"
   ]
  },
  {
   "cell_type": "code",
   "execution_count": 52,
   "id": "d4f65073",
   "metadata": {},
   "outputs": [],
   "source": [
    "#This string weird behaviour because when your string is valid identifier then in that case variables point to same memory location but when string is not valid identifier then in that case variable point to diffrent memory locations"
   ]
  },
  {
   "cell_type": "markdown",
   "id": "0fc65def",
   "metadata": {},
   "source": [
    "<h1 style=\"font-size:30px; color:blue\">how list store in python</h1>"
   ]
  },
  {
   "cell_type": "code",
   "execution_count": 54,
   "id": "f6fe01e6",
   "metadata": {},
   "outputs": [
    {
     "data": {
      "text/plain": [
       "139827498639936"
      ]
     },
     "execution_count": 54,
     "metadata": {},
     "output_type": "execute_result"
    }
   ],
   "source": [
    "l = [1,2,3]\n",
    "id(l)"
   ]
  },
  {
   "cell_type": "code",
   "execution_count": 55,
   "id": "fbcfa18c",
   "metadata": {},
   "outputs": [
    {
     "data": {
      "text/plain": [
       "139827597383984"
      ]
     },
     "execution_count": 55,
     "metadata": {},
     "output_type": "execute_result"
    }
   ],
   "source": [
    "id(l[0]) # this will store at first index of list and at this memory location 1 will store"
   ]
  },
  {
   "cell_type": "code",
   "execution_count": 56,
   "id": "e7511254",
   "metadata": {},
   "outputs": [
    {
     "data": {
      "text/plain": [
       "139827597384016"
      ]
     },
     "execution_count": 56,
     "metadata": {},
     "output_type": "execute_result"
    }
   ],
   "source": [
    "id(l[1])  # this will store at second index of list and at this memory location 2 will store"
   ]
  },
  {
   "cell_type": "code",
   "execution_count": 59,
   "id": "0a376f33",
   "metadata": {},
   "outputs": [
    {
     "data": {
      "text/plain": [
       "139827597384048"
      ]
     },
     "execution_count": 59,
     "metadata": {},
     "output_type": "execute_result"
    }
   ],
   "source": [
    "id(l[2]) # this will store at thirdand at this memory location 3 will store index of list"
   ]
  },
  {
   "cell_type": "markdown",
   "id": "935d75bc",
   "metadata": {},
   "source": [
    "<h1 style=\"font-size:30px; color:blue\">Mutability</h1>"
   ]
  },
  {
   "cell_type": "markdown",
   "id": "3305e797",
   "metadata": {},
   "source": [
    "### mutability refers to the ability to change or edit data in its memory location"
   ]
  },
  {
   "cell_type": "raw",
   "id": "bd30e58a",
   "metadata": {},
   "source": [
    "Immutable Data Types\n",
    "1.String\n",
    "2.int\n",
    "3.float\n",
    "4.bool\n",
    "5.complex\n",
    "6.tuple\n",
    "\n",
    "Mutable Data Types\n",
    "1.list\n",
    "2.dict\n",
    "3.set"
   ]
  },
  {
   "cell_type": "code",
   "execution_count": 60,
   "id": "b7c841bb",
   "metadata": {},
   "outputs": [
    {
     "data": {
      "text/plain": [
       "139827553909248"
      ]
     },
     "execution_count": 60,
     "metadata": {},
     "output_type": "execute_result"
    }
   ],
   "source": [
    "t = (1,2,3)\n",
    "id(t)"
   ]
  },
  {
   "cell_type": "code",
   "execution_count": 64,
   "id": "772939ad",
   "metadata": {},
   "outputs": [
    {
     "data": {
      "text/plain": [
       "139827498194480"
      ]
     },
     "execution_count": 64,
     "metadata": {},
     "output_type": "execute_result"
    }
   ],
   "source": [
    "t = t+(4,)\n",
    "id(t)"
   ]
  },
  {
   "cell_type": "code",
   "execution_count": 70,
   "id": "7ab6983b",
   "metadata": {},
   "outputs": [
    {
     "data": {
      "text/plain": [
       "139827498171904"
      ]
     },
     "execution_count": 70,
     "metadata": {},
     "output_type": "execute_result"
    }
   ],
   "source": [
    "l =[1,2,3]\n",
    "id(l)"
   ]
  },
  {
   "cell_type": "code",
   "execution_count": 71,
   "id": "8326953f",
   "metadata": {},
   "outputs": [
    {
     "data": {
      "text/plain": [
       "139827498171904"
      ]
     },
     "execution_count": 71,
     "metadata": {},
     "output_type": "execute_result"
    }
   ],
   "source": [
    "l.append(4)\n",
    "id(l)"
   ]
  },
  {
   "cell_type": "markdown",
   "id": "0b70967a",
   "metadata": {},
   "source": [
    "<h1 style=\"font-size:30px; color:blue\">Problem with mutability</h1>"
   ]
  },
  {
   "cell_type": "code",
   "execution_count": 75,
   "id": "2910bcd4",
   "metadata": {},
   "outputs": [],
   "source": [
    "l1 = [1,2,3]\n",
    "l2 = l1"
   ]
  },
  {
   "cell_type": "code",
   "execution_count": 76,
   "id": "8b9a0236",
   "metadata": {},
   "outputs": [
    {
     "data": {
      "text/plain": [
       "[1, 2, 3, 4]"
      ]
     },
     "execution_count": 76,
     "metadata": {},
     "output_type": "execute_result"
    }
   ],
   "source": [
    "l2.append(4)\n",
    "l2"
   ]
  },
  {
   "cell_type": "code",
   "execution_count": 77,
   "id": "c473182b",
   "metadata": {},
   "outputs": [
    {
     "data": {
      "text/plain": [
       "[1, 2, 3, 4]"
      ]
     },
     "execution_count": 77,
     "metadata": {},
     "output_type": "execute_result"
    }
   ],
   "source": [
    "l1 # I change the l2 but changes also reflect me in l1 also this is the problem of mutability "
   ]
  },
  {
   "cell_type": "markdown",
   "id": "259bf993",
   "metadata": {},
   "source": [
    "<h1 style=\"font-size:30px; color:blue\">Cloning</h1>"
   ]
  },
  {
   "cell_type": "code",
   "execution_count": 78,
   "id": "e683dbad",
   "metadata": {},
   "outputs": [],
   "source": [
    "# it will protect you from mutability problem \n",
    "l1 = [1,2,3,4]\n",
    "l2 = l1[:]"
   ]
  },
  {
   "cell_type": "code",
   "execution_count": 79,
   "id": "e2a4f6ff",
   "metadata": {},
   "outputs": [],
   "source": [
    "l2.append(5)"
   ]
  },
  {
   "cell_type": "code",
   "execution_count": 80,
   "id": "ac4e0094",
   "metadata": {},
   "outputs": [
    {
     "data": {
      "text/plain": [
       "[1, 2, 3, 4, 5]"
      ]
     },
     "execution_count": 80,
     "metadata": {},
     "output_type": "execute_result"
    }
   ],
   "source": [
    "l2"
   ]
  },
  {
   "cell_type": "code",
   "execution_count": 81,
   "id": "20c91edb",
   "metadata": {},
   "outputs": [
    {
     "data": {
      "text/plain": [
       "[1, 2, 3, 4]"
      ]
     },
     "execution_count": 81,
     "metadata": {},
     "output_type": "execute_result"
    }
   ],
   "source": [
    "l1"
   ]
  },
  {
   "cell_type": "code",
   "execution_count": null,
   "id": "8600c12d",
   "metadata": {},
   "outputs": [],
   "source": []
  }
 ],
 "metadata": {
  "kernelspec": {
   "display_name": "Python 3 (ipykernel)",
   "language": "python",
   "name": "python3"
  },
  "language_info": {
   "codemirror_mode": {
    "name": "ipython",
    "version": 3
   },
   "file_extension": ".py",
   "mimetype": "text/x-python",
   "name": "python",
   "nbconvert_exporter": "python",
   "pygments_lexer": "ipython3",
   "version": "3.9.13"
  }
 },
 "nbformat": 4,
 "nbformat_minor": 5
}
